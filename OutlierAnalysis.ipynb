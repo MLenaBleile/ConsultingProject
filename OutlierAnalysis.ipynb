{
 "cells": [
  {
   "cell_type": "code",
   "execution_count": 100,
   "metadata": {},
   "outputs": [],
   "source": [
    "import scipy\n",
    "#import pytrends\n",
    "#from pytrends.request import TrendReq\n",
    "from numpy import random\n",
    "import matplotlib.pyplot as plt\n",
    "from scipy import optimize\n",
    "import sys\n",
    "import time\n",
    "import pandas as pd\n",
    "import seaborn as sns\n",
    "import numpy as np\n",
    "from pandas.io.json import json_normalize\n",
    "import json\n",
    "from datetime import datetime, timedelta\n",
    "from county_spending import get_county_spending, spend_county_state_map, us_state_abbrev, abbrev_us_state\n",
    "from ACS_data import colname_mask\n",
    "import re\n",
    "import pickle\n",
    "\n",
    "pd.set_option('display.max_columns', None)"
   ]
  },
  {
   "cell_type": "code",
   "execution_count": 87,
   "metadata": {},
   "outputs": [],
   "source": [
    "import os\n",
    "os.chdir('/home/marylena/Documents/ConsultingProject')\n",
    "county_spending=get_county_spending()\n",
    "#df = pd.read_pickle('merged_df.pkl')\n",
    "#df.head()\n"
   ]
  },
  {
   "cell_type": "code",
   "execution_count": 88,
   "metadata": {},
   "outputs": [
    {
     "data": {
      "text/html": [
       "<div>\n",
       "<style scoped>\n",
       "    .dataframe tbody tr th:only-of-type {\n",
       "        vertical-align: middle;\n",
       "    }\n",
       "\n",
       "    .dataframe tbody tr th {\n",
       "        vertical-align: top;\n",
       "    }\n",
       "\n",
       "    .dataframe thead th {\n",
       "        text-align: right;\n",
       "    }\n",
       "</style>\n",
       "<table border=\"1\" class=\"dataframe\">\n",
       "  <thead>\n",
       "    <tr style=\"text-align: right;\">\n",
       "      <th></th>\n",
       "      <th>amount</th>\n",
       "      <th>award_count</th>\n",
       "      <th>display_name</th>\n",
       "      <th>per_capita</th>\n",
       "      <th>population</th>\n",
       "      <th>shape_code</th>\n",
       "      <th>county_name</th>\n",
       "    </tr>\n",
       "  </thead>\n",
       "  <tbody>\n",
       "    <tr>\n",
       "      <th>0</th>\n",
       "      <td>3.732767e+10</td>\n",
       "      <td>801724</td>\n",
       "      <td>Los Angeles</td>\n",
       "      <td>3718.23</td>\n",
       "      <td>10039107.0</td>\n",
       "      <td>06037</td>\n",
       "      <td>Los Angeles County</td>\n",
       "    </tr>\n",
       "    <tr>\n",
       "      <th>1</th>\n",
       "      <td>1.025893e+10</td>\n",
       "      <td>449512</td>\n",
       "      <td>Miami-Dade</td>\n",
       "      <td>3775.91</td>\n",
       "      <td>2716940.0</td>\n",
       "      <td>12086</td>\n",
       "      <td>Miami-Dade County</td>\n",
       "    </tr>\n",
       "    <tr>\n",
       "      <th>2</th>\n",
       "      <td>2.936372e+10</td>\n",
       "      <td>440456</td>\n",
       "      <td>Cook</td>\n",
       "      <td>5701.44</td>\n",
       "      <td>5150233.0</td>\n",
       "      <td>17031</td>\n",
       "      <td>Cook County</td>\n",
       "    </tr>\n",
       "    <tr>\n",
       "      <th>3</th>\n",
       "      <td>1.508957e+10</td>\n",
       "      <td>302025</td>\n",
       "      <td>Harris</td>\n",
       "      <td>3201.47</td>\n",
       "      <td>4713325.0</td>\n",
       "      <td>48201</td>\n",
       "      <td>Harris County</td>\n",
       "    </tr>\n",
       "    <tr>\n",
       "      <th>4</th>\n",
       "      <td>7.474199e+09</td>\n",
       "      <td>244142</td>\n",
       "      <td>Broward</td>\n",
       "      <td>3827.47</td>\n",
       "      <td>1952778.0</td>\n",
       "      <td>12011</td>\n",
       "      <td>Broward County</td>\n",
       "    </tr>\n",
       "  </tbody>\n",
       "</table>\n",
       "</div>"
      ],
      "text/plain": [
       "         amount  award_count display_name  per_capita  population shape_code  \\\n",
       "0  3.732767e+10       801724  Los Angeles     3718.23  10039107.0      06037   \n",
       "1  1.025893e+10       449512   Miami-Dade     3775.91   2716940.0      12086   \n",
       "2  2.936372e+10       440456         Cook     5701.44   5150233.0      17031   \n",
       "3  1.508957e+10       302025       Harris     3201.47   4713325.0      48201   \n",
       "4  7.474199e+09       244142      Broward     3827.47   1952778.0      12011   \n",
       "\n",
       "          county_name  \n",
       "0  Los Angeles County  \n",
       "1   Miami-Dade County  \n",
       "2         Cook County  \n",
       "3       Harris County  \n",
       "4      Broward County  "
      ]
     },
     "execution_count": 88,
     "metadata": {},
     "output_type": "execute_result"
    }
   ],
   "source": [
    "#county_spending[county_spending['display_name']==None]\n",
    "\n",
    "county_spending['county_name'] = county_spending['display_name'].apply(lambda x: str(x)+\" County\")\n",
    "\n",
    "county_spending.head()"
   ]
  },
  {
   "cell_type": "code",
   "execution_count": 96,
   "metadata": {},
   "outputs": [
    {
     "data": {
      "text/html": [
       "<div>\n",
       "<style scoped>\n",
       "    .dataframe tbody tr th:only-of-type {\n",
       "        vertical-align: middle;\n",
       "    }\n",
       "\n",
       "    .dataframe tbody tr th {\n",
       "        vertical-align: top;\n",
       "    }\n",
       "\n",
       "    .dataframe thead th {\n",
       "        text-align: right;\n",
       "    }\n",
       "</style>\n",
       "<table border=\"1\" class=\"dataframe\">\n",
       "  <thead>\n",
       "    <tr style=\"text-align: right;\">\n",
       "      <th></th>\n",
       "      <th>employed people with 16 yrs and over</th>\n",
       "      <th>unemployed people with 16 yrs and over</th>\n",
       "      <th>people in the labor force</th>\n",
       "      <th>unemployment rate</th>\n",
       "      <th>people with private health insurance</th>\n",
       "      <th>people with public health insurance</th>\n",
       "      <th>people without health insurance</th>\n",
       "      <th>people with a disability</th>\n",
       "      <th>male</th>\n",
       "      <th>female</th>\n",
       "      <th>people that are older than 65</th>\n",
       "      <th>median household income</th>\n",
       "      <th>median age</th>\n",
       "      <th>white</th>\n",
       "      <th>black or african american</th>\n",
       "      <th>american indian and alaska native</th>\n",
       "      <th>asian</th>\n",
       "      <th>native hawaiian and other pacific islander</th>\n",
       "      <th>hispanic or latino</th>\n",
       "      <th>other races</th>\n",
       "      <th>State</th>\n",
       "      <th>county_name</th>\n",
       "      <th>population</th>\n",
       "    </tr>\n",
       "  </thead>\n",
       "  <tbody>\n",
       "    <tr>\n",
       "      <th>Fayette County, Illinois: Summary level: 050, state:17&gt; county:051</th>\n",
       "      <td>8760</td>\n",
       "      <td>525</td>\n",
       "      <td>9285</td>\n",
       "      <td>5.7</td>\n",
       "      <td>11692</td>\n",
       "      <td>9395</td>\n",
       "      <td>1644</td>\n",
       "      <td>3527.0</td>\n",
       "      <td>11469</td>\n",
       "      <td>10096</td>\n",
       "      <td>4058</td>\n",
       "      <td>46650</td>\n",
       "      <td>41.9</td>\n",
       "      <td>20245</td>\n",
       "      <td>1007</td>\n",
       "      <td>68</td>\n",
       "      <td>116</td>\n",
       "      <td>28</td>\n",
       "      <td>403</td>\n",
       "      <td>13</td>\n",
       "      <td>IL</td>\n",
       "      <td>Fayette County</td>\n",
       "      <td>21565</td>\n",
       "    </tr>\n",
       "    <tr>\n",
       "      <th>Logan County, Illinois: Summary level: 050, state:17&gt; county:107</th>\n",
       "      <td>12426</td>\n",
       "      <td>738</td>\n",
       "      <td>13164</td>\n",
       "      <td>5.6</td>\n",
       "      <td>19106</td>\n",
       "      <td>9777</td>\n",
       "      <td>1154</td>\n",
       "      <td>3917.0</td>\n",
       "      <td>14298</td>\n",
       "      <td>14705</td>\n",
       "      <td>5224</td>\n",
       "      <td>57308</td>\n",
       "      <td>40.1</td>\n",
       "      <td>25667</td>\n",
       "      <td>2003</td>\n",
       "      <td>73</td>\n",
       "      <td>218</td>\n",
       "      <td>10</td>\n",
       "      <td>985</td>\n",
       "      <td>230</td>\n",
       "      <td>IL</td>\n",
       "      <td>Logan County</td>\n",
       "      <td>29003</td>\n",
       "    </tr>\n",
       "    <tr>\n",
       "      <th>Saline County, Illinois: Summary level: 050, state:17&gt; county:165</th>\n",
       "      <td>9902</td>\n",
       "      <td>816</td>\n",
       "      <td>10718</td>\n",
       "      <td>7.6</td>\n",
       "      <td>14218</td>\n",
       "      <td>12485</td>\n",
       "      <td>993</td>\n",
       "      <td>5240.0</td>\n",
       "      <td>11807</td>\n",
       "      <td>12187</td>\n",
       "      <td>4785</td>\n",
       "      <td>44090</td>\n",
       "      <td>42.2</td>\n",
       "      <td>22234</td>\n",
       "      <td>632</td>\n",
       "      <td>53</td>\n",
       "      <td>178</td>\n",
       "      <td>54</td>\n",
       "      <td>428</td>\n",
       "      <td>122</td>\n",
       "      <td>IL</td>\n",
       "      <td>Saline County</td>\n",
       "      <td>23994</td>\n",
       "    </tr>\n",
       "    <tr>\n",
       "      <th>Lake County, Illinois: Summary level: 050, state:17&gt; county:097</th>\n",
       "      <td>351926</td>\n",
       "      <td>19357</td>\n",
       "      <td>371283</td>\n",
       "      <td>5.2</td>\n",
       "      <td>519407</td>\n",
       "      <td>186251</td>\n",
       "      <td>46304</td>\n",
       "      <td>62508.0</td>\n",
       "      <td>350466</td>\n",
       "      <td>351007</td>\n",
       "      <td>96339</td>\n",
       "      <td>89427</td>\n",
       "      <td>38.4</td>\n",
       "      <td>531609</td>\n",
       "      <td>47385</td>\n",
       "      <td>2162</td>\n",
       "      <td>54157</td>\n",
       "      <td>285</td>\n",
       "      <td>152141</td>\n",
       "      <td>45309</td>\n",
       "      <td>IL</td>\n",
       "      <td>Lake County</td>\n",
       "      <td>701473</td>\n",
       "    </tr>\n",
       "    <tr>\n",
       "      <th>Massac County, Illinois: Summary level: 050, state:17&gt; county:127</th>\n",
       "      <td>5636</td>\n",
       "      <td>259</td>\n",
       "      <td>5895</td>\n",
       "      <td>4.4</td>\n",
       "      <td>8251</td>\n",
       "      <td>6813</td>\n",
       "      <td>752</td>\n",
       "      <td>2892.0</td>\n",
       "      <td>6714</td>\n",
       "      <td>7505</td>\n",
       "      <td>2962</td>\n",
       "      <td>47481</td>\n",
       "      <td>43.5</td>\n",
       "      <td>12956</td>\n",
       "      <td>830</td>\n",
       "      <td>6</td>\n",
       "      <td>29</td>\n",
       "      <td>0</td>\n",
       "      <td>419</td>\n",
       "      <td>0</td>\n",
       "      <td>IL</td>\n",
       "      <td>Massac County</td>\n",
       "      <td>14219</td>\n",
       "    </tr>\n",
       "  </tbody>\n",
       "</table>\n",
       "</div>"
      ],
      "text/plain": [
       "                                                    employed people with 16 yrs and over  \\\n",
       "Fayette County, Illinois: Summary level: 050, s...                                  8760   \n",
       "Logan County, Illinois: Summary level: 050, sta...                                 12426   \n",
       "Saline County, Illinois: Summary level: 050, st...                                  9902   \n",
       "Lake County, Illinois: Summary level: 050, stat...                                351926   \n",
       "Massac County, Illinois: Summary level: 050, st...                                  5636   \n",
       "\n",
       "                                                    unemployed people with 16 yrs and over  \\\n",
       "Fayette County, Illinois: Summary level: 050, s...                                     525   \n",
       "Logan County, Illinois: Summary level: 050, sta...                                     738   \n",
       "Saline County, Illinois: Summary level: 050, st...                                     816   \n",
       "Lake County, Illinois: Summary level: 050, stat...                                   19357   \n",
       "Massac County, Illinois: Summary level: 050, st...                                     259   \n",
       "\n",
       "                                                    people in the labor force  \\\n",
       "Fayette County, Illinois: Summary level: 050, s...                       9285   \n",
       "Logan County, Illinois: Summary level: 050, sta...                      13164   \n",
       "Saline County, Illinois: Summary level: 050, st...                      10718   \n",
       "Lake County, Illinois: Summary level: 050, stat...                     371283   \n",
       "Massac County, Illinois: Summary level: 050, st...                       5895   \n",
       "\n",
       "                                                    unemployment rate  \\\n",
       "Fayette County, Illinois: Summary level: 050, s...                5.7   \n",
       "Logan County, Illinois: Summary level: 050, sta...                5.6   \n",
       "Saline County, Illinois: Summary level: 050, st...                7.6   \n",
       "Lake County, Illinois: Summary level: 050, stat...                5.2   \n",
       "Massac County, Illinois: Summary level: 050, st...                4.4   \n",
       "\n",
       "                                                    people with private health insurance  \\\n",
       "Fayette County, Illinois: Summary level: 050, s...                                 11692   \n",
       "Logan County, Illinois: Summary level: 050, sta...                                 19106   \n",
       "Saline County, Illinois: Summary level: 050, st...                                 14218   \n",
       "Lake County, Illinois: Summary level: 050, stat...                                519407   \n",
       "Massac County, Illinois: Summary level: 050, st...                                  8251   \n",
       "\n",
       "                                                    people with public health insurance  \\\n",
       "Fayette County, Illinois: Summary level: 050, s...                                 9395   \n",
       "Logan County, Illinois: Summary level: 050, sta...                                 9777   \n",
       "Saline County, Illinois: Summary level: 050, st...                                12485   \n",
       "Lake County, Illinois: Summary level: 050, stat...                               186251   \n",
       "Massac County, Illinois: Summary level: 050, st...                                 6813   \n",
       "\n",
       "                                                    people without health insurance  \\\n",
       "Fayette County, Illinois: Summary level: 050, s...                             1644   \n",
       "Logan County, Illinois: Summary level: 050, sta...                             1154   \n",
       "Saline County, Illinois: Summary level: 050, st...                              993   \n",
       "Lake County, Illinois: Summary level: 050, stat...                            46304   \n",
       "Massac County, Illinois: Summary level: 050, st...                              752   \n",
       "\n",
       "                                                    people with a disability  \\\n",
       "Fayette County, Illinois: Summary level: 050, s...                    3527.0   \n",
       "Logan County, Illinois: Summary level: 050, sta...                    3917.0   \n",
       "Saline County, Illinois: Summary level: 050, st...                    5240.0   \n",
       "Lake County, Illinois: Summary level: 050, stat...                   62508.0   \n",
       "Massac County, Illinois: Summary level: 050, st...                    2892.0   \n",
       "\n",
       "                                                      male  female  \\\n",
       "Fayette County, Illinois: Summary level: 050, s...   11469   10096   \n",
       "Logan County, Illinois: Summary level: 050, sta...   14298   14705   \n",
       "Saline County, Illinois: Summary level: 050, st...   11807   12187   \n",
       "Lake County, Illinois: Summary level: 050, stat...  350466  351007   \n",
       "Massac County, Illinois: Summary level: 050, st...    6714    7505   \n",
       "\n",
       "                                                    people that are older than 65  \\\n",
       "Fayette County, Illinois: Summary level: 050, s...                           4058   \n",
       "Logan County, Illinois: Summary level: 050, sta...                           5224   \n",
       "Saline County, Illinois: Summary level: 050, st...                           4785   \n",
       "Lake County, Illinois: Summary level: 050, stat...                          96339   \n",
       "Massac County, Illinois: Summary level: 050, st...                           2962   \n",
       "\n",
       "                                                    median household income  \\\n",
       "Fayette County, Illinois: Summary level: 050, s...                    46650   \n",
       "Logan County, Illinois: Summary level: 050, sta...                    57308   \n",
       "Saline County, Illinois: Summary level: 050, st...                    44090   \n",
       "Lake County, Illinois: Summary level: 050, stat...                    89427   \n",
       "Massac County, Illinois: Summary level: 050, st...                    47481   \n",
       "\n",
       "                                                    median age   white  \\\n",
       "Fayette County, Illinois: Summary level: 050, s...        41.9   20245   \n",
       "Logan County, Illinois: Summary level: 050, sta...        40.1   25667   \n",
       "Saline County, Illinois: Summary level: 050, st...        42.2   22234   \n",
       "Lake County, Illinois: Summary level: 050, stat...        38.4  531609   \n",
       "Massac County, Illinois: Summary level: 050, st...        43.5   12956   \n",
       "\n",
       "                                                    black or african american  \\\n",
       "Fayette County, Illinois: Summary level: 050, s...                       1007   \n",
       "Logan County, Illinois: Summary level: 050, sta...                       2003   \n",
       "Saline County, Illinois: Summary level: 050, st...                        632   \n",
       "Lake County, Illinois: Summary level: 050, stat...                      47385   \n",
       "Massac County, Illinois: Summary level: 050, st...                        830   \n",
       "\n",
       "                                                    american indian and alaska native  \\\n",
       "Fayette County, Illinois: Summary level: 050, s...                                 68   \n",
       "Logan County, Illinois: Summary level: 050, sta...                                 73   \n",
       "Saline County, Illinois: Summary level: 050, st...                                 53   \n",
       "Lake County, Illinois: Summary level: 050, stat...                               2162   \n",
       "Massac County, Illinois: Summary level: 050, st...                                  6   \n",
       "\n",
       "                                                    asian  \\\n",
       "Fayette County, Illinois: Summary level: 050, s...    116   \n",
       "Logan County, Illinois: Summary level: 050, sta...    218   \n",
       "Saline County, Illinois: Summary level: 050, st...    178   \n",
       "Lake County, Illinois: Summary level: 050, stat...  54157   \n",
       "Massac County, Illinois: Summary level: 050, st...     29   \n",
       "\n",
       "                                                    native hawaiian and other pacific islander  \\\n",
       "Fayette County, Illinois: Summary level: 050, s...                                          28   \n",
       "Logan County, Illinois: Summary level: 050, sta...                                          10   \n",
       "Saline County, Illinois: Summary level: 050, st...                                          54   \n",
       "Lake County, Illinois: Summary level: 050, stat...                                         285   \n",
       "Massac County, Illinois: Summary level: 050, st...                                           0   \n",
       "\n",
       "                                                    hispanic or latino  \\\n",
       "Fayette County, Illinois: Summary level: 050, s...                 403   \n",
       "Logan County, Illinois: Summary level: 050, sta...                 985   \n",
       "Saline County, Illinois: Summary level: 050, st...                 428   \n",
       "Lake County, Illinois: Summary level: 050, stat...              152141   \n",
       "Massac County, Illinois: Summary level: 050, st...                 419   \n",
       "\n",
       "                                                    other races State  \\\n",
       "Fayette County, Illinois: Summary level: 050, s...           13    IL   \n",
       "Logan County, Illinois: Summary level: 050, sta...          230    IL   \n",
       "Saline County, Illinois: Summary level: 050, st...          122    IL   \n",
       "Lake County, Illinois: Summary level: 050, stat...        45309    IL   \n",
       "Massac County, Illinois: Summary level: 050, st...            0    IL   \n",
       "\n",
       "                                                       county_name  population  \n",
       "Fayette County, Illinois: Summary level: 050, s...  Fayette County       21565  \n",
       "Logan County, Illinois: Summary level: 050, sta...    Logan County       29003  \n",
       "Saline County, Illinois: Summary level: 050, st...   Saline County       23994  \n",
       "Lake County, Illinois: Summary level: 050, stat...     Lake County      701473  \n",
       "Massac County, Illinois: Summary level: 050, st...   Massac County       14219  "
      ]
     },
     "execution_count": 96,
     "metadata": {},
     "output_type": "execute_result"
    }
   ],
   "source": [
    "newacs = pd.read_csv('newACS.csv', index_col=0)\n",
    "newacs['State'] = newacs.index\n",
    "newacs['State'] = newacs.State.apply(lambda x: x[x.find(',')+2:])\n",
    "newacs['State'] = newacs.State.apply(lambda x: x[:x.find(':')])\n",
    "newacs['county_name'] = [newacs.index[x].split(\",\")[0] for x in range(len(newacs.index))]\n",
    "\n",
    "newacs['State'] = newacs['State'].apply(lambda x: us_state_abbrev[x] if x in us_state_abbrev.keys() else x)\n",
    "newacs['population'] = newacs['male']+newacs['female']\n",
    "\n",
    "newacs.head()"
   ]
  },
  {
   "cell_type": "code",
   "execution_count": 119,
   "metadata": {},
   "outputs": [],
   "source": [
    "def spend_county_state_map(spend, ACS, covid=None, popstring='tot', imputeval='Missing'):\n",
    "    val_count = spend['county_name'].value_counts()\n",
    "    dupes = [i for i in val_count.index if val_count[i]!=1]\n",
    "    spend['State'] = ''\n",
    "    for idx in spend.index:\n",
    "        if spend.loc[idx, 'county_name'] in dupes:\n",
    "            # Get a subset of the ACS data that matches entry county name\n",
    "            ACS_sub = ACS[ACS['county_name']==spend.loc[idx, 'county_name']][['county_name',popstring,'State']]\n",
    "            # calculate the difference between spend entry and ACS populations\n",
    "            ACS_sub['diffs'] = np.abs(spend.loc[idx, 'population']-ACS_sub[popstring])\n",
    "            # assign the lowest difference to the spending df\n",
    "            try:\n",
    "                spend.loc[idx,'State']= ACS_sub[ACS_sub['diffs']==min(ACS_sub['diffs'])]['State'].values[0]\n",
    "            except:\n",
    "                spend.loc[idx,'State']= imputeval\n",
    "                \n",
    "            # Current implementation allows for multiple entries of the same county into different records\n",
    "            # in the spending df which is impossible. Consider implementing a low pass filter with the\n",
    "            # alternative case being unknown or a counter for number of assignments\n",
    "            \n",
    "        elif covid != None:\n",
    "            val = spend['county_name'][idx]\n",
    "            #print(val)\n",
    "            #print(covid[covid['county_name']==val].State.values[0])\n",
    "            #print(spend.head())\n",
    "            try:\n",
    "                spend.loc[idx, 'State'] = covid[covid['county_name']==val].State.values[0]\n",
    "            except:\n",
    "                spend.loc[idx, 'State'] = imputeval\n",
    "        else:\n",
    "            spend.loc[idx, 'State'] = imputeval\n",
    "    \n",
    "    return spend\n",
    "county_spending = spend_county_state_map(county_spending, newacs, popstring='population', imputeval=np.nan)"
   ]
  },
  {
   "cell_type": "code",
   "execution_count": 120,
   "metadata": {},
   "outputs": [
    {
     "name": "stdout",
     "output_type": "stream",
     "text": [
      "820\n"
     ]
    },
    {
     "data": {
      "text/html": [
       "<div>\n",
       "<style scoped>\n",
       "    .dataframe tbody tr th:only-of-type {\n",
       "        vertical-align: middle;\n",
       "    }\n",
       "\n",
       "    .dataframe tbody tr th {\n",
       "        vertical-align: top;\n",
       "    }\n",
       "\n",
       "    .dataframe thead th {\n",
       "        text-align: right;\n",
       "    }\n",
       "</style>\n",
       "<table border=\"1\" class=\"dataframe\">\n",
       "  <thead>\n",
       "    <tr style=\"text-align: right;\">\n",
       "      <th></th>\n",
       "      <th>State</th>\n",
       "      <th>county_name</th>\n",
       "      <th>lat</th>\n",
       "      <th>lon</th>\n",
       "      <th>gini_index</th>\n",
       "      <th>percent_no_internet</th>\n",
       "    </tr>\n",
       "  </thead>\n",
       "  <tbody>\n",
       "    <tr>\n",
       "      <th>0</th>\n",
       "      <td>AK</td>\n",
       "      <td>Anchorage Municipality</td>\n",
       "      <td>61.177549</td>\n",
       "      <td>-149.274354</td>\n",
       "      <td>0.4018</td>\n",
       "      <td>6.593887</td>\n",
       "    </tr>\n",
       "    <tr>\n",
       "      <th>1</th>\n",
       "      <td>AK</td>\n",
       "      <td>Fairbanks North Star Borough</td>\n",
       "      <td>64.690832</td>\n",
       "      <td>-146.599867</td>\n",
       "      <td>0.3756</td>\n",
       "      <td>12.102458</td>\n",
       "    </tr>\n",
       "    <tr>\n",
       "      <th>2</th>\n",
       "      <td>AK</td>\n",
       "      <td>Matanuska-Susitna Borough</td>\n",
       "      <td>62.182173</td>\n",
       "      <td>-149.407974</td>\n",
       "      <td>0.4351</td>\n",
       "      <td>11.156575</td>\n",
       "    </tr>\n",
       "    <tr>\n",
       "      <th>3</th>\n",
       "      <td>AL</td>\n",
       "      <td>Baldwin County</td>\n",
       "      <td>30.659218</td>\n",
       "      <td>-87.746067</td>\n",
       "      <td>0.4498</td>\n",
       "      <td>17.868167</td>\n",
       "    </tr>\n",
       "    <tr>\n",
       "      <th>4</th>\n",
       "      <td>AL</td>\n",
       "      <td>Calhoun County</td>\n",
       "      <td>33.771706</td>\n",
       "      <td>-85.822513</td>\n",
       "      <td>0.4692</td>\n",
       "      <td>23.464932</td>\n",
       "    </tr>\n",
       "  </tbody>\n",
       "</table>\n",
       "</div>"
      ],
      "text/plain": [
       "  State                   county_name        lat         lon  gini_index  \\\n",
       "0    AK        Anchorage Municipality  61.177549 -149.274354      0.4018   \n",
       "1    AK  Fairbanks North Star Borough  64.690832 -146.599867      0.3756   \n",
       "2    AK     Matanuska-Susitna Borough  62.182173 -149.407974      0.4351   \n",
       "3    AL                Baldwin County  30.659218  -87.746067      0.4498   \n",
       "4    AL                Calhoun County  33.771706  -85.822513      0.4692   \n",
       "\n",
       "   percent_no_internet  \n",
       "0             6.593887  \n",
       "1            12.102458  \n",
       "2            11.156575  \n",
       "3            17.868167  \n",
       "4            23.464932  "
      ]
     },
     "execution_count": 120,
     "metadata": {},
     "output_type": "execute_result"
    }
   ],
   "source": [
    "inter = pd.read_csv('kaggle_internet.csv')\n",
    "inter=inter.rename(columns={'state':'State', 'county':'county_name'})\n",
    "inter.head()\n",
    "dfgini = inter[['State', 'county_name','lat','lon','gini_index', 'percent_no_internet']]\n",
    "print(len(dfgini.index))\n",
    "dfgini.head()"
   ]
  },
  {
   "cell_type": "code",
   "execution_count": 121,
   "metadata": {},
   "outputs": [
    {
     "name": "stdout",
     "output_type": "stream",
     "text": [
      "770\n"
     ]
    },
    {
     "data": {
      "text/html": [
       "<div>\n",
       "<style scoped>\n",
       "    .dataframe tbody tr th:only-of-type {\n",
       "        vertical-align: middle;\n",
       "    }\n",
       "\n",
       "    .dataframe tbody tr th {\n",
       "        vertical-align: top;\n",
       "    }\n",
       "\n",
       "    .dataframe thead th {\n",
       "        text-align: right;\n",
       "    }\n",
       "</style>\n",
       "<table border=\"1\" class=\"dataframe\">\n",
       "  <thead>\n",
       "    <tr style=\"text-align: right;\">\n",
       "      <th></th>\n",
       "      <th>State</th>\n",
       "      <th>county_name</th>\n",
       "      <th>lat</th>\n",
       "      <th>lon</th>\n",
       "      <th>gini_index</th>\n",
       "      <th>percent_no_internet</th>\n",
       "    </tr>\n",
       "  </thead>\n",
       "  <tbody>\n",
       "    <tr>\n",
       "      <th>0</th>\n",
       "      <td>AL</td>\n",
       "      <td>Baldwin County</td>\n",
       "      <td>30.659218</td>\n",
       "      <td>-87.746067</td>\n",
       "      <td>0.4498</td>\n",
       "      <td>17.868167</td>\n",
       "    </tr>\n",
       "    <tr>\n",
       "      <th>1</th>\n",
       "      <td>AL</td>\n",
       "      <td>Calhoun County</td>\n",
       "      <td>33.771706</td>\n",
       "      <td>-85.822513</td>\n",
       "      <td>0.4692</td>\n",
       "      <td>23.464932</td>\n",
       "    </tr>\n",
       "    <tr>\n",
       "      <th>2</th>\n",
       "      <td>AL</td>\n",
       "      <td>Cullman County</td>\n",
       "      <td>34.131923</td>\n",
       "      <td>-86.869267</td>\n",
       "      <td>0.4518</td>\n",
       "      <td>23.294498</td>\n",
       "    </tr>\n",
       "    <tr>\n",
       "      <th>3</th>\n",
       "      <td>AL</td>\n",
       "      <td>Elmore County</td>\n",
       "      <td>32.597229</td>\n",
       "      <td>-86.142739</td>\n",
       "      <td>0.4535</td>\n",
       "      <td>13.805792</td>\n",
       "    </tr>\n",
       "    <tr>\n",
       "      <th>4</th>\n",
       "      <td>AL</td>\n",
       "      <td>Etowah County</td>\n",
       "      <td>34.047638</td>\n",
       "      <td>-86.034420</td>\n",
       "      <td>0.4477</td>\n",
       "      <td>19.155961</td>\n",
       "    </tr>\n",
       "  </tbody>\n",
       "</table>\n",
       "</div>"
      ],
      "text/plain": [
       "  State     county_name        lat        lon  gini_index  percent_no_internet\n",
       "0    AL  Baldwin County  30.659218 -87.746067      0.4498            17.868167\n",
       "1    AL  Calhoun County  33.771706 -85.822513      0.4692            23.464932\n",
       "2    AL  Cullman County  34.131923 -86.869267      0.4518            23.294498\n",
       "3    AL   Elmore County  32.597229 -86.142739      0.4535            13.805792\n",
       "4    AL   Etowah County  34.047638 -86.034420      0.4477            19.155961"
      ]
     },
     "execution_count": 121,
     "metadata": {},
     "output_type": "execute_result"
    }
   ],
   "source": [
    "dfgini2=dfgini\n",
    "dfgini2.index=dfgini2['county_name']\n",
    "dfgini2=dfgini2.drop(index=set(dfgini['county_name']).difference(county_spending['county_name']))\n",
    "print(len(dfgini2.index))\n",
    "dfgini2.index=range(len(dfgini2.index))\n",
    "dfgini2.head()"
   ]
  },
  {
   "cell_type": "code",
   "execution_count": 123,
   "metadata": {},
   "outputs": [
    {
     "data": {
      "text/html": [
       "<div>\n",
       "<style scoped>\n",
       "    .dataframe tbody tr th:only-of-type {\n",
       "        vertical-align: middle;\n",
       "    }\n",
       "\n",
       "    .dataframe tbody tr th {\n",
       "        vertical-align: top;\n",
       "    }\n",
       "\n",
       "    .dataframe thead th {\n",
       "        text-align: right;\n",
       "    }\n",
       "</style>\n",
       "<table border=\"1\" class=\"dataframe\">\n",
       "  <thead>\n",
       "    <tr style=\"text-align: right;\">\n",
       "      <th></th>\n",
       "      <th>amount</th>\n",
       "      <th>award_count</th>\n",
       "      <th>display_name</th>\n",
       "      <th>per_capita</th>\n",
       "      <th>population</th>\n",
       "      <th>shape_code</th>\n",
       "      <th>county_name</th>\n",
       "      <th>State</th>\n",
       "      <th>lat</th>\n",
       "      <th>lon</th>\n",
       "      <th>gini_index</th>\n",
       "      <th>percent_no_internet</th>\n",
       "    </tr>\n",
       "  </thead>\n",
       "  <tbody>\n",
       "    <tr>\n",
       "      <th>2</th>\n",
       "      <td>2.936372e+10</td>\n",
       "      <td>440456</td>\n",
       "      <td>Cook</td>\n",
       "      <td>5701.44</td>\n",
       "      <td>5150233.0</td>\n",
       "      <td>17031</td>\n",
       "      <td>Cook County</td>\n",
       "      <td>IL</td>\n",
       "      <td>41.894294</td>\n",
       "      <td>-87.645455</td>\n",
       "      <td>0.5049</td>\n",
       "      <td>15.545224</td>\n",
       "    </tr>\n",
       "    <tr>\n",
       "      <th>3</th>\n",
       "      <td>1.508957e+10</td>\n",
       "      <td>302025</td>\n",
       "      <td>Harris</td>\n",
       "      <td>3201.47</td>\n",
       "      <td>4713325.0</td>\n",
       "      <td>48201</td>\n",
       "      <td>Harris County</td>\n",
       "      <td>TX</td>\n",
       "      <td>29.857273</td>\n",
       "      <td>-95.393037</td>\n",
       "      <td>0.4986</td>\n",
       "      <td>15.416282</td>\n",
       "    </tr>\n",
       "    <tr>\n",
       "      <th>5</th>\n",
       "      <td>1.308892e+10</td>\n",
       "      <td>236084</td>\n",
       "      <td>Orange</td>\n",
       "      <td>4121.60</td>\n",
       "      <td>3175692.0</td>\n",
       "      <td>06059</td>\n",
       "      <td>Orange County</td>\n",
       "      <td>CA</td>\n",
       "      <td>33.675687</td>\n",
       "      <td>-117.777207</td>\n",
       "      <td>0.4695</td>\n",
       "      <td>7.381774</td>\n",
       "    </tr>\n",
       "    <tr>\n",
       "      <th>7</th>\n",
       "      <td>5.622746e+09</td>\n",
       "      <td>195538</td>\n",
       "      <td>Kings</td>\n",
       "      <td>2196.47</td>\n",
       "      <td>2559903.0</td>\n",
       "      <td>36047</td>\n",
       "      <td>Kings County</td>\n",
       "      <td>NY</td>\n",
       "      <td>40.635133</td>\n",
       "      <td>-73.950777</td>\n",
       "      <td>0.5252</td>\n",
       "      <td>17.715483</td>\n",
       "    </tr>\n",
       "    <tr>\n",
       "      <th>11</th>\n",
       "      <td>1.532698e+10</td>\n",
       "      <td>159623</td>\n",
       "      <td>Dallas</td>\n",
       "      <td>5815.55</td>\n",
       "      <td>2635516.0</td>\n",
       "      <td>48113</td>\n",
       "      <td>Dallas County</td>\n",
       "      <td>TX</td>\n",
       "      <td>32.766987</td>\n",
       "      <td>-96.778424</td>\n",
       "      <td>0.4957</td>\n",
       "      <td>16.923969</td>\n",
       "    </tr>\n",
       "  </tbody>\n",
       "</table>\n",
       "</div>"
      ],
      "text/plain": [
       "          amount  award_count display_name  per_capita  population shape_code  \\\n",
       "2   2.936372e+10       440456         Cook     5701.44   5150233.0      17031   \n",
       "3   1.508957e+10       302025       Harris     3201.47   4713325.0      48201   \n",
       "5   1.308892e+10       236084       Orange     4121.60   3175692.0      06059   \n",
       "7   5.622746e+09       195538        Kings     2196.47   2559903.0      36047   \n",
       "11  1.532698e+10       159623       Dallas     5815.55   2635516.0      48113   \n",
       "\n",
       "      county_name State        lat         lon  gini_index  \\\n",
       "2     Cook County    IL  41.894294  -87.645455      0.5049   \n",
       "3   Harris County    TX  29.857273  -95.393037      0.4986   \n",
       "5   Orange County    CA  33.675687 -117.777207      0.4695   \n",
       "7    Kings County    NY  40.635133  -73.950777      0.5252   \n",
       "11  Dallas County    TX  32.766987  -96.778424      0.4957   \n",
       "\n",
       "    percent_no_internet  \n",
       "2             15.545224  \n",
       "3             15.416282  \n",
       "5              7.381774  \n",
       "7             17.715483  \n",
       "11            16.923969  "
      ]
     },
     "execution_count": 123,
     "metadata": {},
     "output_type": "execute_result"
    }
   ],
   "source": [
    "county_spending.index=county_spending['county_name']\n",
    "county_spending_sm= county_spending.drop(index=set(county_spending['county_name']).difference(dfgini2['county_name']))\n",
    "county_spending.index=range(len(county_spending.index))\n",
    "\n",
    "df = county_spending.drop_duplicates(subset=['county_name','State']).merge(dfgini2.drop_duplicates(subset=['county_name','State']), how=\"left\",on=['county_name','State'])\n",
    "df.dropna().head()"
   ]
  },
  {
   "cell_type": "code",
   "execution_count": 124,
   "metadata": {},
   "outputs": [
    {
     "data": {
      "application/vnd.plotly.v1+json": {
       "config": {
        "plotlyServerURL": "https://plot.ly"
       },
       "data": [
        {
         "customdata": [
          [
           "Cook County",
           "IL"
          ],
          [
           "Harris County",
           "TX"
          ],
          [
           "Orange County",
           "CA"
          ],
          [
           "Kings County",
           "NY"
          ],
          [
           "Dallas County",
           "TX"
          ],
          [
           "Fulton County",
           "GA"
          ],
          [
           "Clark County",
           "NV"
          ],
          [
           "Orange County",
           "FL"
          ],
          [
           "King County",
           "WA"
          ],
          [
           "Nassau County",
           "NY"
          ],
          [
           "Hillsborough County",
           "FL"
          ],
          [
           "Suffolk County",
           "NY"
          ],
          [
           "Wayne County",
           "MI"
          ],
          [
           "Middlesex County",
           "MA"
          ],
          [
           "Mecklenburg County",
           "NC"
          ],
          [
           "Fairfield County",
           "CT"
          ],
          [
           "Shelby County",
           "TN"
          ],
          [
           "Duval County",
           "FL"
          ],
          [
           "Montgomery County",
           "MD"
          ],
          [
           "Essex County",
           "NJ"
          ],
          [
           "Lee County",
           "FL"
          ],
          [
           "Montgomery County",
           "PA"
          ],
          [
           "Franklin County",
           "OH"
          ],
          [
           "Middlesex County",
           "NJ"
          ],
          [
           "St. Louis County",
           "MO"
          ],
          [
           "Marion County",
           "IN"
          ],
          [
           "Essex County",
           "MA"
          ],
          [
           "Davidson County",
           "TN"
          ],
          [
           "Suffolk County",
           "MA"
          ],
          [
           "Jefferson County",
           "CO"
          ],
          [
           "Erie County",
           "NY"
          ],
          [
           "Hamilton County",
           "OH"
          ],
          [
           "Lake County",
           "IL"
          ],
          [
           "Seminole County",
           "FL"
          ],
          [
           "Union County",
           "NJ"
          ],
          [
           "Jefferson County",
           "AL"
          ],
          [
           "Osceola County",
           "FL"
          ],
          [
           "Worcester County",
           "MA"
          ],
          [
           "Pierce County",
           "WA"
          ],
          [
           "Polk County",
           "FL"
          ],
          [
           "Morris County",
           "NJ"
          ],
          [
           "Delaware County",
           "PA"
          ],
          [
           "Jefferson County",
           "KY"
          ],
          [
           "Johnson County",
           "KS"
          ],
          [
           "Jackson County",
           "MO"
          ],
          [
           "Hidalgo County",
           "TX"
          ],
          [
           "Summit County",
           "OH"
          ],
          [
           "Douglas County",
           "NE"
          ],
          [
           "El Paso County",
           "CO"
          ],
          [
           "Montgomery County",
           "TX"
          ],
          [
           "Ramsey County",
           "MN"
          ],
          [
           "Lake County",
           "IN"
          ],
          [
           "Monroe County",
           "NY"
          ],
          [
           "Richmond County",
           "NY"
          ],
          [
           "Kane County",
           "IL"
          ],
          [
           "Washington County",
           "OR"
          ],
          [
           "Plymouth County",
           "MA"
          ],
          [
           "Camden County",
           "NJ"
          ],
          [
           "El Paso County",
           "TX"
          ],
          [
           "Richland County",
           "SC"
          ],
          [
           "Williamson County",
           "TN"
          ],
          [
           "Kent County",
           "MI"
          ],
          [
           "Pulaski County",
           "AR"
          ],
          [
           "Bristol County",
           "MA"
          ],
          [
           "Howard County",
           "MD"
          ],
          [
           "Clark County",
           "WA"
          ],
          [
           "Somerset County",
           "NJ"
          ],
          [
           "Williamson County",
           "TX"
          ],
          [
           "Walton County",
           "GA"
          ],
          [
           "Chatham County",
           "GA"
          ],
          [
           "Paulding County",
           "GA"
          ],
          [
           "Cumberland County",
           "ME"
          ],
          [
           "Sedgwick County",
           "KS"
          ],
          [
           "Adams County",
           "CO"
          ],
          [
           "Rockingham County",
           "NH"
          ],
          [
           "Chester County",
           "PA"
          ],
          [
           "Lancaster County",
           "PA"
          ],
          [
           "Knox County",
           "TN"
          ],
          [
           "Orange County",
           "NY"
          ],
          [
           "Polk County",
           "IA"
          ],
          [
           "Hamilton County",
           "IN"
          ],
          [
           "Marion County",
           "FL"
          ],
          [
           "Montgomery County",
           "OH"
          ],
          [
           "Leon County",
           "FL"
          ],
          [
           "Lake County",
           "FL"
          ],
          [
           "Hillsborough County",
           "NH"
          ],
          [
           "Dakota County",
           "MN"
          ],
          [
           "Lucas County",
           "OH"
          ],
          [
           "Escambia County",
           "FL"
          ],
          [
           "Warren County",
           "OH"
          ],
          [
           "Douglas County",
           "CO"
          ],
          [
           "Albany County",
           "NY"
          ],
          [
           "Henry County",
           "GA"
          ],
          [
           "York County",
           "PA"
          ],
          [
           "Madison County",
           "AL"
          ],
          [
           "Union County",
           "NC"
          ],
          [
           "Baldwin County",
           "AL"
          ],
          [
           "Hamilton County",
           "TN"
          ],
          [
           "Clayton County",
           "GA"
          ],
          [
           "Westmoreland County",
           "PA"
          ],
          [
           "Lane County",
           "OR"
          ],
          [
           "Hall County",
           "GA"
          ],
          [
           "St. Charles County",
           "MO"
          ],
          [
           "Lancaster County",
           "NE"
          ],
          [
           "Cleveland County",
           "OK"
          ],
          [
           "Mercer County",
           "NJ"
          ],
          [
           "Shelby County",
           "AL"
          ],
          [
           "Cameron County",
           "TX"
          ],
          [
           "Ottawa County",
           "MI"
          ],
          [
           "Forsyth County",
           "NC"
          ],
          [
           "Montgomery County",
           "AL"
          ],
          [
           "Martin County",
           "FL"
          ],
          [
           "Santa Cruz County",
           "CA"
          ],
          [
           "Greene County",
           "MO"
          ],
          [
           "Jackson County",
           "OR"
          ],
          [
           "Allen County",
           "IN"
          ],
          [
           "Monroe County",
           "FL"
          ],
          [
           "Ellis County",
           "TX"
          ],
          [
           "Davis County",
           "UT"
          ],
          [
           "Washington County",
           "MN"
          ],
          [
           "Bell County",
           "TX"
          ],
          [
           "Rutherford County",
           "TN"
          ],
          [
           "St. Clair County",
           "IL"
          ],
          [
           "Forsyth County",
           "GA"
          ],
          [
           "Bay County",
           "FL"
          ],
          [
           "Gloucester County",
           "NJ"
          ],
          [
           "Benton County",
           "AR"
          ],
          [
           "Harrison County",
           "MS"
          ],
          [
           "Jefferson County",
           "TX"
          ],
          [
           "Beaufort County",
           "SC"
          ],
          [
           "Fayette County",
           "KY"
          ],
          [
           "Stark County",
           "OH"
          ],
          [
           "Madison County",
           "MS"
          ],
          [
           "Northampton County",
           "PA"
          ],
          [
           "Midland County",
           "TX"
          ],
          [
           "Washington County",
           "PA"
          ],
          [
           "Smith County",
           "TX"
          ],
          [
           "Winnebago County",
           "IL"
          ],
          [
           "Kendall County",
           "IL"
          ],
          [
           "Frederick County",
           "MD"
          ],
          [
           "Johnson County",
           "TX"
          ],
          [
           "Cass County",
           "ND"
          ],
          [
           "York County",
           "ME"
          ],
          [
           "Douglas County",
           "GA"
          ],
          [
           "Washington County",
           "UT"
          ],
          [
           "Berkeley County",
           "SC"
          ],
          [
           "Charlotte County",
           "FL"
          ],
          [
           "Fayette County",
           "GA"
          ],
          [
           "Middlesex County",
           "CT"
          ],
          [
           "Gallatin County",
           "MT"
          ],
          [
           "Clay County",
           "MO"
          ],
          [
           "Cumberland County",
           "NC"
          ],
          [
           "Chesterfield County",
           "VA"
          ],
          [
           "Sussex County",
           "DE"
          ],
          [
           "St. Joseph County",
           "IN"
          ],
          [
           "Genesee County",
           "MI"
          ],
          [
           "Thurston County",
           "WA"
          ],
          [
           "Linn County",
           "IA"
          ],
          [
           "Champaign County",
           "IL"
          ],
          [
           "Richmond County",
           "GA"
          ],
          [
           "Brown County",
           "WI"
          ],
          [
           "Kent County",
           "RI"
          ],
          [
           "York County",
           "SC"
          ],
          [
           "Sumner County",
           "TN"
          ],
          [
           "Madison County",
           "IL"
          ],
          [
           "Cherokee County",
           "GA"
          ],
          [
           "Erie County",
           "PA"
          ],
          [
           "Cumberland County",
           "PA"
          ],
          [
           "Clay County",
           "FL"
          ],
          [
           "Montgomery County",
           "TN"
          ],
          [
           "Orange County",
           "NC"
          ],
          [
           "Lake County",
           "OH"
          ],
          [
           "Butler County",
           "PA"
          ],
          [
           "Washington County",
           "AR"
          ],
          [
           "Wayne County",
           "NY"
          ],
          [
           "Randolph County",
           "NC"
          ],
          [
           "Rowan County",
           "NC"
          ],
          [
           "Wilson County",
           "TN"
          ],
          [
           "Washington County",
           "RI"
          ],
          [
           "Monroe County",
           "PA"
          ],
          [
           "Jackson County",
           "MS"
          ],
          [
           "Butte County",
           "CA"
          ],
          [
           "Walton County",
           "FL"
          ],
          [
           "St. Louis County",
           "MN"
          ],
          [
           "Sevier County",
           "TN"
          ],
          [
           "Bibb County",
           "GA"
          ],
          [
           "Scott County",
           "IA"
          ],
          [
           "Hampshire County",
           "MA"
          ],
          [
           "Benton County",
           "WA"
          ],
          [
           "Delaware County",
           "OH"
          ],
          [
           "Livingston County",
           "MI"
          ],
          [
           "Dorchester County",
           "SC"
          ],
          [
           "Sussex County",
           "NJ"
          ],
          [
           "Kent County",
           "DE"
          ],
          [
           "Wayne County",
           "OH"
          ],
          [
           "Rock County",
           "WI"
          ],
          [
           "Greene County",
           "OH"
          ],
          [
           "Scott County",
           "MN"
          ],
          [
           "Oneida County",
           "NY"
          ],
          [
           "Guadalupe County",
           "TX"
          ],
          [
           "Houston County",
           "GA"
          ],
          [
           "Johnson County",
           "IA"
          ],
          [
           "Washington County",
           "WI"
          ],
          [
           "Winnebago County",
           "WI"
          ],
          [
           "Carroll County",
           "MD"
          ],
          [
           "Columbia County",
           "GA"
          ],
          [
           "Butler County",
           "OH"
          ],
          [
           "Morgan County",
           "AL"
          ],
          [
           "Wright County",
           "MN"
          ],
          [
           "Sullivan County",
           "NY"
          ],
          [
           "Beaver County",
           "PA"
          ],
          [
           "Anderson County",
           "SC"
          ],
          [
           "Wood County",
           "OH"
          ],
          [
           "Grayson County",
           "TX"
          ],
          [
           "Berrien County",
           "MI"
          ],
          [
           "Putnam County",
           "NY"
          ],
          [
           "Wichita County",
           "TX"
          ],
          [
           "Limestone County",
           "AL"
          ],
          [
           "Richland County",
           "OH"
          ],
          [
           "St. Clair County",
           "MI"
          ],
          [
           "Jasper County",
           "MO"
          ],
          [
           "Jefferson County",
           "MO"
          ],
          [
           "Nevada County",
           "CA"
          ],
          [
           "Washington County",
           "MD"
          ],
          [
           "Humboldt County",
           "CA"
          ],
          [
           "Saline County",
           "AR"
          ],
          [
           "Brunswick County",
           "NC"
          ],
          [
           "Sumter County",
           "SC"
          ],
          [
           "Walworth County",
           "WI"
          ],
          [
           "Warren County",
           "NJ"
          ],
          [
           "Newton County",
           "GA"
          ],
          [
           "Jackson County",
           "MI"
          ],
          [
           "St. Croix County",
           "WI"
          ],
          [
           "Sullivan County",
           "TN"
          ],
          [
           "Moore County",
           "NC"
          ],
          [
           "Platte County",
           "MO"
          ],
          [
           "Johnson County",
           "IN"
          ],
          [
           "Lee County",
           "AL"
          ],
          [
           "Warren County",
           "KY"
          ],
          [
           "Lowndes County",
           "GA"
          ],
          [
           "Comanche County",
           "OK"
          ],
          [
           "Pickens County",
           "SC"
          ],
          [
           "Stafford County",
           "VA"
          ],
          [
           "Franklin County",
           "MO"
          ],
          [
           "Medina County",
           "OH"
          ],
          [
           "Tazewell County",
           "IL"
          ],
          [
           "Linn County",
           "OR"
          ],
          [
           "Clark County",
           "IN"
          ],
          [
           "Douglas County",
           "KS"
          ],
          [
           "Boone County",
           "MO"
          ],
          [
           "Yuma County",
           "AZ"
          ],
          [
           "Fayette County",
           "PA"
          ],
          [
           "St. Clair County",
           "AL"
          ],
          [
           "Monroe County",
           "MI"
          ],
          [
           "Franklin County",
           "PA"
          ],
          [
           "Lauderdale County",
           "AL"
          ],
          [
           "Wayne County",
           "NC"
          ],
          [
           "Douglas County",
           "OR"
          ],
          [
           "Taylor County",
           "TX"
          ],
          [
           "Chautauqua County",
           "NY"
          ],
          [
           "Floyd County",
           "GA"
          ],
          [
           "Dallas County",
           "IA"
          ],
          [
           "Nassau County",
           "FL"
          ],
          [
           "Ward County",
           "ND"
          ],
          [
           "Cass County",
           "MO"
          ],
          [
           "Madison County",
           "IN"
          ],
          [
           "Franklin County",
           "MA"
          ],
          [
           "Florence County",
           "SC"
          ],
          [
           "Windham County",
           "CT"
          ],
          [
           "Macon County",
           "IL"
          ],
          [
           "Pennington County",
           "SD"
          ],
          [
           "Warren County",
           "NY"
          ],
          [
           "Lancaster County",
           "SC"
          ],
          [
           "Boone County",
           "KY"
          ],
          [
           "Johnston County",
           "NC"
          ],
          [
           "Jefferson County",
           "NY"
          ],
          [
           "Clark County",
           "OH"
          ],
          [
           "Madison County",
           "TN"
          ],
          [
           "Henderson County",
           "NC"
          ],
          [
           "Hardin County",
           "KY"
          ],
          [
           "Adams County",
           "IL"
          ],
          [
           "Laurens County",
           "SC"
          ],
          [
           "Oldham County",
           "KY"
          ],
          [
           "Calhoun County",
           "AL"
          ],
          [
           "Dodge County",
           "WI"
          ],
          [
           "San Juan County",
           "NM"
          ],
          [
           "Lawrence County",
           "PA"
          ],
          [
           "Clarke County",
           "GA"
          ],
          [
           "Houston County",
           "AL"
          ],
          [
           "Potter County",
           "TX"
          ],
          [
           "Kings County",
           "CA"
          ],
          [
           "Carroll County",
           "GA"
          ],
          [
           "Lee County",
           "MS"
          ],
          [
           "Van Buren County",
           "MI"
          ],
          [
           "Benton County",
           "OR"
          ],
          [
           "Vermilion County",
           "IL"
          ],
          [
           "Midland County",
           "MI"
          ],
          [
           "Rockingham County",
           "NC"
          ],
          [
           "Blount County",
           "TN"
          ],
          [
           "Bay County",
           "MI"
          ],
          [
           "Williamson County",
           "IL"
          ],
          [
           "Pottawatomie County",
           "OK"
          ],
          [
           "Sumter County",
           "FL"
          ],
          [
           "Rice County",
           "MN"
          ],
          [
           "Berkeley County",
           "WV"
          ],
          [
           "Mercer County",
           "PA"
          ],
          [
           "Portage County",
           "WI"
          ],
          [
           "Harrison County",
           "TX"
          ],
          [
           "Robertson County",
           "TN"
          ],
          [
           "Grant County",
           "WA"
          ],
          [
           "Buchanan County",
           "MO"
          ],
          [
           "Christian County",
           "MO"
          ],
          [
           "Frederick County",
           "VA"
          ],
          [
           "Washington County",
           "TN"
          ],
          [
           "Delaware County",
           "IN"
          ],
          [
           "Wilson County",
           "NC"
          ],
          [
           "Cumberland County",
           "NJ"
          ],
          [
           "Erie County",
           "OH"
          ],
          [
           "Campbell County",
           "KY"
          ],
          [
           "Marshall County",
           "AL"
          ],
          [
           "Butler County",
           "KS"
          ],
          [
           "Crawford County",
           "PA"
          ],
          [
           "Clinton County",
           "NY"
          ],
          [
           "Franklin County",
           "WA"
          ],
          [
           "Lincoln County",
           "NC"
          ],
          [
           "Elmore County",
           "AL"
          ],
          [
           "Rockingham County",
           "VA"
          ],
          [
           "Hancock County",
           "OH"
          ],
          [
           "Montgomery County",
           "VA"
          ],
          [
           "Adams County",
           "PA"
          ],
          [
           "Allen County",
           "OH"
          ],
          [
           "Walker County",
           "TX"
          ],
          [
           "Jefferson County",
           "WI"
          ],
          [
           "Northumberland County",
           "PA"
          ],
          [
           "Rutherford County",
           "NC"
          ],
          [
           "Portage County",
           "OH"
          ],
          [
           "Calhoun County",
           "MI"
          ],
          [
           "Somerset County",
           "PA"
          ],
          [
           "Wood County",
           "WV"
          ],
          [
           "Lewis County",
           "WA"
          ],
          [
           "Wood County",
           "WI"
          ],
          [
           "Davidson County",
           "NC"
          ],
          [
           "Putnam County",
           "FL"
          ],
          [
           "Morgan County",
           "IN"
          ],
          [
           "Chatham County",
           "NC"
          ],
          [
           "Fairfield County",
           "OH"
          ],
          [
           "Madison County",
           "KY"
          ],
          [
           "Orange County",
           "TX"
          ],
          [
           "Jefferson County",
           "OH"
          ],
          [
           "Liberty County",
           "GA"
          ],
          [
           "Wilkes County",
           "NC"
          ],
          [
           "Oconee County",
           "SC"
          ],
          [
           "Lauderdale County",
           "MS"
          ],
          [
           "Steuben County",
           "NY"
          ],
          [
           "White County",
           "AR"
          ],
          [
           "Jones County",
           "MS"
          ],
          [
           "Walker County",
           "AL"
          ],
          [
           "Cleveland County",
           "NC"
          ],
          [
           "Otero County",
           "NM"
          ],
          [
           "Harrison County",
           "WV"
          ],
          [
           "Livingston County",
           "NY"
          ],
          [
           "Miami County",
           "OH"
          ],
          [
           "Daviess County",
           "KY"
          ],
          [
           "Lake County",
           "CA"
          ],
          [
           "Columbia County",
           "FL"
          ],
          [
           "Allegany County",
           "MD"
          ],
          [
           "Henderson County",
           "TX"
          ],
          [
           "Christian County",
           "KY"
          ],
          [
           "Columbia County",
           "PA"
          ],
          [
           "Wayne County",
           "IN"
          ],
          [
           "Bedford County",
           "VA"
          ],
          [
           "Liberty County",
           "TX"
          ],
          [
           "Bradley County",
           "TN"
          ],
          [
           "Floyd County",
           "IN"
          ],
          [
           "Polk County",
           "OR"
          ],
          [
           "Grant County",
           "IN"
          ],
          [
           "Carbon County",
           "PA"
          ],
          [
           "Putnam County",
           "TN"
          ],
          [
           "Burke County",
           "NC"
          ],
          [
           "Armstrong County",
           "PA"
          ],
          [
           "Madison County",
           "NY"
          ],
          [
           "York County",
           "VA"
          ],
          [
           "Caldwell County",
           "NC"
          ],
          [
           "Walker County",
           "GA"
          ],
          [
           "Anderson County",
           "TN"
          ],
          [
           "Greene County",
           "TN"
          ],
          [
           "Marquette County",
           "MI"
          ],
          [
           "Surry County",
           "NC"
          ],
          [
           "Greenwood County",
           "SC"
          ],
          [
           "Howard County",
           "IN"
          ],
          [
           "Marion County",
           "OH"
          ]
         ],
         "hovertemplate": "log population=%{x}<br>log amount=%{y}<br>county_name=%{customdata[0]}<br>State=%{customdata[1]}<extra></extra>",
         "legendgroup": "",
         "marker": {
          "color": "#636efa",
          "symbol": "circle"
         },
         "mode": "markers",
         "name": "",
         "orientation": "v",
         "showlegend": false,
         "type": "scatter",
         "x": [
          15.454552514334944,
          15.365904161729082,
          14.971036119316583,
          14.755479925112878,
          14.78458954621325,
          13.877486736604398,
          14.633842204780294,
          14.147294679670402,
          14.627676454857122,
          14.12073093135326,
          14.202110838904225,
          14.205253382838452,
          14.374750846837319,
          14.292799460047751,
          13.920191242589341,
          13.75717356752275,
          13.750615706681991,
          13.772347283118311,
          13.86495574565419,
          13.591084935147508,
          13.5548948638562,
          13.630282782204048,
          14.090681694008882,
          13.623213814008237,
          13.809698701799244,
          13.7794501258582,
          13.578564691421736,
          13.450434710760678,
          13.597238869828832,
          12.977321420251995,
          13.730717083246413,
          13.613973153685189,
          13.453873322195728,
          13.064365552533967,
          13.22913669458792,
          13.397830652031807,
          12.836681968955657,
          13.629930096704976,
          13.715668122990353,
          13.493619300315576,
          13.105918905188307,
          13.24766827501655,
          13.549925211377277,
          13.308678615493003,
          13.46312781789656,
          13.674761178233274,
          13.201198587114774,
          13.255717004229448,
          13.487566056628404,
          13.31692801423014,
          13.218257023322828,
          13.09292014848393,
          13.516794501052122,
          13.073473508264522,
          13.185156000348224,
          13.30733475365701,
          13.163892961524006,
          13.135222345355498,
          13.64024961625927,
          12.937861044445642,
          12.38175554847701,
          13.3953708019703,
          12.878790052178605,
          13.244965007188728,
          12.693701287691962,
          13.098564415389308,
          12.703612401720317,
          13.28881127837528,
          11.457338756530477,
          12.575668750557428,
          12.035681635884124,
          12.594740804761773,
          13.153943436500116,
          13.156612135463563,
          12.643582137400335,
          13.171132588973304,
          13.209868632416129,
          13.061153709481792,
          12.860842756969115,
          13.10248918754761,
          12.730833718314297,
          12.809237677087458,
          13.183810249315776,
          12.589912265941184,
          12.813438601243895,
          12.940901451022256,
          12.969261147761042,
          12.967691228302266,
          12.670799879050508,
          12.365645740314363,
          12.768980152665675,
          12.62972469733546,
          12.365470960972836,
          13.014907334328445,
          12.829089701032542,
          12.38780652967838,
          12.315975827637399,
          12.815305466569022,
          12.585385409491405,
          12.762537761019999,
          12.853351264879374,
          12.228034704280935,
          12.904262092471884,
          12.67322847363677,
          12.556778811702994,
          12.814288103301658,
          12.290882434134964,
          12.955512726592548,
          12.583926719930156,
          12.853947840864999,
          12.330438411840374,
          11.9891596439666,
          12.518006989734088,
          12.58822136029036,
          12.305664554725132,
          12.846080091237976,
          11.21489671646423,
          12.127170120934132,
          12.781227080946238,
          12.477777763458814,
          12.8019487249356,
          12.713748313390054,
          12.467228487841936,
          12.405955758203133,
          12.070854116204861,
          12.583261728286601,
          12.539472309487973,
          12.245677900122534,
          12.435456684433838,
          12.165885865884892,
          12.68587807974817,
          12.822894782664564,
          11.573757124176472,
          12.629001045514643,
          12.08295540828309,
          12.239821685576548,
          12.357724491585508,
          12.551688664352127,
          11.767490160959182,
          12.466693082722,
          12.077198960354352,
          12.111338799613563,
          12.24356590595731,
          11.893708460432897,
          12.087041331097916,
          12.336692929988049,
          12.149025990150898,
          11.647639907515146,
          11.998039357020318,
          11.647753516569034,
          12.429008175209383,
          12.723404060667455,
          12.773662272032945,
          12.364037470819389,
          12.512917434696671,
          12.913647741346187,
          12.579482771864628,
          12.331409302841458,
          12.253380759624788,
          12.218584050467237,
          12.4857553078448,
          12.009400611421757,
          12.54603521242714,
          12.16150928582352,
          12.479780025236296,
          12.463706508500222,
          12.505169322797208,
          12.442606149963144,
          12.297977032199666,
          12.250056037563084,
          11.908178608001975,
          12.346482204243552,
          12.143415021063573,
          12.38500095175563,
          11.40665342288728,
          11.875253400600698,
          11.864201862947162,
          11.882120701905361,
          11.740674395228426,
          12.04514656442264,
          11.874905312990494,
          12.297675963403172,
          11.212779371658742,
          12.201411800647978,
          11.495270529731508,
          11.939231876450041,
          12.060717339420746,
          11.988103185489694,
          12.227785212435824,
          12.250936062490146,
          12.165224609004161,
          12.000333013577835,
          11.852877354855691,
          12.105069290313756,
          11.658842339870382,
          12.003674904026623,
          12.037281143339987,
          11.91178882944383,
          12.340039568297673,
          12.024832503796118,
          11.969482847262736,
          11.925961838574711,
          11.820660133473396,
          12.05470891189147,
          12.034376439237107,
          11.962177767046336,
          12.856140076424435,
          11.692568437558423,
          11.837737123384356,
          11.230986867145512,
          12.00718868623719,
          12.21878154427151,
          11.781554678978903,
          11.82196777454334,
          11.94081068679887,
          11.495982744239916,
          11.792298109550869,
          11.502016174462192,
          11.704817742620797,
          11.977464188784896,
          11.706252900940717,
          12.324215616402105,
          11.510472458809161,
          11.925359566468508,
          11.817154871997516,
          11.715351890962376,
          11.869340375103102,
          11.577973231420392,
          11.550876141198703,
          11.56425525869167,
          11.623965819759219,
          11.973572961791938,
          11.415169296172337,
          11.972550421637576,
          11.5216869706388,
          11.556157353362229,
          11.971406715843349,
          12.010921135748113,
          11.79732214643048,
          11.673393292395582,
          11.701469289907028,
          11.751028562222944,
          11.937421660984523,
          11.551828820078464,
          12.099300022206343,
          11.789063662551742,
          11.77335709386934,
          11.680995955994323,
          11.713897024259229,
          12.103281049592956,
          12.272735471234236,
          11.769689461786815,
          11.402127973487557,
          11.921718363171067,
          11.951354574279836,
          11.437436539739576,
          11.721004108251542,
          11.617105283879892,
          11.835255310605154,
          11.751178294084982,
          11.497791522385512,
          11.44521391509716,
          11.392169263834429,
          11.121969587054622,
          11.56911674461997,
          11.771968836757155,
          11.15174036555361,
          11.837129901765959,
          11.66806422791112,
          11.552232712840812,
          11.641978092884843,
          11.065762979305855,
          11.492845199136037,
          11.802463314402226,
          12.251710226479533,
          11.6067254140409,
          11.80621429016727,
          11.492559479017356,
          11.67348697998162,
          11.616907030312932,
          11.088812562489581,
          11.119779167779317,
          11.109443389352805,
          11.640482798385104,
          11.383260872343401,
          11.727698077534676,
          11.356411995953781,
          11.762368142618339,
          11.570080545471289,
          11.673469946527916,
          11.937800966598216,
          11.695180352875195,
          11.355522836618695,
          11.234229562348085,
          11.440924502281465,
          10.993916448396218,
          11.328473640767005,
          11.418724669571402,
          11.798765842542638,
          11.543706820559663,
          11.106414810468877,
          11.192610001903745,
          11.793733968478836,
          11.112029900576434,
          11.688314715423312,
          11.602985523337876,
          11.167218721232894,
          11.105753901695289,
          11.181820797143025,
          11.489994549679507,
          11.377838577476302,
          11.39183070159217,
          11.399902332977057,
          11.77047044300177,
          11.645137237278734,
          11.31204474745499,
          11.915232257512988,
          11.215408521666184,
          11.446614707682807,
          11.480133642145237,
          11.111118657114291,
          11.346032276453492,
          11.29582611064033,
          11.463966286518687,
          11.363392440675852,
          11.304781357446178,
          11.31384017874909,
          11.235629272070865,
          11.498167093994683,
          11.54257164203526,
          11.536163361437406,
          11.19781738092779,
          11.347685188906706,
          11.416888020773253,
          11.112880640547596,
          11.998224028090887,
          11.806780942682787,
          11.204319336656239,
          11.332817456469593,
          11.298580591512366,
          11.198201021406565,
          12.029389164872374,
          11.218836243841805,
          11.163211948257873,
          11.218151638704692,
          11.967650468176817,
          11.44021497741833,
          11.331355625565948,
          11.109817576435741,
          11.025734984301671,
          11.133303526819581,
          11.284090749660727,
          11.213508136300026,
          11.465613707418978,
          11.27407165120037,
          11.128703123130714,
          11.059125838870145,
          11.49218179503228,
          11.119734717737453,
          11.116261512815132,
          11.049523993438969,
          11.580462610735784,
          11.527922445976136,
          11.072651497155183,
          11.180050749502858,
          11.162175789050872,
          11.323422181199975,
          11.162814644244133,
          11.081588549294494,
          11.095650898902566,
          11.277165156044557,
          11.387577638296568,
          11.590904506286817,
          11.271134119283536,
          11.363090459210573,
          11.093903881679275,
          11.069478076534185,
          11.292839733755256,
          11.412939370094302,
          11.078057292492748,
          11.16960382464777,
          11.131372176908377,
          11.316642905319645,
          11.152830393342503,
          11.251274945726005,
          11.14286128391248,
          11.107945239287579,
          11.181402958199929,
          11.167769634845211,
          11.32108676348443,
          11.08357229553351
         ],
         "xaxis": "x",
         "y": [
          24.103025751097526,
          23.437269423162956,
          23.295031755212726,
          22.450086057504787,
          23.452880543199928,
          23.946948349253535,
          22.49140401383694,
          22.294496765319344,
          23.148525704310867,
          22.337590741751082,
          22.127075745718937,
          22.48849314807484,
          22.160583676622085,
          23.15283452194583,
          21.89973442495531,
          21.88500202337534,
          21.944713572434633,
          21.672230260639967,
          22.109847509098532,
          22.07296974091631,
          21.36870459972652,
          22.01518123678589,
          23.403653162942557,
          21.79863708159738,
          22.08240862458183,
          22.94210399360139,
          21.77029208321554,
          22.874898473502004,
          23.008883798231768,
          21.041984705007586,
          21.78008228039237,
          21.84049388693574,
          21.930795784349655,
          21.075853414082815,
          21.292281474839424,
          21.292748072765722,
          19.883421928071822,
          21.441665225440385,
          21.557908910424366,
          20.87501167740691,
          21.38927808764797,
          21.165468569142295,
          21.570562697581686,
          21.650057330630105,
          21.445403506152395,
          20.96187242209161,
          21.376952170901745,
          21.462925881189538,
          21.222714528949826,
          21.024701832434395,
          22.65836355252255,
          20.684713815534565,
          21.43139201078756,
          20.48516752042966,
          21.133223567649104,
          21.08326595411393,
          21.2068081457565,
          21.05414763301962,
          21.01508136278725,
          22.425293519182723,
          20.87344216715863,
          21.494760989436948,
          22.114760139799913,
          21.111629652130713,
          21.272888267993746,
          20.84467132302193,
          21.422665079865347,
          20.789743033603227,
          19.84708049452442,
          20.498185389208803,
          19.94947455563736,
          20.924344834259287,
          21.222781562191273,
          20.97174019785459,
          20.907280058732688,
          21.119564466840707,
          21.20234420200453,
          20.92896255413988,
          20.470283830724245,
          22.09260818123145,
          20.67525874784565,
          20.119307784482185,
          21.091105065942205,
          23.56490855867679,
          19.90160376576336,
          20.762401651553606,
          20.694873720021103,
          20.818422187937873,
          20.335153088355124,
          20.855997121868867,
          20.02228076944373,
          23.500130279559432,
          19.248254125276596,
          20.78126618609656,
          21.031682733042256,
          20.135715730670093,
          20.06530921671875,
          20.655710481684167,
          19.73421456147497,
          20.618349085244127,
          20.67173472959939,
          20.318976753904607,
          20.443766972714478,
          21.795502757088798,
          20.141202842796453,
          22.757553060075747,
          20.560536274667108,
          19.926869210806892,
          21.089437225349446,
          20.766893403746423,
          22.358710434889485,
          19.53498285424108,
          20.422623029008598,
          20.549281902319457,
          20.196400459838788,
          20.644253576908472,
          19.658988082874348,
          19.53900924866697,
          20.31162481232556,
          20.493525621306677,
          19.730644192080682,
          19.97797106725621,
          20.128044123434755,
          19.58201429426053,
          19.791262607423068,
          20.50147264625976,
          20.09839292512163,
          19.652826341063996,
          20.24133855001642,
          19.6893678664158,
          20.49626738441378,
          20.303713431013875,
          19.74076465188825,
          20.295657542160924,
          20.613115585909288,
          20.49451489288726,
          20.145504200907496,
          20.266393358054756,
          19.813620446449548,
          20.856396675100953,
          19.565374179220985,
          20.39840726461853,
          19.782068054997435,
          19.044020616944454,
          20.817759165036378,
          19.208473760097966,
          19.322972947664756,
          19.322988051105277,
          19.94371980248626,
          19.463656477037166,
          20.01123509214762,
          19.70377513627903,
          19.570635680905102,
          19.926091510285115,
          20.437783023191376,
          20.001388333436758,
          22.46428575450627,
          20.401376400049198,
          19.97748442401699,
          19.87474700495999,
          20.273967769142825,
          20.13537518627996,
          19.829177804204164,
          19.68545004793466,
          19.93398189847256,
          19.24882588001384,
          20.208043837685064,
          20.563471479581743,
          19.26344739024862,
          19.351272914667064,
          20.001372948352614,
          20.15340832070423,
          20.06278737322481,
          19.83897323364449,
          19.671323289768264,
          19.933098033101352,
          19.66432190347493,
          19.232663130620953,
          19.57755741957071,
          19.372425655451377,
          19.41034073497039,
          20.01037014890458,
          19.26377198671708,
          19.965468847926022,
          19.482436346073055,
          19.41465964883448,
          19.909844481951346,
          19.762942506527406,
          19.72100519761037,
          19.417769687155285,
          19.768848022704766,
          19.555181864325384,
          19.340735145766914,
          21.254561224053248,
          19.832876706711488,
          19.66085071250508,
          19.73641149487089,
          19.74653772966162,
          20.051196910039007,
          19.43556342161399,
          18.689713757035065,
          19.63080073889752,
          19.832812428791748,
          19.84423201259107,
          19.342497224597448,
          18.685692790794384,
          19.243590966777443,
          19.37968214142818,
          19.70450426926511,
          19.059264794719173,
          19.820795830409942,
          19.099278615459138,
          19.855061002756635,
          19.11838088265045,
          19.25103116785944,
          19.17997225221462,
          19.28078972797539,
          18.678030308805038,
          19.528889757331996,
          19.53520316968276,
          19.196393672349185,
          19.691829098508855,
          18.960948771069308,
          19.5255863845398,
          19.648775432785598,
          18.725539813645632,
          18.713531633647925,
          18.96016803487784,
          19.59289070752565,
          19.161454613678547,
          17.959687168707347,
          19.752069162659826,
          19.236844453343803,
          19.216352998261403,
          19.24460569217033,
          19.391391371619825,
          18.959807502242835,
          18.948400836594566,
          19.49272089097229,
          19.190764159368545,
          19.089646237052463,
          19.233679735044188,
          19.226143219101633,
          19.577083520124585,
          19.531681764821894,
          19.000565923789843,
          19.24245398934581,
          19.215648573824534,
          19.245701905820454,
          19.141471964717944,
          19.399319444467412,
          19.035998571062134,
          18.756797817582097,
          19.183991310333326,
          19.19124581322214,
          18.90568963030486,
          18.91589921976642,
          19.308781155809093,
          18.978533534778403,
          19.26918723081339,
          18.72447042958009,
          18.901544633318753,
          18.527711601472177,
          19.179723605619653,
          18.671858457388222,
          18.83412336029044,
          17.904222036620393,
          19.087591516385096,
          19.14659046710836,
          19.090773696082323,
          19.149068236513347,
          19.07349931862045,
          18.40903645924515,
          18.834961081107547,
          18.37090602363155,
          18.612030741029855,
          19.12659292758524,
          19.192325671394453,
          19.119367629970686,
          19.02711854375359,
          18.88913335793305,
          18.70089760872559,
          18.767984848148018,
          18.606151880442194,
          18.875906816787083,
          19.416039294037404,
          19.09710546532411,
          18.674634622296,
          19.241480287521146,
          19.340342071581095,
          19.14594393251824,
          18.65417708278656,
          18.498542216615363,
          19.37953620670723,
          19.135624916348622,
          18.62291644992828,
          19.33368454345809,
          18.55093765367961,
          18.99214458816233,
          19.297139390601014,
          18.935307329761148,
          19.38331761385285,
          18.887878641687045,
          18.806800991789036,
          18.40202950687,
          19.081437513918633,
          18.901050738783944,
          18.44622680444757,
          18.220502233958182,
          18.929686464198088,
          18.958009981991385,
          17.923226774963773,
          18.71064170962834,
          19.406667925450982,
          18.937490498558795,
          18.87392235439438,
          18.702795878494303,
          18.685547709434037,
          18.881092379953717,
          18.700615448803603,
          18.535130039088,
          18.938617761273026,
          18.78110445238487,
          19.04563680073618,
          18.512895012091164,
          18.12811162371188,
          18.43747899556944,
          19.020931308463286,
          19.132462791074587,
          18.59993243828662,
          19.00828122113374,
          18.615138167894326,
          18.68327580670696,
          18.73576937999319,
          18.628998129959758,
          19.18064643442087,
          18.779721602785923,
          18.60806234750607,
          18.764874212848476,
          18.620369126302933,
          19.063090963395336,
          18.26016139407974,
          18.45395252145525,
          18.30724180933613,
          17.82799197772089,
          17.706583653723435,
          18.687213641046412,
          18.40111439809353,
          18.36291597488094,
          16.89305846171239,
          18.620732166977643,
          18.04548105250118,
          18.481885025310213,
          18.50143678265251,
          18.330763386944408,
          18.450715875643645,
          18.270871475214125,
          17.91612137149432,
          18.23030875138307,
          18.566670359444263,
          18.10135720845115,
          18.410129841017884,
          18.644220164579977,
          18.40553433626529,
          17.718275366239453,
          18.5479951321417,
          17.642253720468418,
          17.83532898302411,
          17.95754234745557,
          18.512114152872844,
          17.564342737399212,
          17.114681937552888,
          18.230498919233234,
          18.77902196126624,
          18.741785549356937,
          18.233253161126157,
          17.45307219054777,
          18.407232757159917,
          17.757517563962207,
          18.007965053988908,
          18.4095105177203,
          17.657896330849468,
          17.62091153836614,
          17.72543668547975,
          18.12100723069904,
          17.493243833078584,
          18.135540657115822,
          18.173439413961507,
          18.399250768032395,
          17.08438717503883,
          16.020290551127736
         ],
         "yaxis": "y"
        }
       ],
       "layout": {
        "legend": {
         "tracegroupgap": 0
        },
        "margin": {
         "t": 60
        },
        "template": {
         "data": {
          "bar": [
           {
            "error_x": {
             "color": "#2a3f5f"
            },
            "error_y": {
             "color": "#2a3f5f"
            },
            "marker": {
             "line": {
              "color": "#E5ECF6",
              "width": 0.5
             }
            },
            "type": "bar"
           }
          ],
          "barpolar": [
           {
            "marker": {
             "line": {
              "color": "#E5ECF6",
              "width": 0.5
             }
            },
            "type": "barpolar"
           }
          ],
          "carpet": [
           {
            "aaxis": {
             "endlinecolor": "#2a3f5f",
             "gridcolor": "white",
             "linecolor": "white",
             "minorgridcolor": "white",
             "startlinecolor": "#2a3f5f"
            },
            "baxis": {
             "endlinecolor": "#2a3f5f",
             "gridcolor": "white",
             "linecolor": "white",
             "minorgridcolor": "white",
             "startlinecolor": "#2a3f5f"
            },
            "type": "carpet"
           }
          ],
          "choropleth": [
           {
            "colorbar": {
             "outlinewidth": 0,
             "ticks": ""
            },
            "type": "choropleth"
           }
          ],
          "contour": [
           {
            "colorbar": {
             "outlinewidth": 0,
             "ticks": ""
            },
            "colorscale": [
             [
              0,
              "#0d0887"
             ],
             [
              0.1111111111111111,
              "#46039f"
             ],
             [
              0.2222222222222222,
              "#7201a8"
             ],
             [
              0.3333333333333333,
              "#9c179e"
             ],
             [
              0.4444444444444444,
              "#bd3786"
             ],
             [
              0.5555555555555556,
              "#d8576b"
             ],
             [
              0.6666666666666666,
              "#ed7953"
             ],
             [
              0.7777777777777778,
              "#fb9f3a"
             ],
             [
              0.8888888888888888,
              "#fdca26"
             ],
             [
              1,
              "#f0f921"
             ]
            ],
            "type": "contour"
           }
          ],
          "contourcarpet": [
           {
            "colorbar": {
             "outlinewidth": 0,
             "ticks": ""
            },
            "type": "contourcarpet"
           }
          ],
          "heatmap": [
           {
            "colorbar": {
             "outlinewidth": 0,
             "ticks": ""
            },
            "colorscale": [
             [
              0,
              "#0d0887"
             ],
             [
              0.1111111111111111,
              "#46039f"
             ],
             [
              0.2222222222222222,
              "#7201a8"
             ],
             [
              0.3333333333333333,
              "#9c179e"
             ],
             [
              0.4444444444444444,
              "#bd3786"
             ],
             [
              0.5555555555555556,
              "#d8576b"
             ],
             [
              0.6666666666666666,
              "#ed7953"
             ],
             [
              0.7777777777777778,
              "#fb9f3a"
             ],
             [
              0.8888888888888888,
              "#fdca26"
             ],
             [
              1,
              "#f0f921"
             ]
            ],
            "type": "heatmap"
           }
          ],
          "heatmapgl": [
           {
            "colorbar": {
             "outlinewidth": 0,
             "ticks": ""
            },
            "colorscale": [
             [
              0,
              "#0d0887"
             ],
             [
              0.1111111111111111,
              "#46039f"
             ],
             [
              0.2222222222222222,
              "#7201a8"
             ],
             [
              0.3333333333333333,
              "#9c179e"
             ],
             [
              0.4444444444444444,
              "#bd3786"
             ],
             [
              0.5555555555555556,
              "#d8576b"
             ],
             [
              0.6666666666666666,
              "#ed7953"
             ],
             [
              0.7777777777777778,
              "#fb9f3a"
             ],
             [
              0.8888888888888888,
              "#fdca26"
             ],
             [
              1,
              "#f0f921"
             ]
            ],
            "type": "heatmapgl"
           }
          ],
          "histogram": [
           {
            "marker": {
             "colorbar": {
              "outlinewidth": 0,
              "ticks": ""
             }
            },
            "type": "histogram"
           }
          ],
          "histogram2d": [
           {
            "colorbar": {
             "outlinewidth": 0,
             "ticks": ""
            },
            "colorscale": [
             [
              0,
              "#0d0887"
             ],
             [
              0.1111111111111111,
              "#46039f"
             ],
             [
              0.2222222222222222,
              "#7201a8"
             ],
             [
              0.3333333333333333,
              "#9c179e"
             ],
             [
              0.4444444444444444,
              "#bd3786"
             ],
             [
              0.5555555555555556,
              "#d8576b"
             ],
             [
              0.6666666666666666,
              "#ed7953"
             ],
             [
              0.7777777777777778,
              "#fb9f3a"
             ],
             [
              0.8888888888888888,
              "#fdca26"
             ],
             [
              1,
              "#f0f921"
             ]
            ],
            "type": "histogram2d"
           }
          ],
          "histogram2dcontour": [
           {
            "colorbar": {
             "outlinewidth": 0,
             "ticks": ""
            },
            "colorscale": [
             [
              0,
              "#0d0887"
             ],
             [
              0.1111111111111111,
              "#46039f"
             ],
             [
              0.2222222222222222,
              "#7201a8"
             ],
             [
              0.3333333333333333,
              "#9c179e"
             ],
             [
              0.4444444444444444,
              "#bd3786"
             ],
             [
              0.5555555555555556,
              "#d8576b"
             ],
             [
              0.6666666666666666,
              "#ed7953"
             ],
             [
              0.7777777777777778,
              "#fb9f3a"
             ],
             [
              0.8888888888888888,
              "#fdca26"
             ],
             [
              1,
              "#f0f921"
             ]
            ],
            "type": "histogram2dcontour"
           }
          ],
          "mesh3d": [
           {
            "colorbar": {
             "outlinewidth": 0,
             "ticks": ""
            },
            "type": "mesh3d"
           }
          ],
          "parcoords": [
           {
            "line": {
             "colorbar": {
              "outlinewidth": 0,
              "ticks": ""
             }
            },
            "type": "parcoords"
           }
          ],
          "pie": [
           {
            "automargin": true,
            "type": "pie"
           }
          ],
          "scatter": [
           {
            "marker": {
             "colorbar": {
              "outlinewidth": 0,
              "ticks": ""
             }
            },
            "type": "scatter"
           }
          ],
          "scatter3d": [
           {
            "line": {
             "colorbar": {
              "outlinewidth": 0,
              "ticks": ""
             }
            },
            "marker": {
             "colorbar": {
              "outlinewidth": 0,
              "ticks": ""
             }
            },
            "type": "scatter3d"
           }
          ],
          "scattercarpet": [
           {
            "marker": {
             "colorbar": {
              "outlinewidth": 0,
              "ticks": ""
             }
            },
            "type": "scattercarpet"
           }
          ],
          "scattergeo": [
           {
            "marker": {
             "colorbar": {
              "outlinewidth": 0,
              "ticks": ""
             }
            },
            "type": "scattergeo"
           }
          ],
          "scattergl": [
           {
            "marker": {
             "colorbar": {
              "outlinewidth": 0,
              "ticks": ""
             }
            },
            "type": "scattergl"
           }
          ],
          "scattermapbox": [
           {
            "marker": {
             "colorbar": {
              "outlinewidth": 0,
              "ticks": ""
             }
            },
            "type": "scattermapbox"
           }
          ],
          "scatterpolar": [
           {
            "marker": {
             "colorbar": {
              "outlinewidth": 0,
              "ticks": ""
             }
            },
            "type": "scatterpolar"
           }
          ],
          "scatterpolargl": [
           {
            "marker": {
             "colorbar": {
              "outlinewidth": 0,
              "ticks": ""
             }
            },
            "type": "scatterpolargl"
           }
          ],
          "scatterternary": [
           {
            "marker": {
             "colorbar": {
              "outlinewidth": 0,
              "ticks": ""
             }
            },
            "type": "scatterternary"
           }
          ],
          "surface": [
           {
            "colorbar": {
             "outlinewidth": 0,
             "ticks": ""
            },
            "colorscale": [
             [
              0,
              "#0d0887"
             ],
             [
              0.1111111111111111,
              "#46039f"
             ],
             [
              0.2222222222222222,
              "#7201a8"
             ],
             [
              0.3333333333333333,
              "#9c179e"
             ],
             [
              0.4444444444444444,
              "#bd3786"
             ],
             [
              0.5555555555555556,
              "#d8576b"
             ],
             [
              0.6666666666666666,
              "#ed7953"
             ],
             [
              0.7777777777777778,
              "#fb9f3a"
             ],
             [
              0.8888888888888888,
              "#fdca26"
             ],
             [
              1,
              "#f0f921"
             ]
            ],
            "type": "surface"
           }
          ],
          "table": [
           {
            "cells": {
             "fill": {
              "color": "#EBF0F8"
             },
             "line": {
              "color": "white"
             }
            },
            "header": {
             "fill": {
              "color": "#C8D4E3"
             },
             "line": {
              "color": "white"
             }
            },
            "type": "table"
           }
          ]
         },
         "layout": {
          "annotationdefaults": {
           "arrowcolor": "#2a3f5f",
           "arrowhead": 0,
           "arrowwidth": 1
          },
          "autotypenumbers": "strict",
          "coloraxis": {
           "colorbar": {
            "outlinewidth": 0,
            "ticks": ""
           }
          },
          "colorscale": {
           "diverging": [
            [
             0,
             "#8e0152"
            ],
            [
             0.1,
             "#c51b7d"
            ],
            [
             0.2,
             "#de77ae"
            ],
            [
             0.3,
             "#f1b6da"
            ],
            [
             0.4,
             "#fde0ef"
            ],
            [
             0.5,
             "#f7f7f7"
            ],
            [
             0.6,
             "#e6f5d0"
            ],
            [
             0.7,
             "#b8e186"
            ],
            [
             0.8,
             "#7fbc41"
            ],
            [
             0.9,
             "#4d9221"
            ],
            [
             1,
             "#276419"
            ]
           ],
           "sequential": [
            [
             0,
             "#0d0887"
            ],
            [
             0.1111111111111111,
             "#46039f"
            ],
            [
             0.2222222222222222,
             "#7201a8"
            ],
            [
             0.3333333333333333,
             "#9c179e"
            ],
            [
             0.4444444444444444,
             "#bd3786"
            ],
            [
             0.5555555555555556,
             "#d8576b"
            ],
            [
             0.6666666666666666,
             "#ed7953"
            ],
            [
             0.7777777777777778,
             "#fb9f3a"
            ],
            [
             0.8888888888888888,
             "#fdca26"
            ],
            [
             1,
             "#f0f921"
            ]
           ],
           "sequentialminus": [
            [
             0,
             "#0d0887"
            ],
            [
             0.1111111111111111,
             "#46039f"
            ],
            [
             0.2222222222222222,
             "#7201a8"
            ],
            [
             0.3333333333333333,
             "#9c179e"
            ],
            [
             0.4444444444444444,
             "#bd3786"
            ],
            [
             0.5555555555555556,
             "#d8576b"
            ],
            [
             0.6666666666666666,
             "#ed7953"
            ],
            [
             0.7777777777777778,
             "#fb9f3a"
            ],
            [
             0.8888888888888888,
             "#fdca26"
            ],
            [
             1,
             "#f0f921"
            ]
           ]
          },
          "colorway": [
           "#636efa",
           "#EF553B",
           "#00cc96",
           "#ab63fa",
           "#FFA15A",
           "#19d3f3",
           "#FF6692",
           "#B6E880",
           "#FF97FF",
           "#FECB52"
          ],
          "font": {
           "color": "#2a3f5f"
          },
          "geo": {
           "bgcolor": "white",
           "lakecolor": "white",
           "landcolor": "#E5ECF6",
           "showlakes": true,
           "showland": true,
           "subunitcolor": "white"
          },
          "hoverlabel": {
           "align": "left"
          },
          "hovermode": "closest",
          "mapbox": {
           "style": "light"
          },
          "paper_bgcolor": "white",
          "plot_bgcolor": "#E5ECF6",
          "polar": {
           "angularaxis": {
            "gridcolor": "white",
            "linecolor": "white",
            "ticks": ""
           },
           "bgcolor": "#E5ECF6",
           "radialaxis": {
            "gridcolor": "white",
            "linecolor": "white",
            "ticks": ""
           }
          },
          "scene": {
           "xaxis": {
            "backgroundcolor": "#E5ECF6",
            "gridcolor": "white",
            "gridwidth": 2,
            "linecolor": "white",
            "showbackground": true,
            "ticks": "",
            "zerolinecolor": "white"
           },
           "yaxis": {
            "backgroundcolor": "#E5ECF6",
            "gridcolor": "white",
            "gridwidth": 2,
            "linecolor": "white",
            "showbackground": true,
            "ticks": "",
            "zerolinecolor": "white"
           },
           "zaxis": {
            "backgroundcolor": "#E5ECF6",
            "gridcolor": "white",
            "gridwidth": 2,
            "linecolor": "white",
            "showbackground": true,
            "ticks": "",
            "zerolinecolor": "white"
           }
          },
          "shapedefaults": {
           "line": {
            "color": "#2a3f5f"
           }
          },
          "ternary": {
           "aaxis": {
            "gridcolor": "white",
            "linecolor": "white",
            "ticks": ""
           },
           "baxis": {
            "gridcolor": "white",
            "linecolor": "white",
            "ticks": ""
           },
           "bgcolor": "#E5ECF6",
           "caxis": {
            "gridcolor": "white",
            "linecolor": "white",
            "ticks": ""
           }
          },
          "title": {
           "x": 0.05
          },
          "xaxis": {
           "automargin": true,
           "gridcolor": "white",
           "linecolor": "white",
           "ticks": "",
           "title": {
            "standoff": 15
           },
           "zerolinecolor": "white",
           "zerolinewidth": 2
          },
          "yaxis": {
           "automargin": true,
           "gridcolor": "white",
           "linecolor": "white",
           "ticks": "",
           "title": {
            "standoff": 15
           },
           "zerolinecolor": "white",
           "zerolinewidth": 2
          }
         }
        },
        "xaxis": {
         "anchor": "y",
         "domain": [
          0,
          1
         ],
         "title": {
          "text": "log population"
         }
        },
        "yaxis": {
         "anchor": "x",
         "domain": [
          0,
          1
         ],
         "title": {
          "text": "log amount"
         }
        }
       }
      },
      "text/html": [
       "<div>                            <div id=\"57efbb1b-7c5c-4060-b3d7-ee4c9d05472d\" class=\"plotly-graph-div\" style=\"height:525px; width:100%;\"></div>            <script type=\"text/javascript\">                require([\"plotly\"], function(Plotly) {                    window.PLOTLYENV=window.PLOTLYENV || {};                                    if (document.getElementById(\"57efbb1b-7c5c-4060-b3d7-ee4c9d05472d\")) {                    Plotly.newPlot(                        \"57efbb1b-7c5c-4060-b3d7-ee4c9d05472d\",                        [{\"customdata\": [[\"Cook County\", \"IL\"], [\"Harris County\", \"TX\"], [\"Orange County\", \"CA\"], [\"Kings County\", \"NY\"], [\"Dallas County\", \"TX\"], [\"Fulton County\", \"GA\"], [\"Clark County\", \"NV\"], [\"Orange County\", \"FL\"], [\"King County\", \"WA\"], [\"Nassau County\", \"NY\"], [\"Hillsborough County\", \"FL\"], [\"Suffolk County\", \"NY\"], [\"Wayne County\", \"MI\"], [\"Middlesex County\", \"MA\"], [\"Mecklenburg County\", \"NC\"], [\"Fairfield County\", \"CT\"], [\"Shelby County\", \"TN\"], [\"Duval County\", \"FL\"], [\"Montgomery County\", \"MD\"], [\"Essex County\", \"NJ\"], [\"Lee County\", \"FL\"], [\"Montgomery County\", \"PA\"], [\"Franklin County\", \"OH\"], [\"Middlesex County\", \"NJ\"], [\"St. Louis County\", \"MO\"], [\"Marion County\", \"IN\"], [\"Essex County\", \"MA\"], [\"Davidson County\", \"TN\"], [\"Suffolk County\", \"MA\"], [\"Jefferson County\", \"CO\"], [\"Erie County\", \"NY\"], [\"Hamilton County\", \"OH\"], [\"Lake County\", \"IL\"], [\"Seminole County\", \"FL\"], [\"Union County\", \"NJ\"], [\"Jefferson County\", \"AL\"], [\"Osceola County\", \"FL\"], [\"Worcester County\", \"MA\"], [\"Pierce County\", \"WA\"], [\"Polk County\", \"FL\"], [\"Morris County\", \"NJ\"], [\"Delaware County\", \"PA\"], [\"Jefferson County\", \"KY\"], [\"Johnson County\", \"KS\"], [\"Jackson County\", \"MO\"], [\"Hidalgo County\", \"TX\"], [\"Summit County\", \"OH\"], [\"Douglas County\", \"NE\"], [\"El Paso County\", \"CO\"], [\"Montgomery County\", \"TX\"], [\"Ramsey County\", \"MN\"], [\"Lake County\", \"IN\"], [\"Monroe County\", \"NY\"], [\"Richmond County\", \"NY\"], [\"Kane County\", \"IL\"], [\"Washington County\", \"OR\"], [\"Plymouth County\", \"MA\"], [\"Camden County\", \"NJ\"], [\"El Paso County\", \"TX\"], [\"Richland County\", \"SC\"], [\"Williamson County\", \"TN\"], [\"Kent County\", \"MI\"], [\"Pulaski County\", \"AR\"], [\"Bristol County\", \"MA\"], [\"Howard County\", \"MD\"], [\"Clark County\", \"WA\"], [\"Somerset County\", \"NJ\"], [\"Williamson County\", \"TX\"], [\"Walton County\", \"GA\"], [\"Chatham County\", \"GA\"], [\"Paulding County\", \"GA\"], [\"Cumberland County\", \"ME\"], [\"Sedgwick County\", \"KS\"], [\"Adams County\", \"CO\"], [\"Rockingham County\", \"NH\"], [\"Chester County\", \"PA\"], [\"Lancaster County\", \"PA\"], [\"Knox County\", \"TN\"], [\"Orange County\", \"NY\"], [\"Polk County\", \"IA\"], [\"Hamilton County\", \"IN\"], [\"Marion County\", \"FL\"], [\"Montgomery County\", \"OH\"], [\"Leon County\", \"FL\"], [\"Lake County\", \"FL\"], [\"Hillsborough County\", \"NH\"], [\"Dakota County\", \"MN\"], [\"Lucas County\", \"OH\"], [\"Escambia County\", \"FL\"], [\"Warren County\", \"OH\"], [\"Douglas County\", \"CO\"], [\"Albany County\", \"NY\"], [\"Henry County\", \"GA\"], [\"York County\", \"PA\"], [\"Madison County\", \"AL\"], [\"Union County\", \"NC\"], [\"Baldwin County\", \"AL\"], [\"Hamilton County\", \"TN\"], [\"Clayton County\", \"GA\"], [\"Westmoreland County\", \"PA\"], [\"Lane County\", \"OR\"], [\"Hall County\", \"GA\"], [\"St. Charles County\", \"MO\"], [\"Lancaster County\", \"NE\"], [\"Cleveland County\", \"OK\"], [\"Mercer County\", \"NJ\"], [\"Shelby County\", \"AL\"], [\"Cameron County\", \"TX\"], [\"Ottawa County\", \"MI\"], [\"Forsyth County\", \"NC\"], [\"Montgomery County\", \"AL\"], [\"Martin County\", \"FL\"], [\"Santa Cruz County\", \"CA\"], [\"Greene County\", \"MO\"], [\"Jackson County\", \"OR\"], [\"Allen County\", \"IN\"], [\"Monroe County\", \"FL\"], [\"Ellis County\", \"TX\"], [\"Davis County\", \"UT\"], [\"Washington County\", \"MN\"], [\"Bell County\", \"TX\"], [\"Rutherford County\", \"TN\"], [\"St. Clair County\", \"IL\"], [\"Forsyth County\", \"GA\"], [\"Bay County\", \"FL\"], [\"Gloucester County\", \"NJ\"], [\"Benton County\", \"AR\"], [\"Harrison County\", \"MS\"], [\"Jefferson County\", \"TX\"], [\"Beaufort County\", \"SC\"], [\"Fayette County\", \"KY\"], [\"Stark County\", \"OH\"], [\"Madison County\", \"MS\"], [\"Northampton County\", \"PA\"], [\"Midland County\", \"TX\"], [\"Washington County\", \"PA\"], [\"Smith County\", \"TX\"], [\"Winnebago County\", \"IL\"], [\"Kendall County\", \"IL\"], [\"Frederick County\", \"MD\"], [\"Johnson County\", \"TX\"], [\"Cass County\", \"ND\"], [\"York County\", \"ME\"], [\"Douglas County\", \"GA\"], [\"Washington County\", \"UT\"], [\"Berkeley County\", \"SC\"], [\"Charlotte County\", \"FL\"], [\"Fayette County\", \"GA\"], [\"Middlesex County\", \"CT\"], [\"Gallatin County\", \"MT\"], [\"Clay County\", \"MO\"], [\"Cumberland County\", \"NC\"], [\"Chesterfield County\", \"VA\"], [\"Sussex County\", \"DE\"], [\"St. Joseph County\", \"IN\"], [\"Genesee County\", \"MI\"], [\"Thurston County\", \"WA\"], [\"Linn County\", \"IA\"], [\"Champaign County\", \"IL\"], [\"Richmond County\", \"GA\"], [\"Brown County\", \"WI\"], [\"Kent County\", \"RI\"], [\"York County\", \"SC\"], [\"Sumner County\", \"TN\"], [\"Madison County\", \"IL\"], [\"Cherokee County\", \"GA\"], [\"Erie County\", \"PA\"], [\"Cumberland County\", \"PA\"], [\"Clay County\", \"FL\"], [\"Montgomery County\", \"TN\"], [\"Orange County\", \"NC\"], [\"Lake County\", \"OH\"], [\"Butler County\", \"PA\"], [\"Washington County\", \"AR\"], [\"Wayne County\", \"NY\"], [\"Randolph County\", \"NC\"], [\"Rowan County\", \"NC\"], [\"Wilson County\", \"TN\"], [\"Washington County\", \"RI\"], [\"Monroe County\", \"PA\"], [\"Jackson County\", \"MS\"], [\"Butte County\", \"CA\"], [\"Walton County\", \"FL\"], [\"St. Louis County\", \"MN\"], [\"Sevier County\", \"TN\"], [\"Bibb County\", \"GA\"], [\"Scott County\", \"IA\"], [\"Hampshire County\", \"MA\"], [\"Benton County\", \"WA\"], [\"Delaware County\", \"OH\"], [\"Livingston County\", \"MI\"], [\"Dorchester County\", \"SC\"], [\"Sussex County\", \"NJ\"], [\"Kent County\", \"DE\"], [\"Wayne County\", \"OH\"], [\"Rock County\", \"WI\"], [\"Greene County\", \"OH\"], [\"Scott County\", \"MN\"], [\"Oneida County\", \"NY\"], [\"Guadalupe County\", \"TX\"], [\"Houston County\", \"GA\"], [\"Johnson County\", \"IA\"], [\"Washington County\", \"WI\"], [\"Winnebago County\", \"WI\"], [\"Carroll County\", \"MD\"], [\"Columbia County\", \"GA\"], [\"Butler County\", \"OH\"], [\"Morgan County\", \"AL\"], [\"Wright County\", \"MN\"], [\"Sullivan County\", \"NY\"], [\"Beaver County\", \"PA\"], [\"Anderson County\", \"SC\"], [\"Wood County\", \"OH\"], [\"Grayson County\", \"TX\"], [\"Berrien County\", \"MI\"], [\"Putnam County\", \"NY\"], [\"Wichita County\", \"TX\"], [\"Limestone County\", \"AL\"], [\"Richland County\", \"OH\"], [\"St. Clair County\", \"MI\"], [\"Jasper County\", \"MO\"], [\"Jefferson County\", \"MO\"], [\"Nevada County\", \"CA\"], [\"Washington County\", \"MD\"], [\"Humboldt County\", \"CA\"], [\"Saline County\", \"AR\"], [\"Brunswick County\", \"NC\"], [\"Sumter County\", \"SC\"], [\"Walworth County\", \"WI\"], [\"Warren County\", \"NJ\"], [\"Newton County\", \"GA\"], [\"Jackson County\", \"MI\"], [\"St. Croix County\", \"WI\"], [\"Sullivan County\", \"TN\"], [\"Moore County\", \"NC\"], [\"Platte County\", \"MO\"], [\"Johnson County\", \"IN\"], [\"Lee County\", \"AL\"], [\"Warren County\", \"KY\"], [\"Lowndes County\", \"GA\"], [\"Comanche County\", \"OK\"], [\"Pickens County\", \"SC\"], [\"Stafford County\", \"VA\"], [\"Franklin County\", \"MO\"], [\"Medina County\", \"OH\"], [\"Tazewell County\", \"IL\"], [\"Linn County\", \"OR\"], [\"Clark County\", \"IN\"], [\"Douglas County\", \"KS\"], [\"Boone County\", \"MO\"], [\"Yuma County\", \"AZ\"], [\"Fayette County\", \"PA\"], [\"St. Clair County\", \"AL\"], [\"Monroe County\", \"MI\"], [\"Franklin County\", \"PA\"], [\"Lauderdale County\", \"AL\"], [\"Wayne County\", \"NC\"], [\"Douglas County\", \"OR\"], [\"Taylor County\", \"TX\"], [\"Chautauqua County\", \"NY\"], [\"Floyd County\", \"GA\"], [\"Dallas County\", \"IA\"], [\"Nassau County\", \"FL\"], [\"Ward County\", \"ND\"], [\"Cass County\", \"MO\"], [\"Madison County\", \"IN\"], [\"Franklin County\", \"MA\"], [\"Florence County\", \"SC\"], [\"Windham County\", \"CT\"], [\"Macon County\", \"IL\"], [\"Pennington County\", \"SD\"], [\"Warren County\", \"NY\"], [\"Lancaster County\", \"SC\"], [\"Boone County\", \"KY\"], [\"Johnston County\", \"NC\"], [\"Jefferson County\", \"NY\"], [\"Clark County\", \"OH\"], [\"Madison County\", \"TN\"], [\"Henderson County\", \"NC\"], [\"Hardin County\", \"KY\"], [\"Adams County\", \"IL\"], [\"Laurens County\", \"SC\"], [\"Oldham County\", \"KY\"], [\"Calhoun County\", \"AL\"], [\"Dodge County\", \"WI\"], [\"San Juan County\", \"NM\"], [\"Lawrence County\", \"PA\"], [\"Clarke County\", \"GA\"], [\"Houston County\", \"AL\"], [\"Potter County\", \"TX\"], [\"Kings County\", \"CA\"], [\"Carroll County\", \"GA\"], [\"Lee County\", \"MS\"], [\"Van Buren County\", \"MI\"], [\"Benton County\", \"OR\"], [\"Vermilion County\", \"IL\"], [\"Midland County\", \"MI\"], [\"Rockingham County\", \"NC\"], [\"Blount County\", \"TN\"], [\"Bay County\", \"MI\"], [\"Williamson County\", \"IL\"], [\"Pottawatomie County\", \"OK\"], [\"Sumter County\", \"FL\"], [\"Rice County\", \"MN\"], [\"Berkeley County\", \"WV\"], [\"Mercer County\", \"PA\"], [\"Portage County\", \"WI\"], [\"Harrison County\", \"TX\"], [\"Robertson County\", \"TN\"], [\"Grant County\", \"WA\"], [\"Buchanan County\", \"MO\"], [\"Christian County\", \"MO\"], [\"Frederick County\", \"VA\"], [\"Washington County\", \"TN\"], [\"Delaware County\", \"IN\"], [\"Wilson County\", \"NC\"], [\"Cumberland County\", \"NJ\"], [\"Erie County\", \"OH\"], [\"Campbell County\", \"KY\"], [\"Marshall County\", \"AL\"], [\"Butler County\", \"KS\"], [\"Crawford County\", \"PA\"], [\"Clinton County\", \"NY\"], [\"Franklin County\", \"WA\"], [\"Lincoln County\", \"NC\"], [\"Elmore County\", \"AL\"], [\"Rockingham County\", \"VA\"], [\"Hancock County\", \"OH\"], [\"Montgomery County\", \"VA\"], [\"Adams County\", \"PA\"], [\"Allen County\", \"OH\"], [\"Walker County\", \"TX\"], [\"Jefferson County\", \"WI\"], [\"Northumberland County\", \"PA\"], [\"Rutherford County\", \"NC\"], [\"Portage County\", \"OH\"], [\"Calhoun County\", \"MI\"], [\"Somerset County\", \"PA\"], [\"Wood County\", \"WV\"], [\"Lewis County\", \"WA\"], [\"Wood County\", \"WI\"], [\"Davidson County\", \"NC\"], [\"Putnam County\", \"FL\"], [\"Morgan County\", \"IN\"], [\"Chatham County\", \"NC\"], [\"Fairfield County\", \"OH\"], [\"Madison County\", \"KY\"], [\"Orange County\", \"TX\"], [\"Jefferson County\", \"OH\"], [\"Liberty County\", \"GA\"], [\"Wilkes County\", \"NC\"], [\"Oconee County\", \"SC\"], [\"Lauderdale County\", \"MS\"], [\"Steuben County\", \"NY\"], [\"White County\", \"AR\"], [\"Jones County\", \"MS\"], [\"Walker County\", \"AL\"], [\"Cleveland County\", \"NC\"], [\"Otero County\", \"NM\"], [\"Harrison County\", \"WV\"], [\"Livingston County\", \"NY\"], [\"Miami County\", \"OH\"], [\"Daviess County\", \"KY\"], [\"Lake County\", \"CA\"], [\"Columbia County\", \"FL\"], [\"Allegany County\", \"MD\"], [\"Henderson County\", \"TX\"], [\"Christian County\", \"KY\"], [\"Columbia County\", \"PA\"], [\"Wayne County\", \"IN\"], [\"Bedford County\", \"VA\"], [\"Liberty County\", \"TX\"], [\"Bradley County\", \"TN\"], [\"Floyd County\", \"IN\"], [\"Polk County\", \"OR\"], [\"Grant County\", \"IN\"], [\"Carbon County\", \"PA\"], [\"Putnam County\", \"TN\"], [\"Burke County\", \"NC\"], [\"Armstrong County\", \"PA\"], [\"Madison County\", \"NY\"], [\"York County\", \"VA\"], [\"Caldwell County\", \"NC\"], [\"Walker County\", \"GA\"], [\"Anderson County\", \"TN\"], [\"Greene County\", \"TN\"], [\"Marquette County\", \"MI\"], [\"Surry County\", \"NC\"], [\"Greenwood County\", \"SC\"], [\"Howard County\", \"IN\"], [\"Marion County\", \"OH\"]], \"hovertemplate\": \"log population=%{x}<br>log amount=%{y}<br>county_name=%{customdata[0]}<br>State=%{customdata[1]}<extra></extra>\", \"legendgroup\": \"\", \"marker\": {\"color\": \"#636efa\", \"symbol\": \"circle\"}, \"mode\": \"markers\", \"name\": \"\", \"orientation\": \"v\", \"showlegend\": false, \"type\": \"scatter\", \"x\": [15.454552514334944, 15.365904161729082, 14.971036119316583, 14.755479925112878, 14.78458954621325, 13.877486736604398, 14.633842204780294, 14.147294679670402, 14.627676454857122, 14.12073093135326, 14.202110838904225, 14.205253382838452, 14.374750846837319, 14.292799460047751, 13.920191242589341, 13.75717356752275, 13.750615706681991, 13.772347283118311, 13.86495574565419, 13.591084935147508, 13.5548948638562, 13.630282782204048, 14.090681694008882, 13.623213814008237, 13.809698701799244, 13.7794501258582, 13.578564691421736, 13.450434710760678, 13.597238869828832, 12.977321420251995, 13.730717083246413, 13.613973153685189, 13.453873322195728, 13.064365552533967, 13.22913669458792, 13.397830652031807, 12.836681968955657, 13.629930096704976, 13.715668122990353, 13.493619300315576, 13.105918905188307, 13.24766827501655, 13.549925211377277, 13.308678615493003, 13.46312781789656, 13.674761178233274, 13.201198587114774, 13.255717004229448, 13.487566056628404, 13.31692801423014, 13.218257023322828, 13.09292014848393, 13.516794501052122, 13.073473508264522, 13.185156000348224, 13.30733475365701, 13.163892961524006, 13.135222345355498, 13.64024961625927, 12.937861044445642, 12.38175554847701, 13.3953708019703, 12.878790052178605, 13.244965007188728, 12.693701287691962, 13.098564415389308, 12.703612401720317, 13.28881127837528, 11.457338756530477, 12.575668750557428, 12.035681635884124, 12.594740804761773, 13.153943436500116, 13.156612135463563, 12.643582137400335, 13.171132588973304, 13.209868632416129, 13.061153709481792, 12.860842756969115, 13.10248918754761, 12.730833718314297, 12.809237677087458, 13.183810249315776, 12.589912265941184, 12.813438601243895, 12.940901451022256, 12.969261147761042, 12.967691228302266, 12.670799879050508, 12.365645740314363, 12.768980152665675, 12.62972469733546, 12.365470960972836, 13.014907334328445, 12.829089701032542, 12.38780652967838, 12.315975827637399, 12.815305466569022, 12.585385409491405, 12.762537761019999, 12.853351264879374, 12.228034704280935, 12.904262092471884, 12.67322847363677, 12.556778811702994, 12.814288103301658, 12.290882434134964, 12.955512726592548, 12.583926719930156, 12.853947840864999, 12.330438411840374, 11.9891596439666, 12.518006989734088, 12.58822136029036, 12.305664554725132, 12.846080091237976, 11.21489671646423, 12.127170120934132, 12.781227080946238, 12.477777763458814, 12.8019487249356, 12.713748313390054, 12.467228487841936, 12.405955758203133, 12.070854116204861, 12.583261728286601, 12.539472309487973, 12.245677900122534, 12.435456684433838, 12.165885865884892, 12.68587807974817, 12.822894782664564, 11.573757124176472, 12.629001045514643, 12.08295540828309, 12.239821685576548, 12.357724491585508, 12.551688664352127, 11.767490160959182, 12.466693082722, 12.077198960354352, 12.111338799613563, 12.24356590595731, 11.893708460432897, 12.087041331097916, 12.336692929988049, 12.149025990150898, 11.647639907515146, 11.998039357020318, 11.647753516569034, 12.429008175209383, 12.723404060667455, 12.773662272032945, 12.364037470819389, 12.512917434696671, 12.913647741346187, 12.579482771864628, 12.331409302841458, 12.253380759624788, 12.218584050467237, 12.4857553078448, 12.009400611421757, 12.54603521242714, 12.16150928582352, 12.479780025236296, 12.463706508500222, 12.505169322797208, 12.442606149963144, 12.297977032199666, 12.250056037563084, 11.908178608001975, 12.346482204243552, 12.143415021063573, 12.38500095175563, 11.40665342288728, 11.875253400600698, 11.864201862947162, 11.882120701905361, 11.740674395228426, 12.04514656442264, 11.874905312990494, 12.297675963403172, 11.212779371658742, 12.201411800647978, 11.495270529731508, 11.939231876450041, 12.060717339420746, 11.988103185489694, 12.227785212435824, 12.250936062490146, 12.165224609004161, 12.000333013577835, 11.852877354855691, 12.105069290313756, 11.658842339870382, 12.003674904026623, 12.037281143339987, 11.91178882944383, 12.340039568297673, 12.024832503796118, 11.969482847262736, 11.925961838574711, 11.820660133473396, 12.05470891189147, 12.034376439237107, 11.962177767046336, 12.856140076424435, 11.692568437558423, 11.837737123384356, 11.230986867145512, 12.00718868623719, 12.21878154427151, 11.781554678978903, 11.82196777454334, 11.94081068679887, 11.495982744239916, 11.792298109550869, 11.502016174462192, 11.704817742620797, 11.977464188784896, 11.706252900940717, 12.324215616402105, 11.510472458809161, 11.925359566468508, 11.817154871997516, 11.715351890962376, 11.869340375103102, 11.577973231420392, 11.550876141198703, 11.56425525869167, 11.623965819759219, 11.973572961791938, 11.415169296172337, 11.972550421637576, 11.5216869706388, 11.556157353362229, 11.971406715843349, 12.010921135748113, 11.79732214643048, 11.673393292395582, 11.701469289907028, 11.751028562222944, 11.937421660984523, 11.551828820078464, 12.099300022206343, 11.789063662551742, 11.77335709386934, 11.680995955994323, 11.713897024259229, 12.103281049592956, 12.272735471234236, 11.769689461786815, 11.402127973487557, 11.921718363171067, 11.951354574279836, 11.437436539739576, 11.721004108251542, 11.617105283879892, 11.835255310605154, 11.751178294084982, 11.497791522385512, 11.44521391509716, 11.392169263834429, 11.121969587054622, 11.56911674461997, 11.771968836757155, 11.15174036555361, 11.837129901765959, 11.66806422791112, 11.552232712840812, 11.641978092884843, 11.065762979305855, 11.492845199136037, 11.802463314402226, 12.251710226479533, 11.6067254140409, 11.80621429016727, 11.492559479017356, 11.67348697998162, 11.616907030312932, 11.088812562489581, 11.119779167779317, 11.109443389352805, 11.640482798385104, 11.383260872343401, 11.727698077534676, 11.356411995953781, 11.762368142618339, 11.570080545471289, 11.673469946527916, 11.937800966598216, 11.695180352875195, 11.355522836618695, 11.234229562348085, 11.440924502281465, 10.993916448396218, 11.328473640767005, 11.418724669571402, 11.798765842542638, 11.543706820559663, 11.106414810468877, 11.192610001903745, 11.793733968478836, 11.112029900576434, 11.688314715423312, 11.602985523337876, 11.167218721232894, 11.105753901695289, 11.181820797143025, 11.489994549679507, 11.377838577476302, 11.39183070159217, 11.399902332977057, 11.77047044300177, 11.645137237278734, 11.31204474745499, 11.915232257512988, 11.215408521666184, 11.446614707682807, 11.480133642145237, 11.111118657114291, 11.346032276453492, 11.29582611064033, 11.463966286518687, 11.363392440675852, 11.304781357446178, 11.31384017874909, 11.235629272070865, 11.498167093994683, 11.54257164203526, 11.536163361437406, 11.19781738092779, 11.347685188906706, 11.416888020773253, 11.112880640547596, 11.998224028090887, 11.806780942682787, 11.204319336656239, 11.332817456469593, 11.298580591512366, 11.198201021406565, 12.029389164872374, 11.218836243841805, 11.163211948257873, 11.218151638704692, 11.967650468176817, 11.44021497741833, 11.331355625565948, 11.109817576435741, 11.025734984301671, 11.133303526819581, 11.284090749660727, 11.213508136300026, 11.465613707418978, 11.27407165120037, 11.128703123130714, 11.059125838870145, 11.49218179503228, 11.119734717737453, 11.116261512815132, 11.049523993438969, 11.580462610735784, 11.527922445976136, 11.072651497155183, 11.180050749502858, 11.162175789050872, 11.323422181199975, 11.162814644244133, 11.081588549294494, 11.095650898902566, 11.277165156044557, 11.387577638296568, 11.590904506286817, 11.271134119283536, 11.363090459210573, 11.093903881679275, 11.069478076534185, 11.292839733755256, 11.412939370094302, 11.078057292492748, 11.16960382464777, 11.131372176908377, 11.316642905319645, 11.152830393342503, 11.251274945726005, 11.14286128391248, 11.107945239287579, 11.181402958199929, 11.167769634845211, 11.32108676348443, 11.08357229553351], \"xaxis\": \"x\", \"y\": [24.103025751097526, 23.437269423162956, 23.295031755212726, 22.450086057504787, 23.452880543199928, 23.946948349253535, 22.49140401383694, 22.294496765319344, 23.148525704310867, 22.337590741751082, 22.127075745718937, 22.48849314807484, 22.160583676622085, 23.15283452194583, 21.89973442495531, 21.88500202337534, 21.944713572434633, 21.672230260639967, 22.109847509098532, 22.07296974091631, 21.36870459972652, 22.01518123678589, 23.403653162942557, 21.79863708159738, 22.08240862458183, 22.94210399360139, 21.77029208321554, 22.874898473502004, 23.008883798231768, 21.041984705007586, 21.78008228039237, 21.84049388693574, 21.930795784349655, 21.075853414082815, 21.292281474839424, 21.292748072765722, 19.883421928071822, 21.441665225440385, 21.557908910424366, 20.87501167740691, 21.38927808764797, 21.165468569142295, 21.570562697581686, 21.650057330630105, 21.445403506152395, 20.96187242209161, 21.376952170901745, 21.462925881189538, 21.222714528949826, 21.024701832434395, 22.65836355252255, 20.684713815534565, 21.43139201078756, 20.48516752042966, 21.133223567649104, 21.08326595411393, 21.2068081457565, 21.05414763301962, 21.01508136278725, 22.425293519182723, 20.87344216715863, 21.494760989436948, 22.114760139799913, 21.111629652130713, 21.272888267993746, 20.84467132302193, 21.422665079865347, 20.789743033603227, 19.84708049452442, 20.498185389208803, 19.94947455563736, 20.924344834259287, 21.222781562191273, 20.97174019785459, 20.907280058732688, 21.119564466840707, 21.20234420200453, 20.92896255413988, 20.470283830724245, 22.09260818123145, 20.67525874784565, 20.119307784482185, 21.091105065942205, 23.56490855867679, 19.90160376576336, 20.762401651553606, 20.694873720021103, 20.818422187937873, 20.335153088355124, 20.855997121868867, 20.02228076944373, 23.500130279559432, 19.248254125276596, 20.78126618609656, 21.031682733042256, 20.135715730670093, 20.06530921671875, 20.655710481684167, 19.73421456147497, 20.618349085244127, 20.67173472959939, 20.318976753904607, 20.443766972714478, 21.795502757088798, 20.141202842796453, 22.757553060075747, 20.560536274667108, 19.926869210806892, 21.089437225349446, 20.766893403746423, 22.358710434889485, 19.53498285424108, 20.422623029008598, 20.549281902319457, 20.196400459838788, 20.644253576908472, 19.658988082874348, 19.53900924866697, 20.31162481232556, 20.493525621306677, 19.730644192080682, 19.97797106725621, 20.128044123434755, 19.58201429426053, 19.791262607423068, 20.50147264625976, 20.09839292512163, 19.652826341063996, 20.24133855001642, 19.6893678664158, 20.49626738441378, 20.303713431013875, 19.74076465188825, 20.295657542160924, 20.613115585909288, 20.49451489288726, 20.145504200907496, 20.266393358054756, 19.813620446449548, 20.856396675100953, 19.565374179220985, 20.39840726461853, 19.782068054997435, 19.044020616944454, 20.817759165036378, 19.208473760097966, 19.322972947664756, 19.322988051105277, 19.94371980248626, 19.463656477037166, 20.01123509214762, 19.70377513627903, 19.570635680905102, 19.926091510285115, 20.437783023191376, 20.001388333436758, 22.46428575450627, 20.401376400049198, 19.97748442401699, 19.87474700495999, 20.273967769142825, 20.13537518627996, 19.829177804204164, 19.68545004793466, 19.93398189847256, 19.24882588001384, 20.208043837685064, 20.563471479581743, 19.26344739024862, 19.351272914667064, 20.001372948352614, 20.15340832070423, 20.06278737322481, 19.83897323364449, 19.671323289768264, 19.933098033101352, 19.66432190347493, 19.232663130620953, 19.57755741957071, 19.372425655451377, 19.41034073497039, 20.01037014890458, 19.26377198671708, 19.965468847926022, 19.482436346073055, 19.41465964883448, 19.909844481951346, 19.762942506527406, 19.72100519761037, 19.417769687155285, 19.768848022704766, 19.555181864325384, 19.340735145766914, 21.254561224053248, 19.832876706711488, 19.66085071250508, 19.73641149487089, 19.74653772966162, 20.051196910039007, 19.43556342161399, 18.689713757035065, 19.63080073889752, 19.832812428791748, 19.84423201259107, 19.342497224597448, 18.685692790794384, 19.243590966777443, 19.37968214142818, 19.70450426926511, 19.059264794719173, 19.820795830409942, 19.099278615459138, 19.855061002756635, 19.11838088265045, 19.25103116785944, 19.17997225221462, 19.28078972797539, 18.678030308805038, 19.528889757331996, 19.53520316968276, 19.196393672349185, 19.691829098508855, 18.960948771069308, 19.5255863845398, 19.648775432785598, 18.725539813645632, 18.713531633647925, 18.96016803487784, 19.59289070752565, 19.161454613678547, 17.959687168707347, 19.752069162659826, 19.236844453343803, 19.216352998261403, 19.24460569217033, 19.391391371619825, 18.959807502242835, 18.948400836594566, 19.49272089097229, 19.190764159368545, 19.089646237052463, 19.233679735044188, 19.226143219101633, 19.577083520124585, 19.531681764821894, 19.000565923789843, 19.24245398934581, 19.215648573824534, 19.245701905820454, 19.141471964717944, 19.399319444467412, 19.035998571062134, 18.756797817582097, 19.183991310333326, 19.19124581322214, 18.90568963030486, 18.91589921976642, 19.308781155809093, 18.978533534778403, 19.26918723081339, 18.72447042958009, 18.901544633318753, 18.527711601472177, 19.179723605619653, 18.671858457388222, 18.83412336029044, 17.904222036620393, 19.087591516385096, 19.14659046710836, 19.090773696082323, 19.149068236513347, 19.07349931862045, 18.40903645924515, 18.834961081107547, 18.37090602363155, 18.612030741029855, 19.12659292758524, 19.192325671394453, 19.119367629970686, 19.02711854375359, 18.88913335793305, 18.70089760872559, 18.767984848148018, 18.606151880442194, 18.875906816787083, 19.416039294037404, 19.09710546532411, 18.674634622296, 19.241480287521146, 19.340342071581095, 19.14594393251824, 18.65417708278656, 18.498542216615363, 19.37953620670723, 19.135624916348622, 18.62291644992828, 19.33368454345809, 18.55093765367961, 18.99214458816233, 19.297139390601014, 18.935307329761148, 19.38331761385285, 18.887878641687045, 18.806800991789036, 18.40202950687, 19.081437513918633, 18.901050738783944, 18.44622680444757, 18.220502233958182, 18.929686464198088, 18.958009981991385, 17.923226774963773, 18.71064170962834, 19.406667925450982, 18.937490498558795, 18.87392235439438, 18.702795878494303, 18.685547709434037, 18.881092379953717, 18.700615448803603, 18.535130039088, 18.938617761273026, 18.78110445238487, 19.04563680073618, 18.512895012091164, 18.12811162371188, 18.43747899556944, 19.020931308463286, 19.132462791074587, 18.59993243828662, 19.00828122113374, 18.615138167894326, 18.68327580670696, 18.73576937999319, 18.628998129959758, 19.18064643442087, 18.779721602785923, 18.60806234750607, 18.764874212848476, 18.620369126302933, 19.063090963395336, 18.26016139407974, 18.45395252145525, 18.30724180933613, 17.82799197772089, 17.706583653723435, 18.687213641046412, 18.40111439809353, 18.36291597488094, 16.89305846171239, 18.620732166977643, 18.04548105250118, 18.481885025310213, 18.50143678265251, 18.330763386944408, 18.450715875643645, 18.270871475214125, 17.91612137149432, 18.23030875138307, 18.566670359444263, 18.10135720845115, 18.410129841017884, 18.644220164579977, 18.40553433626529, 17.718275366239453, 18.5479951321417, 17.642253720468418, 17.83532898302411, 17.95754234745557, 18.512114152872844, 17.564342737399212, 17.114681937552888, 18.230498919233234, 18.77902196126624, 18.741785549356937, 18.233253161126157, 17.45307219054777, 18.407232757159917, 17.757517563962207, 18.007965053988908, 18.4095105177203, 17.657896330849468, 17.62091153836614, 17.72543668547975, 18.12100723069904, 17.493243833078584, 18.135540657115822, 18.173439413961507, 18.399250768032395, 17.08438717503883, 16.020290551127736], \"yaxis\": \"y\"}],                        {\"legend\": {\"tracegroupgap\": 0}, \"margin\": {\"t\": 60}, \"template\": {\"data\": {\"bar\": [{\"error_x\": {\"color\": \"#2a3f5f\"}, \"error_y\": {\"color\": \"#2a3f5f\"}, \"marker\": {\"line\": {\"color\": \"#E5ECF6\", \"width\": 0.5}}, \"type\": \"bar\"}], \"barpolar\": [{\"marker\": {\"line\": {\"color\": \"#E5ECF6\", \"width\": 0.5}}, \"type\": \"barpolar\"}], \"carpet\": [{\"aaxis\": {\"endlinecolor\": \"#2a3f5f\", \"gridcolor\": \"white\", \"linecolor\": \"white\", \"minorgridcolor\": \"white\", \"startlinecolor\": \"#2a3f5f\"}, \"baxis\": {\"endlinecolor\": \"#2a3f5f\", \"gridcolor\": \"white\", \"linecolor\": \"white\", \"minorgridcolor\": \"white\", \"startlinecolor\": \"#2a3f5f\"}, \"type\": \"carpet\"}], \"choropleth\": [{\"colorbar\": {\"outlinewidth\": 0, \"ticks\": \"\"}, \"type\": \"choropleth\"}], \"contour\": [{\"colorbar\": {\"outlinewidth\": 0, \"ticks\": \"\"}, \"colorscale\": [[0.0, \"#0d0887\"], [0.1111111111111111, \"#46039f\"], [0.2222222222222222, \"#7201a8\"], [0.3333333333333333, \"#9c179e\"], [0.4444444444444444, \"#bd3786\"], [0.5555555555555556, \"#d8576b\"], [0.6666666666666666, \"#ed7953\"], [0.7777777777777778, \"#fb9f3a\"], [0.8888888888888888, \"#fdca26\"], [1.0, \"#f0f921\"]], \"type\": \"contour\"}], \"contourcarpet\": [{\"colorbar\": {\"outlinewidth\": 0, \"ticks\": \"\"}, \"type\": \"contourcarpet\"}], \"heatmap\": [{\"colorbar\": {\"outlinewidth\": 0, \"ticks\": \"\"}, \"colorscale\": [[0.0, \"#0d0887\"], [0.1111111111111111, \"#46039f\"], [0.2222222222222222, \"#7201a8\"], [0.3333333333333333, \"#9c179e\"], [0.4444444444444444, \"#bd3786\"], [0.5555555555555556, \"#d8576b\"], [0.6666666666666666, \"#ed7953\"], [0.7777777777777778, \"#fb9f3a\"], [0.8888888888888888, \"#fdca26\"], [1.0, \"#f0f921\"]], \"type\": \"heatmap\"}], \"heatmapgl\": [{\"colorbar\": {\"outlinewidth\": 0, \"ticks\": \"\"}, \"colorscale\": [[0.0, \"#0d0887\"], [0.1111111111111111, \"#46039f\"], [0.2222222222222222, \"#7201a8\"], [0.3333333333333333, \"#9c179e\"], [0.4444444444444444, \"#bd3786\"], [0.5555555555555556, \"#d8576b\"], [0.6666666666666666, \"#ed7953\"], [0.7777777777777778, \"#fb9f3a\"], [0.8888888888888888, \"#fdca26\"], [1.0, \"#f0f921\"]], \"type\": \"heatmapgl\"}], \"histogram\": [{\"marker\": {\"colorbar\": {\"outlinewidth\": 0, \"ticks\": \"\"}}, \"type\": \"histogram\"}], \"histogram2d\": [{\"colorbar\": {\"outlinewidth\": 0, \"ticks\": \"\"}, \"colorscale\": [[0.0, \"#0d0887\"], [0.1111111111111111, \"#46039f\"], [0.2222222222222222, \"#7201a8\"], [0.3333333333333333, \"#9c179e\"], [0.4444444444444444, \"#bd3786\"], [0.5555555555555556, \"#d8576b\"], [0.6666666666666666, \"#ed7953\"], [0.7777777777777778, \"#fb9f3a\"], [0.8888888888888888, \"#fdca26\"], [1.0, \"#f0f921\"]], \"type\": \"histogram2d\"}], \"histogram2dcontour\": [{\"colorbar\": {\"outlinewidth\": 0, \"ticks\": \"\"}, \"colorscale\": [[0.0, \"#0d0887\"], [0.1111111111111111, \"#46039f\"], [0.2222222222222222, \"#7201a8\"], [0.3333333333333333, \"#9c179e\"], [0.4444444444444444, \"#bd3786\"], [0.5555555555555556, \"#d8576b\"], [0.6666666666666666, \"#ed7953\"], [0.7777777777777778, \"#fb9f3a\"], [0.8888888888888888, \"#fdca26\"], [1.0, \"#f0f921\"]], \"type\": \"histogram2dcontour\"}], \"mesh3d\": [{\"colorbar\": {\"outlinewidth\": 0, \"ticks\": \"\"}, \"type\": \"mesh3d\"}], \"parcoords\": [{\"line\": {\"colorbar\": {\"outlinewidth\": 0, \"ticks\": \"\"}}, \"type\": \"parcoords\"}], \"pie\": [{\"automargin\": true, \"type\": \"pie\"}], \"scatter\": [{\"marker\": {\"colorbar\": {\"outlinewidth\": 0, \"ticks\": \"\"}}, \"type\": \"scatter\"}], \"scatter3d\": [{\"line\": {\"colorbar\": {\"outlinewidth\": 0, \"ticks\": \"\"}}, \"marker\": {\"colorbar\": {\"outlinewidth\": 0, \"ticks\": \"\"}}, \"type\": \"scatter3d\"}], \"scattercarpet\": [{\"marker\": {\"colorbar\": {\"outlinewidth\": 0, \"ticks\": \"\"}}, \"type\": \"scattercarpet\"}], \"scattergeo\": [{\"marker\": {\"colorbar\": {\"outlinewidth\": 0, \"ticks\": \"\"}}, \"type\": \"scattergeo\"}], \"scattergl\": [{\"marker\": {\"colorbar\": {\"outlinewidth\": 0, \"ticks\": \"\"}}, \"type\": \"scattergl\"}], \"scattermapbox\": [{\"marker\": {\"colorbar\": {\"outlinewidth\": 0, \"ticks\": \"\"}}, \"type\": \"scattermapbox\"}], \"scatterpolar\": [{\"marker\": {\"colorbar\": {\"outlinewidth\": 0, \"ticks\": \"\"}}, \"type\": \"scatterpolar\"}], \"scatterpolargl\": [{\"marker\": {\"colorbar\": {\"outlinewidth\": 0, \"ticks\": \"\"}}, \"type\": \"scatterpolargl\"}], \"scatterternary\": [{\"marker\": {\"colorbar\": {\"outlinewidth\": 0, \"ticks\": \"\"}}, \"type\": \"scatterternary\"}], \"surface\": [{\"colorbar\": {\"outlinewidth\": 0, \"ticks\": \"\"}, \"colorscale\": [[0.0, \"#0d0887\"], [0.1111111111111111, \"#46039f\"], [0.2222222222222222, \"#7201a8\"], [0.3333333333333333, \"#9c179e\"], [0.4444444444444444, \"#bd3786\"], [0.5555555555555556, \"#d8576b\"], [0.6666666666666666, \"#ed7953\"], [0.7777777777777778, \"#fb9f3a\"], [0.8888888888888888, \"#fdca26\"], [1.0, \"#f0f921\"]], \"type\": \"surface\"}], \"table\": [{\"cells\": {\"fill\": {\"color\": \"#EBF0F8\"}, \"line\": {\"color\": \"white\"}}, \"header\": {\"fill\": {\"color\": \"#C8D4E3\"}, \"line\": {\"color\": \"white\"}}, \"type\": \"table\"}]}, \"layout\": {\"annotationdefaults\": {\"arrowcolor\": \"#2a3f5f\", \"arrowhead\": 0, \"arrowwidth\": 1}, \"autotypenumbers\": \"strict\", \"coloraxis\": {\"colorbar\": {\"outlinewidth\": 0, \"ticks\": \"\"}}, \"colorscale\": {\"diverging\": [[0, \"#8e0152\"], [0.1, \"#c51b7d\"], [0.2, \"#de77ae\"], [0.3, \"#f1b6da\"], [0.4, \"#fde0ef\"], [0.5, \"#f7f7f7\"], [0.6, \"#e6f5d0\"], [0.7, \"#b8e186\"], [0.8, \"#7fbc41\"], [0.9, \"#4d9221\"], [1, \"#276419\"]], \"sequential\": [[0.0, \"#0d0887\"], [0.1111111111111111, \"#46039f\"], [0.2222222222222222, \"#7201a8\"], [0.3333333333333333, \"#9c179e\"], [0.4444444444444444, \"#bd3786\"], [0.5555555555555556, \"#d8576b\"], [0.6666666666666666, \"#ed7953\"], [0.7777777777777778, \"#fb9f3a\"], [0.8888888888888888, \"#fdca26\"], [1.0, \"#f0f921\"]], \"sequentialminus\": [[0.0, \"#0d0887\"], [0.1111111111111111, \"#46039f\"], [0.2222222222222222, \"#7201a8\"], [0.3333333333333333, \"#9c179e\"], [0.4444444444444444, \"#bd3786\"], [0.5555555555555556, \"#d8576b\"], [0.6666666666666666, \"#ed7953\"], [0.7777777777777778, \"#fb9f3a\"], [0.8888888888888888, \"#fdca26\"], [1.0, \"#f0f921\"]]}, \"colorway\": [\"#636efa\", \"#EF553B\", \"#00cc96\", \"#ab63fa\", \"#FFA15A\", \"#19d3f3\", \"#FF6692\", \"#B6E880\", \"#FF97FF\", \"#FECB52\"], \"font\": {\"color\": \"#2a3f5f\"}, \"geo\": {\"bgcolor\": \"white\", \"lakecolor\": \"white\", \"landcolor\": \"#E5ECF6\", \"showlakes\": true, \"showland\": true, \"subunitcolor\": \"white\"}, \"hoverlabel\": {\"align\": \"left\"}, \"hovermode\": \"closest\", \"mapbox\": {\"style\": \"light\"}, \"paper_bgcolor\": \"white\", \"plot_bgcolor\": \"#E5ECF6\", \"polar\": {\"angularaxis\": {\"gridcolor\": \"white\", \"linecolor\": \"white\", \"ticks\": \"\"}, \"bgcolor\": \"#E5ECF6\", \"radialaxis\": {\"gridcolor\": \"white\", \"linecolor\": \"white\", \"ticks\": \"\"}}, \"scene\": {\"xaxis\": {\"backgroundcolor\": \"#E5ECF6\", \"gridcolor\": \"white\", \"gridwidth\": 2, \"linecolor\": \"white\", \"showbackground\": true, \"ticks\": \"\", \"zerolinecolor\": \"white\"}, \"yaxis\": {\"backgroundcolor\": \"#E5ECF6\", \"gridcolor\": \"white\", \"gridwidth\": 2, \"linecolor\": \"white\", \"showbackground\": true, \"ticks\": \"\", \"zerolinecolor\": \"white\"}, \"zaxis\": {\"backgroundcolor\": \"#E5ECF6\", \"gridcolor\": \"white\", \"gridwidth\": 2, \"linecolor\": \"white\", \"showbackground\": true, \"ticks\": \"\", \"zerolinecolor\": \"white\"}}, \"shapedefaults\": {\"line\": {\"color\": \"#2a3f5f\"}}, \"ternary\": {\"aaxis\": {\"gridcolor\": \"white\", \"linecolor\": \"white\", \"ticks\": \"\"}, \"baxis\": {\"gridcolor\": \"white\", \"linecolor\": \"white\", \"ticks\": \"\"}, \"bgcolor\": \"#E5ECF6\", \"caxis\": {\"gridcolor\": \"white\", \"linecolor\": \"white\", \"ticks\": \"\"}}, \"title\": {\"x\": 0.05}, \"xaxis\": {\"automargin\": true, \"gridcolor\": \"white\", \"linecolor\": \"white\", \"ticks\": \"\", \"title\": {\"standoff\": 15}, \"zerolinecolor\": \"white\", \"zerolinewidth\": 2}, \"yaxis\": {\"automargin\": true, \"gridcolor\": \"white\", \"linecolor\": \"white\", \"ticks\": \"\", \"title\": {\"standoff\": 15}, \"zerolinecolor\": \"white\", \"zerolinewidth\": 2}}}, \"xaxis\": {\"anchor\": \"y\", \"domain\": [0.0, 1.0], \"title\": {\"text\": \"log population\"}}, \"yaxis\": {\"anchor\": \"x\", \"domain\": [0.0, 1.0], \"title\": {\"text\": \"log amount\"}}},                        {\"responsive\": true}                    ).then(function(){\n",
       "                            \n",
       "var gd = document.getElementById('57efbb1b-7c5c-4060-b3d7-ee4c9d05472d');\n",
       "var x = new MutationObserver(function (mutations, observer) {{\n",
       "        var display = window.getComputedStyle(gd).display;\n",
       "        if (!display || display === 'none') {{\n",
       "            console.log([gd, 'removed!']);\n",
       "            Plotly.purge(gd);\n",
       "            observer.disconnect();\n",
       "        }}\n",
       "}});\n",
       "\n",
       "// Listen for the removal of the full notebook cells\n",
       "var notebookContainer = gd.closest('#notebook-container');\n",
       "if (notebookContainer) {{\n",
       "    x.observe(notebookContainer, {childList: true});\n",
       "}}\n",
       "\n",
       "// Listen for the clearing of the current output cell\n",
       "var outputEl = gd.closest('.output');\n",
       "if (outputEl) {{\n",
       "    x.observe(outputEl, {childList: true});\n",
       "}}\n",
       "\n",
       "                        })                };                });            </script>        </div>"
      ]
     },
     "metadata": {},
     "output_type": "display_data"
    }
   ],
   "source": [
    "import plotly.express as px\n",
    "\n",
    "\n",
    "\n",
    "df['log amount'] = np.log(df.amount)\n",
    "df['log population'] = np.log(df.population)\n",
    "df['log population'].isna().sum()\n",
    "df=df.dropna(axis=0)\n",
    "\n",
    "fig = px.scatter(df, y=\"log amount\", x=\"log population\", hover_data=[\"county_name\",'State'])\n",
    "fig.show()\n",
    "\n"
   ]
  },
  {
   "cell_type": "code",
   "execution_count": 125,
   "metadata": {},
   "outputs": [
    {
     "data": {
      "text/plain": [
       "LinearRegression(copy_X=True, fit_intercept=True, n_jobs=None, normalize=True)"
      ]
     },
     "execution_count": 125,
     "metadata": {},
     "output_type": "execute_result"
    }
   ],
   "source": [
    "from sklearn import linear_model\n",
    "\n",
    "mod = linear_model.LinearRegression(normalize=True)\n",
    "\n",
    "#df=df2\n",
    "X = np.asarray(df['log population']).reshape((len(df.index), 1))\n",
    "\n",
    "\n",
    "mod.fit(X, df['log amount'])\n"
   ]
  },
  {
   "cell_type": "code",
   "execution_count": 126,
   "metadata": {},
   "outputs": [],
   "source": [
    "se =  np.mean((mod.predict(X) - df['log amount'])**2)"
   ]
  },
  {
   "cell_type": "code",
   "execution_count": 127,
   "metadata": {},
   "outputs": [],
   "source": [
    "df['predictions'] = mod.predict(X)\n",
    "df['outlier'] = 0"
   ]
  },
  {
   "cell_type": "code",
   "execution_count": 128,
   "metadata": {},
   "outputs": [
    {
     "data": {
      "text/plain": [
       "13         Fulton County\n",
       "146      Richland County\n",
       "192          Leon County\n",
       "209        Albany County\n",
       "229        Mercer County\n",
       "238    Montgomery County\n",
       "334      Thurston County\n",
       "423          Kent County\n",
       "Name: county_name, dtype: object"
      ]
     },
     "execution_count": 128,
     "metadata": {},
     "output_type": "execute_result"
    }
   ],
   "source": [
    "overfunded_counties=df['county_name'][df['log amount']> df['predictions']+3*se]\n",
    "#df['State']\n",
    "df['county_name'][df['log amount']> df['predictions']+4*se]"
   ]
  },
  {
   "cell_type": "code",
   "execution_count": 129,
   "metadata": {},
   "outputs": [
    {
     "data": {
      "text/plain": [
       "453     OH\n",
       "640     NC\n",
       "932     OH\n",
       "1203    TX\n",
       "2454    IN\n",
       "2732    OH\n",
       "Name: State, dtype: object"
      ]
     },
     "execution_count": 129,
     "metadata": {},
     "output_type": "execute_result"
    }
   ],
   "source": [
    "underfunded_counties= df['county_name'][df['log amount']<df['predictions']-3*se]\n",
    "#print(df['State'][df['log amount']<df['predictions']-4*se])\n",
    "df['State'][df['log amount']<df['predictions']-4*se]"
   ]
  },
  {
   "cell_type": "code",
   "execution_count": 130,
   "metadata": {},
   "outputs": [
    {
     "data": {
      "text/html": [
       "<div>\n",
       "<style scoped>\n",
       "    .dataframe tbody tr th:only-of-type {\n",
       "        vertical-align: middle;\n",
       "    }\n",
       "\n",
       "    .dataframe tbody tr th {\n",
       "        vertical-align: top;\n",
       "    }\n",
       "\n",
       "    .dataframe thead th {\n",
       "        text-align: right;\n",
       "    }\n",
       "</style>\n",
       "<table border=\"1\" class=\"dataframe\">\n",
       "  <thead>\n",
       "    <tr style=\"text-align: right;\">\n",
       "      <th></th>\n",
       "      <th>amount</th>\n",
       "      <th>award_count</th>\n",
       "      <th>display_name</th>\n",
       "      <th>per_capita</th>\n",
       "      <th>population</th>\n",
       "      <th>shape_code</th>\n",
       "      <th>county_name</th>\n",
       "      <th>State</th>\n",
       "      <th>lat</th>\n",
       "      <th>lon</th>\n",
       "      <th>gini_index</th>\n",
       "      <th>percent_no_internet</th>\n",
       "      <th>log amount</th>\n",
       "      <th>log population</th>\n",
       "      <th>predictions</th>\n",
       "      <th>outlier</th>\n",
       "    </tr>\n",
       "  </thead>\n",
       "  <tbody>\n",
       "    <tr>\n",
       "      <th>2</th>\n",
       "      <td>2.936372e+10</td>\n",
       "      <td>440456</td>\n",
       "      <td>Cook</td>\n",
       "      <td>5701.44</td>\n",
       "      <td>5150233.0</td>\n",
       "      <td>17031</td>\n",
       "      <td>Cook County</td>\n",
       "      <td>IL</td>\n",
       "      <td>41.894294</td>\n",
       "      <td>-87.645455</td>\n",
       "      <td>0.5049</td>\n",
       "      <td>15.545224</td>\n",
       "      <td>24.103026</td>\n",
       "      <td>15.454553</td>\n",
       "      <td>24.297333</td>\n",
       "      <td>0</td>\n",
       "    </tr>\n",
       "    <tr>\n",
       "      <th>3</th>\n",
       "      <td>1.508957e+10</td>\n",
       "      <td>302025</td>\n",
       "      <td>Harris</td>\n",
       "      <td>3201.47</td>\n",
       "      <td>4713325.0</td>\n",
       "      <td>48201</td>\n",
       "      <td>Harris County</td>\n",
       "      <td>TX</td>\n",
       "      <td>29.857273</td>\n",
       "      <td>-95.393037</td>\n",
       "      <td>0.4986</td>\n",
       "      <td>15.416282</td>\n",
       "      <td>23.437269</td>\n",
       "      <td>15.365904</td>\n",
       "      <td>24.175532</td>\n",
       "      <td>0</td>\n",
       "    </tr>\n",
       "    <tr>\n",
       "      <th>5</th>\n",
       "      <td>1.308892e+10</td>\n",
       "      <td>236084</td>\n",
       "      <td>Orange</td>\n",
       "      <td>4121.60</td>\n",
       "      <td>3175692.0</td>\n",
       "      <td>06059</td>\n",
       "      <td>Orange County</td>\n",
       "      <td>CA</td>\n",
       "      <td>33.675687</td>\n",
       "      <td>-117.777207</td>\n",
       "      <td>0.4695</td>\n",
       "      <td>7.381774</td>\n",
       "      <td>23.295032</td>\n",
       "      <td>14.971036</td>\n",
       "      <td>23.632996</td>\n",
       "      <td>0</td>\n",
       "    </tr>\n",
       "    <tr>\n",
       "      <th>7</th>\n",
       "      <td>5.622746e+09</td>\n",
       "      <td>195538</td>\n",
       "      <td>Kings</td>\n",
       "      <td>2196.47</td>\n",
       "      <td>2559903.0</td>\n",
       "      <td>36047</td>\n",
       "      <td>Kings County</td>\n",
       "      <td>NY</td>\n",
       "      <td>40.635133</td>\n",
       "      <td>-73.950777</td>\n",
       "      <td>0.5252</td>\n",
       "      <td>17.715483</td>\n",
       "      <td>22.450086</td>\n",
       "      <td>14.755480</td>\n",
       "      <td>23.336829</td>\n",
       "      <td>0</td>\n",
       "    </tr>\n",
       "    <tr>\n",
       "      <th>11</th>\n",
       "      <td>1.532698e+10</td>\n",
       "      <td>159623</td>\n",
       "      <td>Dallas</td>\n",
       "      <td>5815.55</td>\n",
       "      <td>2635516.0</td>\n",
       "      <td>48113</td>\n",
       "      <td>Dallas County</td>\n",
       "      <td>TX</td>\n",
       "      <td>32.766987</td>\n",
       "      <td>-96.778424</td>\n",
       "      <td>0.4957</td>\n",
       "      <td>16.923969</td>\n",
       "      <td>23.452881</td>\n",
       "      <td>14.784590</td>\n",
       "      <td>23.376824</td>\n",
       "      <td>0</td>\n",
       "    </tr>\n",
       "  </tbody>\n",
       "</table>\n",
       "</div>"
      ],
      "text/plain": [
       "          amount  award_count display_name  per_capita  population shape_code  \\\n",
       "2   2.936372e+10       440456         Cook     5701.44   5150233.0      17031   \n",
       "3   1.508957e+10       302025       Harris     3201.47   4713325.0      48201   \n",
       "5   1.308892e+10       236084       Orange     4121.60   3175692.0      06059   \n",
       "7   5.622746e+09       195538        Kings     2196.47   2559903.0      36047   \n",
       "11  1.532698e+10       159623       Dallas     5815.55   2635516.0      48113   \n",
       "\n",
       "      county_name State        lat         lon  gini_index  \\\n",
       "2     Cook County    IL  41.894294  -87.645455      0.5049   \n",
       "3   Harris County    TX  29.857273  -95.393037      0.4986   \n",
       "5   Orange County    CA  33.675687 -117.777207      0.4695   \n",
       "7    Kings County    NY  40.635133  -73.950777      0.5252   \n",
       "11  Dallas County    TX  32.766987  -96.778424      0.4957   \n",
       "\n",
       "    percent_no_internet  log amount  log population  predictions  outlier  \n",
       "2             15.545224   24.103026       15.454553    24.297333        0  \n",
       "3             15.416282   23.437269       15.365904    24.175532        0  \n",
       "5              7.381774   23.295032       14.971036    23.632996        0  \n",
       "7             17.715483   22.450086       14.755480    23.336829        0  \n",
       "11            16.923969   23.452881       14.784590    23.376824        0  "
      ]
     },
     "execution_count": 130,
     "metadata": {},
     "output_type": "execute_result"
    }
   ],
   "source": [
    "df.head()"
   ]
  },
  {
   "cell_type": "code",
   "execution_count": 134,
   "metadata": {},
   "outputs": [],
   "source": [
    "#df['overfunded'] = (df['log amount']> df['predictions']+4*se).astype('int64')\n",
    "#df['underfunded'] = (df['log amount']< df['predictions']-4*se).astype('int64')\n",
    "#df['overall'] = df['overfunded']-df['underfunded']\n",
    "#df['log covid cases'] = np.log(df['2021-03-21'])\n",
    "#df['log disabled'] = np.log(df['people with a disability'])\n",
    "#df['log elderly'] = np.log(df['people that are older than 65'])\n",
    "#df['log Black AA'] = np.log(df['black or african american'])\n",
    "#df['log asian'] = np.log(df['asian'])\n",
    "#df['log white'] = np.log(df['white'])\n",
    "#df['log indigenous'] = np.log(df['american indian and alaska native']+1)\n",
    "#df['% Black AA'] = np.log(df['black or african american']/df['population'])\n",
    "#df['% asian'] = np.log(df['asian']/df['population'])\n",
    "#df['% hispanic'] = np.log(df['hispanic or latino'])\n",
    "#df['overfunded'][df['log amount']> df['predictions']+3*se] = 1"
   ]
  },
  {
   "cell_type": "code",
   "execution_count": 20,
   "metadata": {},
   "outputs": [
    {
     "data": {
      "text/html": [
       "<div>\n",
       "<style scoped>\n",
       "    .dataframe tbody tr th:only-of-type {\n",
       "        vertical-align: middle;\n",
       "    }\n",
       "\n",
       "    .dataframe tbody tr th {\n",
       "        vertical-align: top;\n",
       "    }\n",
       "\n",
       "    .dataframe thead th {\n",
       "        text-align: right;\n",
       "    }\n",
       "</style>\n",
       "<table border=\"1\" class=\"dataframe\">\n",
       "  <thead>\n",
       "    <tr style=\"text-align: right;\">\n",
       "      <th></th>\n",
       "      <th>id</th>\n",
       "      <th>county_name</th>\n",
       "      <th>tot</th>\n",
       "      <th>tot_M</th>\n",
       "      <th>tot_F</th>\n",
       "      <th>tot_W</th>\n",
       "      <th>tot_B</th>\n",
       "      <th>tot_I</th>\n",
       "      <th>tot_A</th>\n",
       "      <th>tot_P</th>\n",
       "      <th>tot_O</th>\n",
       "      <th>tot_T</th>\n",
       "      <th>tot_w</th>\n",
       "      <th>tot_H</th>\n",
       "      <th>tot_0-5</th>\n",
       "      <th>tot_5-17</th>\n",
       "      <th>tot_18-34</th>\n",
       "      <th>tot_35-64</th>\n",
       "      <th>tot_65-74</th>\n",
       "      <th>tot_75+</th>\n",
       "      <th>tot_aud</th>\n",
       "      <th>tot_aud_0-18</th>\n",
       "      <th>tot_aud_0-18_0-5</th>\n",
       "      <th>tot_aud_0-18_5-17</th>\n",
       "      <th>tot_aud_18-64</th>\n",
       "      <th>tot_aud_18-64_18-34</th>\n",
       "      <th>tot_aud_18-64_35-64</th>\n",
       "      <th>tot_aud_65+</th>\n",
       "      <th>tot_aud_65+_65-74</th>\n",
       "      <th>tot_aud_65+_75+</th>\n",
       "      <th>tot_vis</th>\n",
       "      <th>tot_vis_0-18</th>\n",
       "      <th>tot_vis_0-18_0-5</th>\n",
       "      <th>tot_vis_0-18_5-17</th>\n",
       "      <th>tot_vis_18-64</th>\n",
       "      <th>tot_vis_18-64_18-34</th>\n",
       "      <th>tot_vis_18-64_35-64</th>\n",
       "      <th>tot_vis_65+</th>\n",
       "      <th>tot_vis_65+_65-74</th>\n",
       "      <th>tot_vis_65+_75+</th>\n",
       "      <th>tot_cog</th>\n",
       "      <th>tot_cog_0-18</th>\n",
       "      <th>tot_cog_18-64</th>\n",
       "      <th>tot_cog_18-64_18-34</th>\n",
       "      <th>tot_cog_18-64_35-64</th>\n",
       "      <th>tot_cog_65+</th>\n",
       "      <th>tot_cog_65+_65-74</th>\n",
       "      <th>tot_cog_65+_75+</th>\n",
       "      <th>tot_amb</th>\n",
       "      <th>tot_amb_0-18</th>\n",
       "      <th>tot_amb_18-64</th>\n",
       "      <th>tot_amb_18-64_18-34</th>\n",
       "      <th>tot_amb_18-64_35-64</th>\n",
       "      <th>tot_amb_65+</th>\n",
       "      <th>tot_amb_65+_65-74</th>\n",
       "      <th>tot_amb_65+_75+</th>\n",
       "      <th>tot_self</th>\n",
       "      <th>tot_self_0-18</th>\n",
       "      <th>tot_self_18-64</th>\n",
       "      <th>tot_self_18-64_18-34</th>\n",
       "      <th>tot_self_18-64_35-64</th>\n",
       "      <th>tot_self_65+</th>\n",
       "      <th>tot_self_65+_65-74</th>\n",
       "      <th>tot_self_65+_75+</th>\n",
       "      <th>tot_ind</th>\n",
       "      <th>tot_ind_18-64</th>\n",
       "      <th>tot_ind_18-64_18-34</th>\n",
       "      <th>tot_ind_18-64_35-64</th>\n",
       "      <th>tot_ind_65+</th>\n",
       "      <th>tot_ind_65+_65-74</th>\n",
       "      <th>tot_ind_65+_75+</th>\n",
       "      <th>dis</th>\n",
       "      <th>dis_M</th>\n",
       "      <th>dis_F</th>\n",
       "      <th>dis_W</th>\n",
       "      <th>dis_B</th>\n",
       "      <th>dis_I</th>\n",
       "      <th>dis_A</th>\n",
       "      <th>dis_P</th>\n",
       "      <th>dis_O</th>\n",
       "      <th>dis_T</th>\n",
       "      <th>dis_w</th>\n",
       "      <th>dis_H</th>\n",
       "      <th>dis_0-5</th>\n",
       "      <th>dis_5-17</th>\n",
       "      <th>dis_18-34</th>\n",
       "      <th>dis_35-64</th>\n",
       "      <th>dis_65-74</th>\n",
       "      <th>dis_75+</th>\n",
       "      <th>dis_aud</th>\n",
       "      <th>dis_aud_0-18</th>\n",
       "      <th>dis_aud_0-18_0-5</th>\n",
       "      <th>dis_aud_0-18_5-17</th>\n",
       "      <th>dis_aud_18-64</th>\n",
       "      <th>dis_aud_18-64_18-34</th>\n",
       "      <th>dis_aud_18-64_35-64</th>\n",
       "      <th>dis_aud_65+</th>\n",
       "      <th>dis_aud_65+_65-74</th>\n",
       "      <th>dis_aud_65+_75+</th>\n",
       "      <th>dis_vis</th>\n",
       "      <th>dis_vis_0-18</th>\n",
       "      <th>dis_vis_0-18_0-5</th>\n",
       "      <th>dis_vis_0-18_5-17</th>\n",
       "      <th>dis_vis_18-64</th>\n",
       "      <th>dis_vis_18-64_18-34</th>\n",
       "      <th>dis_vis_18-64_35-64</th>\n",
       "      <th>dis_vis_65+</th>\n",
       "      <th>dis_vis_65+_65-74</th>\n",
       "      <th>dis_vis_65+_75+</th>\n",
       "      <th>dis_cog</th>\n",
       "      <th>dis_cog_0-18</th>\n",
       "      <th>dis_cog_18-64</th>\n",
       "      <th>dis_cog_18-64_18-34</th>\n",
       "      <th>dis_cog_18-64_35-64</th>\n",
       "      <th>dis_cog_65+</th>\n",
       "      <th>dis_cog_65+_65-74</th>\n",
       "      <th>dis_cog_65+_75+</th>\n",
       "      <th>dis_amb</th>\n",
       "      <th>dis_amb_0-18</th>\n",
       "      <th>dis_amb_18-64</th>\n",
       "      <th>dis_amb_18-64_18-34</th>\n",
       "      <th>dis_amb_18-64_35-64</th>\n",
       "      <th>dis_amb_65+</th>\n",
       "      <th>dis_amb_65+_65-74</th>\n",
       "      <th>dis_amb_65+_75+</th>\n",
       "      <th>dis_self</th>\n",
       "      <th>dis_self_0-18</th>\n",
       "      <th>dis_self_18-64</th>\n",
       "      <th>dis_self_18-64_18-34</th>\n",
       "      <th>dis_self_18-64_35-64</th>\n",
       "      <th>dis_self_65+</th>\n",
       "      <th>dis_self_65+_65-74</th>\n",
       "      <th>dis_self_65+_75+</th>\n",
       "      <th>dis_ind</th>\n",
       "      <th>dis_ind_18-64</th>\n",
       "      <th>dis_ind_18-64_18-34</th>\n",
       "      <th>dis_ind_18-64_35-64</th>\n",
       "      <th>dis_ind_65+</th>\n",
       "      <th>dis_ind_65+_65-74</th>\n",
       "      <th>dis_ind_65+_75+</th>\n",
       "      <th>%</th>\n",
       "      <th>%_M</th>\n",
       "      <th>%_F</th>\n",
       "      <th>%_W</th>\n",
       "      <th>%_B</th>\n",
       "      <th>%_I</th>\n",
       "      <th>%_A</th>\n",
       "      <th>%_P</th>\n",
       "      <th>%_O</th>\n",
       "      <th>%_T</th>\n",
       "      <th>%_w</th>\n",
       "      <th>%_H</th>\n",
       "      <th>%_0-5</th>\n",
       "      <th>%_5-17</th>\n",
       "      <th>%_18-34</th>\n",
       "      <th>%_35-64</th>\n",
       "      <th>%_65-74</th>\n",
       "      <th>%_75+</th>\n",
       "      <th>%_aud</th>\n",
       "      <th>%_aud_0-18</th>\n",
       "      <th>%_aud_0-18_0-5</th>\n",
       "      <th>%_aud_0-18_5-17</th>\n",
       "      <th>%_aud_18-64</th>\n",
       "      <th>%_aud_18-64_18-34</th>\n",
       "      <th>%_aud_18-64_35-64</th>\n",
       "      <th>%_aud_65+</th>\n",
       "      <th>%_aud_65+_65-74</th>\n",
       "      <th>%_aud_65+_75+</th>\n",
       "      <th>%_vis</th>\n",
       "      <th>%_vis_0-18</th>\n",
       "      <th>%_vis_0-18_0-5</th>\n",
       "      <th>%_vis_0-18_5-17</th>\n",
       "      <th>%_vis_18-64</th>\n",
       "      <th>%_vis_18-64_18-34</th>\n",
       "      <th>%_vis_18-64_35-64</th>\n",
       "      <th>%_vis_65+</th>\n",
       "      <th>%_vis_65+_65-74</th>\n",
       "      <th>%_vis_65+_75+</th>\n",
       "      <th>%_cog</th>\n",
       "      <th>%_cog_0-18</th>\n",
       "      <th>%_cog_18-64</th>\n",
       "      <th>%_cog_18-64_18-34</th>\n",
       "      <th>%_cog_18-64_35-64</th>\n",
       "      <th>%_cog_65+</th>\n",
       "      <th>%_cog_65+_65-74</th>\n",
       "      <th>%_cog_65+_75+</th>\n",
       "      <th>%_amb</th>\n",
       "      <th>%_amb_0-18</th>\n",
       "      <th>%_amb_18-64</th>\n",
       "      <th>%_amb_18-64_18-34</th>\n",
       "      <th>%_amb_18-64_35-64</th>\n",
       "      <th>%_amb_65+</th>\n",
       "      <th>%_amb_65+_65-74</th>\n",
       "      <th>%_amb_65+_75+</th>\n",
       "      <th>%_self</th>\n",
       "      <th>%_self_0-18</th>\n",
       "      <th>%_self_18-64</th>\n",
       "      <th>%_self_18-64_18-34</th>\n",
       "      <th>%_self_18-64_35-64</th>\n",
       "      <th>%_self_65+</th>\n",
       "      <th>%_self_65+_65-74</th>\n",
       "      <th>%_self_65+_75+</th>\n",
       "      <th>%_ind</th>\n",
       "      <th>%_ind_18-64</th>\n",
       "      <th>%_ind_18-64_18-34</th>\n",
       "      <th>%_ind_18-64_35-64</th>\n",
       "      <th>%_ind_65+</th>\n",
       "      <th>%_ind_65+_65-74</th>\n",
       "      <th>%_ind_65+_75+</th>\n",
       "      <th>State</th>\n",
       "      <th>amount</th>\n",
       "      <th>award_count</th>\n",
       "      <th>per_capita</th>\n",
       "      <th>population</th>\n",
       "      <th>shape_code</th>\n",
       "      <th>countyFIPS</th>\n",
       "      <th>StateFIPS</th>\n",
       "      <th>2021-03-21</th>\n",
       "      <th>employed people with 16 yrs and over</th>\n",
       "      <th>unemployed people with 16 yrs and over</th>\n",
       "      <th>people in the labor force</th>\n",
       "      <th>unemployment rate</th>\n",
       "      <th>people with a disability</th>\n",
       "      <th>people that are older than 65</th>\n",
       "      <th>median household income</th>\n",
       "      <th>median age</th>\n",
       "      <th>% female</th>\n",
       "      <th>log private ins</th>\n",
       "      <th>log public ins</th>\n",
       "      <th>log no ins</th>\n",
       "      <th>lat</th>\n",
       "      <th>lon</th>\n",
       "      <th>gini_index</th>\n",
       "      <th>percent_no_internet</th>\n",
       "      <th>log amount</th>\n",
       "      <th>log population</th>\n",
       "      <th>predictions</th>\n",
       "      <th>outlier</th>\n",
       "      <th>overfunded</th>\n",
       "      <th>underfunded</th>\n",
       "      <th>overall</th>\n",
       "      <th>log covid cases</th>\n",
       "      <th>log disabled</th>\n",
       "      <th>log elderly</th>\n",
       "    </tr>\n",
       "  </thead>\n",
       "  <tbody>\n",
       "    <tr>\n",
       "      <th>0</th>\n",
       "      <td>0500000US01003</td>\n",
       "      <td>Baldwin County</td>\n",
       "      <td>220911.0</td>\n",
       "      <td>106961.0</td>\n",
       "      <td>113950.0</td>\n",
       "      <td>189325.0</td>\n",
       "      <td>17668</td>\n",
       "      <td>N</td>\n",
       "      <td>N</td>\n",
       "      <td>N</td>\n",
       "      <td>N</td>\n",
       "      <td>N</td>\n",
       "      <td>183610</td>\n",
       "      <td>N</td>\n",
       "      <td>10616.0</td>\n",
       "      <td>36210.0</td>\n",
       "      <td>40659.0</td>\n",
       "      <td>86588.0</td>\n",
       "      <td>28682.0</td>\n",
       "      <td>18156.0</td>\n",
       "      <td>(X)</td>\n",
       "      <td>46826.0</td>\n",
       "      <td>10616.0</td>\n",
       "      <td>36210.0</td>\n",
       "      <td>127247.0</td>\n",
       "      <td>40659.0</td>\n",
       "      <td>86588.0</td>\n",
       "      <td>46838.0</td>\n",
       "      <td>28682.0</td>\n",
       "      <td>18156.0</td>\n",
       "      <td>(X)</td>\n",
       "      <td>46826.0</td>\n",
       "      <td>10616.0</td>\n",
       "      <td>36210.0</td>\n",
       "      <td>127247.0</td>\n",
       "      <td>40659.0</td>\n",
       "      <td>86588.0</td>\n",
       "      <td>46838.0</td>\n",
       "      <td>28682.0</td>\n",
       "      <td>18156.0</td>\n",
       "      <td>(X)</td>\n",
       "      <td>36210.0</td>\n",
       "      <td>127247.0</td>\n",
       "      <td>40659.0</td>\n",
       "      <td>86588.0</td>\n",
       "      <td>46838.0</td>\n",
       "      <td>28682.0</td>\n",
       "      <td>18156.0</td>\n",
       "      <td>(X)</td>\n",
       "      <td>36210.0</td>\n",
       "      <td>127247.0</td>\n",
       "      <td>40659.0</td>\n",
       "      <td>86588.0</td>\n",
       "      <td>46838.0</td>\n",
       "      <td>28682.0</td>\n",
       "      <td>18156.0</td>\n",
       "      <td>(X)</td>\n",
       "      <td>36210.0</td>\n",
       "      <td>127247.0</td>\n",
       "      <td>40659.0</td>\n",
       "      <td>86588.0</td>\n",
       "      <td>46838.0</td>\n",
       "      <td>28682.0</td>\n",
       "      <td>18156.0</td>\n",
       "      <td>(X)</td>\n",
       "      <td>127247.0</td>\n",
       "      <td>40659.0</td>\n",
       "      <td>86588.0</td>\n",
       "      <td>46838.0</td>\n",
       "      <td>28682.0</td>\n",
       "      <td>18156.0</td>\n",
       "      <td>31901.0</td>\n",
       "      <td>15573.0</td>\n",
       "      <td>16328.0</td>\n",
       "      <td>27623.0</td>\n",
       "      <td>2050</td>\n",
       "      <td>N</td>\n",
       "      <td>N</td>\n",
       "      <td>N</td>\n",
       "      <td>N</td>\n",
       "      <td>N</td>\n",
       "      <td>27581</td>\n",
       "      <td>N</td>\n",
       "      <td>0.0</td>\n",
       "      <td>2538.0</td>\n",
       "      <td>3850.0</td>\n",
       "      <td>11393.0</td>\n",
       "      <td>6070.0</td>\n",
       "      <td>8050.0</td>\n",
       "      <td>10749.0</td>\n",
       "      <td>413.0</td>\n",
       "      <td>0.0</td>\n",
       "      <td>413.0</td>\n",
       "      <td>3431.0</td>\n",
       "      <td>384.0</td>\n",
       "      <td>3047.0</td>\n",
       "      <td>6905.0</td>\n",
       "      <td>2782.0</td>\n",
       "      <td>4123.0</td>\n",
       "      <td>5281.0</td>\n",
       "      <td>626.0</td>\n",
       "      <td>0.0</td>\n",
       "      <td>626.0</td>\n",
       "      <td>1623.0</td>\n",
       "      <td>650.0</td>\n",
       "      <td>973.0</td>\n",
       "      <td>3032.0</td>\n",
       "      <td>997.0</td>\n",
       "      <td>2035.0</td>\n",
       "      <td>10586.0</td>\n",
       "      <td>2052.0</td>\n",
       "      <td>5880.0</td>\n",
       "      <td>2745.0</td>\n",
       "      <td>3135.0</td>\n",
       "      <td>2654.0</td>\n",
       "      <td>739.0</td>\n",
       "      <td>1915.0</td>\n",
       "      <td>15885.0</td>\n",
       "      <td>0.0</td>\n",
       "      <td>7555.0</td>\n",
       "      <td>690.0</td>\n",
       "      <td>6865.0</td>\n",
       "      <td>8330.0</td>\n",
       "      <td>3533.0</td>\n",
       "      <td>4797.0</td>\n",
       "      <td>6181.0</td>\n",
       "      <td>553.0</td>\n",
       "      <td>2534.0</td>\n",
       "      <td>419.0</td>\n",
       "      <td>2115.0</td>\n",
       "      <td>3094.0</td>\n",
       "      <td>1030.0</td>\n",
       "      <td>2064.0</td>\n",
       "      <td>10780.0</td>\n",
       "      <td>4500.0</td>\n",
       "      <td>1200.0</td>\n",
       "      <td>3300.0</td>\n",
       "      <td>6280.0</td>\n",
       "      <td>2131.0</td>\n",
       "      <td>4149.0</td>\n",
       "      <td>14.4</td>\n",
       "      <td>14.6</td>\n",
       "      <td>14.3</td>\n",
       "      <td>14.6</td>\n",
       "      <td>11.6</td>\n",
       "      <td>N</td>\n",
       "      <td>N</td>\n",
       "      <td>N</td>\n",
       "      <td>N</td>\n",
       "      <td>N</td>\n",
       "      <td>15.0</td>\n",
       "      <td>N</td>\n",
       "      <td>0.0</td>\n",
       "      <td>7.0</td>\n",
       "      <td>9.5</td>\n",
       "      <td>13.2</td>\n",
       "      <td>21.2</td>\n",
       "      <td>44.3</td>\n",
       "      <td>4.9</td>\n",
       "      <td>0.9</td>\n",
       "      <td>0.0</td>\n",
       "      <td>1.1</td>\n",
       "      <td>2.7</td>\n",
       "      <td>0.9</td>\n",
       "      <td>3.5</td>\n",
       "      <td>14.7</td>\n",
       "      <td>9.7</td>\n",
       "      <td>22.7</td>\n",
       "      <td>2.4</td>\n",
       "      <td>1.3</td>\n",
       "      <td>0.0</td>\n",
       "      <td>1.7</td>\n",
       "      <td>1.3</td>\n",
       "      <td>1.6</td>\n",
       "      <td>1.1</td>\n",
       "      <td>6.5</td>\n",
       "      <td>3.5</td>\n",
       "      <td>11.2</td>\n",
       "      <td>5.0</td>\n",
       "      <td>5.7</td>\n",
       "      <td>4.6</td>\n",
       "      <td>6.8</td>\n",
       "      <td>3.6</td>\n",
       "      <td>5.7</td>\n",
       "      <td>2.6</td>\n",
       "      <td>10.5</td>\n",
       "      <td>7.6</td>\n",
       "      <td>0.0</td>\n",
       "      <td>5.9</td>\n",
       "      <td>1.7</td>\n",
       "      <td>7.9</td>\n",
       "      <td>17.8</td>\n",
       "      <td>12.3</td>\n",
       "      <td>26.4</td>\n",
       "      <td>2.9</td>\n",
       "      <td>1.5</td>\n",
       "      <td>2.0</td>\n",
       "      <td>1.0</td>\n",
       "      <td>2.4</td>\n",
       "      <td>6.6</td>\n",
       "      <td>3.6</td>\n",
       "      <td>11.4</td>\n",
       "      <td>6.2</td>\n",
       "      <td>3.5</td>\n",
       "      <td>3.0</td>\n",
       "      <td>3.8</td>\n",
       "      <td>13.4</td>\n",
       "      <td>7.4</td>\n",
       "      <td>22.9</td>\n",
       "      <td>AL</td>\n",
       "      <td>4.489061e+08</td>\n",
       "      <td>13553.0</td>\n",
       "      <td>2010.92</td>\n",
       "      <td>223234.0</td>\n",
       "      <td>01003</td>\n",
       "      <td>1003.0</td>\n",
       "      <td>1.0</td>\n",
       "      <td>20347.0</td>\n",
       "      <td>18464.0</td>\n",
       "      <td>1639.0</td>\n",
       "      <td>20103.0</td>\n",
       "      <td>8.2</td>\n",
       "      <td>6747.0</td>\n",
       "      <td>6959.0</td>\n",
       "      <td>43672.0</td>\n",
       "      <td>35.5</td>\n",
       "      <td>49.424752</td>\n",
       "      <td>10.302465</td>\n",
       "      <td>9.543020</td>\n",
       "      <td>8.549079</td>\n",
       "      <td>30.659218</td>\n",
       "      <td>-87.746067</td>\n",
       "      <td>0.4498</td>\n",
       "      <td>17.868167</td>\n",
       "      <td>19.922324</td>\n",
       "      <td>12.315976</td>\n",
       "      <td>19.823405</td>\n",
       "      <td>0</td>\n",
       "      <td>0</td>\n",
       "      <td>0</td>\n",
       "      <td>0</td>\n",
       "      <td>9.920689</td>\n",
       "      <td>8.816853</td>\n",
       "      <td>8.847791</td>\n",
       "    </tr>\n",
       "    <tr>\n",
       "      <th>1</th>\n",
       "      <td>0500000US01003</td>\n",
       "      <td>Baldwin County</td>\n",
       "      <td>220911.0</td>\n",
       "      <td>106961.0</td>\n",
       "      <td>113950.0</td>\n",
       "      <td>189325.0</td>\n",
       "      <td>17668</td>\n",
       "      <td>N</td>\n",
       "      <td>N</td>\n",
       "      <td>N</td>\n",
       "      <td>N</td>\n",
       "      <td>N</td>\n",
       "      <td>183610</td>\n",
       "      <td>N</td>\n",
       "      <td>10616.0</td>\n",
       "      <td>36210.0</td>\n",
       "      <td>40659.0</td>\n",
       "      <td>86588.0</td>\n",
       "      <td>28682.0</td>\n",
       "      <td>18156.0</td>\n",
       "      <td>(X)</td>\n",
       "      <td>46826.0</td>\n",
       "      <td>10616.0</td>\n",
       "      <td>36210.0</td>\n",
       "      <td>127247.0</td>\n",
       "      <td>40659.0</td>\n",
       "      <td>86588.0</td>\n",
       "      <td>46838.0</td>\n",
       "      <td>28682.0</td>\n",
       "      <td>18156.0</td>\n",
       "      <td>(X)</td>\n",
       "      <td>46826.0</td>\n",
       "      <td>10616.0</td>\n",
       "      <td>36210.0</td>\n",
       "      <td>127247.0</td>\n",
       "      <td>40659.0</td>\n",
       "      <td>86588.0</td>\n",
       "      <td>46838.0</td>\n",
       "      <td>28682.0</td>\n",
       "      <td>18156.0</td>\n",
       "      <td>(X)</td>\n",
       "      <td>36210.0</td>\n",
       "      <td>127247.0</td>\n",
       "      <td>40659.0</td>\n",
       "      <td>86588.0</td>\n",
       "      <td>46838.0</td>\n",
       "      <td>28682.0</td>\n",
       "      <td>18156.0</td>\n",
       "      <td>(X)</td>\n",
       "      <td>36210.0</td>\n",
       "      <td>127247.0</td>\n",
       "      <td>40659.0</td>\n",
       "      <td>86588.0</td>\n",
       "      <td>46838.0</td>\n",
       "      <td>28682.0</td>\n",
       "      <td>18156.0</td>\n",
       "      <td>(X)</td>\n",
       "      <td>36210.0</td>\n",
       "      <td>127247.0</td>\n",
       "      <td>40659.0</td>\n",
       "      <td>86588.0</td>\n",
       "      <td>46838.0</td>\n",
       "      <td>28682.0</td>\n",
       "      <td>18156.0</td>\n",
       "      <td>(X)</td>\n",
       "      <td>127247.0</td>\n",
       "      <td>40659.0</td>\n",
       "      <td>86588.0</td>\n",
       "      <td>46838.0</td>\n",
       "      <td>28682.0</td>\n",
       "      <td>18156.0</td>\n",
       "      <td>31901.0</td>\n",
       "      <td>15573.0</td>\n",
       "      <td>16328.0</td>\n",
       "      <td>27623.0</td>\n",
       "      <td>2050</td>\n",
       "      <td>N</td>\n",
       "      <td>N</td>\n",
       "      <td>N</td>\n",
       "      <td>N</td>\n",
       "      <td>N</td>\n",
       "      <td>27581</td>\n",
       "      <td>N</td>\n",
       "      <td>0.0</td>\n",
       "      <td>2538.0</td>\n",
       "      <td>3850.0</td>\n",
       "      <td>11393.0</td>\n",
       "      <td>6070.0</td>\n",
       "      <td>8050.0</td>\n",
       "      <td>10749.0</td>\n",
       "      <td>413.0</td>\n",
       "      <td>0.0</td>\n",
       "      <td>413.0</td>\n",
       "      <td>3431.0</td>\n",
       "      <td>384.0</td>\n",
       "      <td>3047.0</td>\n",
       "      <td>6905.0</td>\n",
       "      <td>2782.0</td>\n",
       "      <td>4123.0</td>\n",
       "      <td>5281.0</td>\n",
       "      <td>626.0</td>\n",
       "      <td>0.0</td>\n",
       "      <td>626.0</td>\n",
       "      <td>1623.0</td>\n",
       "      <td>650.0</td>\n",
       "      <td>973.0</td>\n",
       "      <td>3032.0</td>\n",
       "      <td>997.0</td>\n",
       "      <td>2035.0</td>\n",
       "      <td>10586.0</td>\n",
       "      <td>2052.0</td>\n",
       "      <td>5880.0</td>\n",
       "      <td>2745.0</td>\n",
       "      <td>3135.0</td>\n",
       "      <td>2654.0</td>\n",
       "      <td>739.0</td>\n",
       "      <td>1915.0</td>\n",
       "      <td>15885.0</td>\n",
       "      <td>0.0</td>\n",
       "      <td>7555.0</td>\n",
       "      <td>690.0</td>\n",
       "      <td>6865.0</td>\n",
       "      <td>8330.0</td>\n",
       "      <td>3533.0</td>\n",
       "      <td>4797.0</td>\n",
       "      <td>6181.0</td>\n",
       "      <td>553.0</td>\n",
       "      <td>2534.0</td>\n",
       "      <td>419.0</td>\n",
       "      <td>2115.0</td>\n",
       "      <td>3094.0</td>\n",
       "      <td>1030.0</td>\n",
       "      <td>2064.0</td>\n",
       "      <td>10780.0</td>\n",
       "      <td>4500.0</td>\n",
       "      <td>1200.0</td>\n",
       "      <td>3300.0</td>\n",
       "      <td>6280.0</td>\n",
       "      <td>2131.0</td>\n",
       "      <td>4149.0</td>\n",
       "      <td>14.4</td>\n",
       "      <td>14.6</td>\n",
       "      <td>14.3</td>\n",
       "      <td>14.6</td>\n",
       "      <td>11.6</td>\n",
       "      <td>N</td>\n",
       "      <td>N</td>\n",
       "      <td>N</td>\n",
       "      <td>N</td>\n",
       "      <td>N</td>\n",
       "      <td>15.0</td>\n",
       "      <td>N</td>\n",
       "      <td>0.0</td>\n",
       "      <td>7.0</td>\n",
       "      <td>9.5</td>\n",
       "      <td>13.2</td>\n",
       "      <td>21.2</td>\n",
       "      <td>44.3</td>\n",
       "      <td>4.9</td>\n",
       "      <td>0.9</td>\n",
       "      <td>0.0</td>\n",
       "      <td>1.1</td>\n",
       "      <td>2.7</td>\n",
       "      <td>0.9</td>\n",
       "      <td>3.5</td>\n",
       "      <td>14.7</td>\n",
       "      <td>9.7</td>\n",
       "      <td>22.7</td>\n",
       "      <td>2.4</td>\n",
       "      <td>1.3</td>\n",
       "      <td>0.0</td>\n",
       "      <td>1.7</td>\n",
       "      <td>1.3</td>\n",
       "      <td>1.6</td>\n",
       "      <td>1.1</td>\n",
       "      <td>6.5</td>\n",
       "      <td>3.5</td>\n",
       "      <td>11.2</td>\n",
       "      <td>5.0</td>\n",
       "      <td>5.7</td>\n",
       "      <td>4.6</td>\n",
       "      <td>6.8</td>\n",
       "      <td>3.6</td>\n",
       "      <td>5.7</td>\n",
       "      <td>2.6</td>\n",
       "      <td>10.5</td>\n",
       "      <td>7.6</td>\n",
       "      <td>0.0</td>\n",
       "      <td>5.9</td>\n",
       "      <td>1.7</td>\n",
       "      <td>7.9</td>\n",
       "      <td>17.8</td>\n",
       "      <td>12.3</td>\n",
       "      <td>26.4</td>\n",
       "      <td>2.9</td>\n",
       "      <td>1.5</td>\n",
       "      <td>2.0</td>\n",
       "      <td>1.0</td>\n",
       "      <td>2.4</td>\n",
       "      <td>6.6</td>\n",
       "      <td>3.6</td>\n",
       "      <td>11.4</td>\n",
       "      <td>6.2</td>\n",
       "      <td>3.5</td>\n",
       "      <td>3.0</td>\n",
       "      <td>3.8</td>\n",
       "      <td>13.4</td>\n",
       "      <td>7.4</td>\n",
       "      <td>22.9</td>\n",
       "      <td>AL</td>\n",
       "      <td>4.489061e+08</td>\n",
       "      <td>13553.0</td>\n",
       "      <td>2010.92</td>\n",
       "      <td>223234.0</td>\n",
       "      <td>01003</td>\n",
       "      <td>1003.0</td>\n",
       "      <td>1.0</td>\n",
       "      <td>20347.0</td>\n",
       "      <td>95091.0</td>\n",
       "      <td>4226.0</td>\n",
       "      <td>99317.0</td>\n",
       "      <td>4.3</td>\n",
       "      <td>29935.0</td>\n",
       "      <td>42531.0</td>\n",
       "      <td>58320.0</td>\n",
       "      <td>43.0</td>\n",
       "      <td>51.371517</td>\n",
       "      <td>11.907923</td>\n",
       "      <td>11.250326</td>\n",
       "      <td>9.835155</td>\n",
       "      <td>30.659218</td>\n",
       "      <td>-87.746067</td>\n",
       "      <td>0.4498</td>\n",
       "      <td>17.868167</td>\n",
       "      <td>19.922324</td>\n",
       "      <td>12.315976</td>\n",
       "      <td>19.823405</td>\n",
       "      <td>0</td>\n",
       "      <td>0</td>\n",
       "      <td>0</td>\n",
       "      <td>0</td>\n",
       "      <td>9.920689</td>\n",
       "      <td>10.306784</td>\n",
       "      <td>10.657989</td>\n",
       "    </tr>\n",
       "    <tr>\n",
       "      <th>2</th>\n",
       "      <td>0500000US01003</td>\n",
       "      <td>Baldwin County</td>\n",
       "      <td>220911.0</td>\n",
       "      <td>106961.0</td>\n",
       "      <td>113950.0</td>\n",
       "      <td>189325.0</td>\n",
       "      <td>17668</td>\n",
       "      <td>N</td>\n",
       "      <td>N</td>\n",
       "      <td>N</td>\n",
       "      <td>N</td>\n",
       "      <td>N</td>\n",
       "      <td>183610</td>\n",
       "      <td>N</td>\n",
       "      <td>10616.0</td>\n",
       "      <td>36210.0</td>\n",
       "      <td>40659.0</td>\n",
       "      <td>86588.0</td>\n",
       "      <td>28682.0</td>\n",
       "      <td>18156.0</td>\n",
       "      <td>(X)</td>\n",
       "      <td>46826.0</td>\n",
       "      <td>10616.0</td>\n",
       "      <td>36210.0</td>\n",
       "      <td>127247.0</td>\n",
       "      <td>40659.0</td>\n",
       "      <td>86588.0</td>\n",
       "      <td>46838.0</td>\n",
       "      <td>28682.0</td>\n",
       "      <td>18156.0</td>\n",
       "      <td>(X)</td>\n",
       "      <td>46826.0</td>\n",
       "      <td>10616.0</td>\n",
       "      <td>36210.0</td>\n",
       "      <td>127247.0</td>\n",
       "      <td>40659.0</td>\n",
       "      <td>86588.0</td>\n",
       "      <td>46838.0</td>\n",
       "      <td>28682.0</td>\n",
       "      <td>18156.0</td>\n",
       "      <td>(X)</td>\n",
       "      <td>36210.0</td>\n",
       "      <td>127247.0</td>\n",
       "      <td>40659.0</td>\n",
       "      <td>86588.0</td>\n",
       "      <td>46838.0</td>\n",
       "      <td>28682.0</td>\n",
       "      <td>18156.0</td>\n",
       "      <td>(X)</td>\n",
       "      <td>36210.0</td>\n",
       "      <td>127247.0</td>\n",
       "      <td>40659.0</td>\n",
       "      <td>86588.0</td>\n",
       "      <td>46838.0</td>\n",
       "      <td>28682.0</td>\n",
       "      <td>18156.0</td>\n",
       "      <td>(X)</td>\n",
       "      <td>36210.0</td>\n",
       "      <td>127247.0</td>\n",
       "      <td>40659.0</td>\n",
       "      <td>86588.0</td>\n",
       "      <td>46838.0</td>\n",
       "      <td>28682.0</td>\n",
       "      <td>18156.0</td>\n",
       "      <td>(X)</td>\n",
       "      <td>127247.0</td>\n",
       "      <td>40659.0</td>\n",
       "      <td>86588.0</td>\n",
       "      <td>46838.0</td>\n",
       "      <td>28682.0</td>\n",
       "      <td>18156.0</td>\n",
       "      <td>31901.0</td>\n",
       "      <td>15573.0</td>\n",
       "      <td>16328.0</td>\n",
       "      <td>27623.0</td>\n",
       "      <td>2050</td>\n",
       "      <td>N</td>\n",
       "      <td>N</td>\n",
       "      <td>N</td>\n",
       "      <td>N</td>\n",
       "      <td>N</td>\n",
       "      <td>27581</td>\n",
       "      <td>N</td>\n",
       "      <td>0.0</td>\n",
       "      <td>2538.0</td>\n",
       "      <td>3850.0</td>\n",
       "      <td>11393.0</td>\n",
       "      <td>6070.0</td>\n",
       "      <td>8050.0</td>\n",
       "      <td>10749.0</td>\n",
       "      <td>413.0</td>\n",
       "      <td>0.0</td>\n",
       "      <td>413.0</td>\n",
       "      <td>3431.0</td>\n",
       "      <td>384.0</td>\n",
       "      <td>3047.0</td>\n",
       "      <td>6905.0</td>\n",
       "      <td>2782.0</td>\n",
       "      <td>4123.0</td>\n",
       "      <td>5281.0</td>\n",
       "      <td>626.0</td>\n",
       "      <td>0.0</td>\n",
       "      <td>626.0</td>\n",
       "      <td>1623.0</td>\n",
       "      <td>650.0</td>\n",
       "      <td>973.0</td>\n",
       "      <td>3032.0</td>\n",
       "      <td>997.0</td>\n",
       "      <td>2035.0</td>\n",
       "      <td>10586.0</td>\n",
       "      <td>2052.0</td>\n",
       "      <td>5880.0</td>\n",
       "      <td>2745.0</td>\n",
       "      <td>3135.0</td>\n",
       "      <td>2654.0</td>\n",
       "      <td>739.0</td>\n",
       "      <td>1915.0</td>\n",
       "      <td>15885.0</td>\n",
       "      <td>0.0</td>\n",
       "      <td>7555.0</td>\n",
       "      <td>690.0</td>\n",
       "      <td>6865.0</td>\n",
       "      <td>8330.0</td>\n",
       "      <td>3533.0</td>\n",
       "      <td>4797.0</td>\n",
       "      <td>6181.0</td>\n",
       "      <td>553.0</td>\n",
       "      <td>2534.0</td>\n",
       "      <td>419.0</td>\n",
       "      <td>2115.0</td>\n",
       "      <td>3094.0</td>\n",
       "      <td>1030.0</td>\n",
       "      <td>2064.0</td>\n",
       "      <td>10780.0</td>\n",
       "      <td>4500.0</td>\n",
       "      <td>1200.0</td>\n",
       "      <td>3300.0</td>\n",
       "      <td>6280.0</td>\n",
       "      <td>2131.0</td>\n",
       "      <td>4149.0</td>\n",
       "      <td>14.4</td>\n",
       "      <td>14.6</td>\n",
       "      <td>14.3</td>\n",
       "      <td>14.6</td>\n",
       "      <td>11.6</td>\n",
       "      <td>N</td>\n",
       "      <td>N</td>\n",
       "      <td>N</td>\n",
       "      <td>N</td>\n",
       "      <td>N</td>\n",
       "      <td>15.0</td>\n",
       "      <td>N</td>\n",
       "      <td>0.0</td>\n",
       "      <td>7.0</td>\n",
       "      <td>9.5</td>\n",
       "      <td>13.2</td>\n",
       "      <td>21.2</td>\n",
       "      <td>44.3</td>\n",
       "      <td>4.9</td>\n",
       "      <td>0.9</td>\n",
       "      <td>0.0</td>\n",
       "      <td>1.1</td>\n",
       "      <td>2.7</td>\n",
       "      <td>0.9</td>\n",
       "      <td>3.5</td>\n",
       "      <td>14.7</td>\n",
       "      <td>9.7</td>\n",
       "      <td>22.7</td>\n",
       "      <td>2.4</td>\n",
       "      <td>1.3</td>\n",
       "      <td>0.0</td>\n",
       "      <td>1.7</td>\n",
       "      <td>1.3</td>\n",
       "      <td>1.6</td>\n",
       "      <td>1.1</td>\n",
       "      <td>6.5</td>\n",
       "      <td>3.5</td>\n",
       "      <td>11.2</td>\n",
       "      <td>5.0</td>\n",
       "      <td>5.7</td>\n",
       "      <td>4.6</td>\n",
       "      <td>6.8</td>\n",
       "      <td>3.6</td>\n",
       "      <td>5.7</td>\n",
       "      <td>2.6</td>\n",
       "      <td>10.5</td>\n",
       "      <td>7.6</td>\n",
       "      <td>0.0</td>\n",
       "      <td>5.9</td>\n",
       "      <td>1.7</td>\n",
       "      <td>7.9</td>\n",
       "      <td>17.8</td>\n",
       "      <td>12.3</td>\n",
       "      <td>26.4</td>\n",
       "      <td>2.9</td>\n",
       "      <td>1.5</td>\n",
       "      <td>2.0</td>\n",
       "      <td>1.0</td>\n",
       "      <td>2.4</td>\n",
       "      <td>6.6</td>\n",
       "      <td>3.6</td>\n",
       "      <td>11.4</td>\n",
       "      <td>6.2</td>\n",
       "      <td>3.5</td>\n",
       "      <td>3.0</td>\n",
       "      <td>3.8</td>\n",
       "      <td>13.4</td>\n",
       "      <td>7.4</td>\n",
       "      <td>22.9</td>\n",
       "      <td>AL</td>\n",
       "      <td>3.431421e+07</td>\n",
       "      <td>784.0</td>\n",
       "      <td>764.41</td>\n",
       "      <td>44890.0</td>\n",
       "      <td>13009</td>\n",
       "      <td>1003.0</td>\n",
       "      <td>1.0</td>\n",
       "      <td>20347.0</td>\n",
       "      <td>18464.0</td>\n",
       "      <td>1639.0</td>\n",
       "      <td>20103.0</td>\n",
       "      <td>8.2</td>\n",
       "      <td>6747.0</td>\n",
       "      <td>6959.0</td>\n",
       "      <td>43672.0</td>\n",
       "      <td>35.5</td>\n",
       "      <td>49.424752</td>\n",
       "      <td>10.302465</td>\n",
       "      <td>9.543020</td>\n",
       "      <td>8.549079</td>\n",
       "      <td>30.659218</td>\n",
       "      <td>-87.746067</td>\n",
       "      <td>0.4498</td>\n",
       "      <td>17.868167</td>\n",
       "      <td>17.351070</td>\n",
       "      <td>10.711970</td>\n",
       "      <td>17.983184</td>\n",
       "      <td>0</td>\n",
       "      <td>0</td>\n",
       "      <td>0</td>\n",
       "      <td>0</td>\n",
       "      <td>9.920689</td>\n",
       "      <td>8.816853</td>\n",
       "      <td>8.847791</td>\n",
       "    </tr>\n",
       "    <tr>\n",
       "      <th>3</th>\n",
       "      <td>0500000US01003</td>\n",
       "      <td>Baldwin County</td>\n",
       "      <td>220911.0</td>\n",
       "      <td>106961.0</td>\n",
       "      <td>113950.0</td>\n",
       "      <td>189325.0</td>\n",
       "      <td>17668</td>\n",
       "      <td>N</td>\n",
       "      <td>N</td>\n",
       "      <td>N</td>\n",
       "      <td>N</td>\n",
       "      <td>N</td>\n",
       "      <td>183610</td>\n",
       "      <td>N</td>\n",
       "      <td>10616.0</td>\n",
       "      <td>36210.0</td>\n",
       "      <td>40659.0</td>\n",
       "      <td>86588.0</td>\n",
       "      <td>28682.0</td>\n",
       "      <td>18156.0</td>\n",
       "      <td>(X)</td>\n",
       "      <td>46826.0</td>\n",
       "      <td>10616.0</td>\n",
       "      <td>36210.0</td>\n",
       "      <td>127247.0</td>\n",
       "      <td>40659.0</td>\n",
       "      <td>86588.0</td>\n",
       "      <td>46838.0</td>\n",
       "      <td>28682.0</td>\n",
       "      <td>18156.0</td>\n",
       "      <td>(X)</td>\n",
       "      <td>46826.0</td>\n",
       "      <td>10616.0</td>\n",
       "      <td>36210.0</td>\n",
       "      <td>127247.0</td>\n",
       "      <td>40659.0</td>\n",
       "      <td>86588.0</td>\n",
       "      <td>46838.0</td>\n",
       "      <td>28682.0</td>\n",
       "      <td>18156.0</td>\n",
       "      <td>(X)</td>\n",
       "      <td>36210.0</td>\n",
       "      <td>127247.0</td>\n",
       "      <td>40659.0</td>\n",
       "      <td>86588.0</td>\n",
       "      <td>46838.0</td>\n",
       "      <td>28682.0</td>\n",
       "      <td>18156.0</td>\n",
       "      <td>(X)</td>\n",
       "      <td>36210.0</td>\n",
       "      <td>127247.0</td>\n",
       "      <td>40659.0</td>\n",
       "      <td>86588.0</td>\n",
       "      <td>46838.0</td>\n",
       "      <td>28682.0</td>\n",
       "      <td>18156.0</td>\n",
       "      <td>(X)</td>\n",
       "      <td>36210.0</td>\n",
       "      <td>127247.0</td>\n",
       "      <td>40659.0</td>\n",
       "      <td>86588.0</td>\n",
       "      <td>46838.0</td>\n",
       "      <td>28682.0</td>\n",
       "      <td>18156.0</td>\n",
       "      <td>(X)</td>\n",
       "      <td>127247.0</td>\n",
       "      <td>40659.0</td>\n",
       "      <td>86588.0</td>\n",
       "      <td>46838.0</td>\n",
       "      <td>28682.0</td>\n",
       "      <td>18156.0</td>\n",
       "      <td>31901.0</td>\n",
       "      <td>15573.0</td>\n",
       "      <td>16328.0</td>\n",
       "      <td>27623.0</td>\n",
       "      <td>2050</td>\n",
       "      <td>N</td>\n",
       "      <td>N</td>\n",
       "      <td>N</td>\n",
       "      <td>N</td>\n",
       "      <td>N</td>\n",
       "      <td>27581</td>\n",
       "      <td>N</td>\n",
       "      <td>0.0</td>\n",
       "      <td>2538.0</td>\n",
       "      <td>3850.0</td>\n",
       "      <td>11393.0</td>\n",
       "      <td>6070.0</td>\n",
       "      <td>8050.0</td>\n",
       "      <td>10749.0</td>\n",
       "      <td>413.0</td>\n",
       "      <td>0.0</td>\n",
       "      <td>413.0</td>\n",
       "      <td>3431.0</td>\n",
       "      <td>384.0</td>\n",
       "      <td>3047.0</td>\n",
       "      <td>6905.0</td>\n",
       "      <td>2782.0</td>\n",
       "      <td>4123.0</td>\n",
       "      <td>5281.0</td>\n",
       "      <td>626.0</td>\n",
       "      <td>0.0</td>\n",
       "      <td>626.0</td>\n",
       "      <td>1623.0</td>\n",
       "      <td>650.0</td>\n",
       "      <td>973.0</td>\n",
       "      <td>3032.0</td>\n",
       "      <td>997.0</td>\n",
       "      <td>2035.0</td>\n",
       "      <td>10586.0</td>\n",
       "      <td>2052.0</td>\n",
       "      <td>5880.0</td>\n",
       "      <td>2745.0</td>\n",
       "      <td>3135.0</td>\n",
       "      <td>2654.0</td>\n",
       "      <td>739.0</td>\n",
       "      <td>1915.0</td>\n",
       "      <td>15885.0</td>\n",
       "      <td>0.0</td>\n",
       "      <td>7555.0</td>\n",
       "      <td>690.0</td>\n",
       "      <td>6865.0</td>\n",
       "      <td>8330.0</td>\n",
       "      <td>3533.0</td>\n",
       "      <td>4797.0</td>\n",
       "      <td>6181.0</td>\n",
       "      <td>553.0</td>\n",
       "      <td>2534.0</td>\n",
       "      <td>419.0</td>\n",
       "      <td>2115.0</td>\n",
       "      <td>3094.0</td>\n",
       "      <td>1030.0</td>\n",
       "      <td>2064.0</td>\n",
       "      <td>10780.0</td>\n",
       "      <td>4500.0</td>\n",
       "      <td>1200.0</td>\n",
       "      <td>3300.0</td>\n",
       "      <td>6280.0</td>\n",
       "      <td>2131.0</td>\n",
       "      <td>4149.0</td>\n",
       "      <td>14.4</td>\n",
       "      <td>14.6</td>\n",
       "      <td>14.3</td>\n",
       "      <td>14.6</td>\n",
       "      <td>11.6</td>\n",
       "      <td>N</td>\n",
       "      <td>N</td>\n",
       "      <td>N</td>\n",
       "      <td>N</td>\n",
       "      <td>N</td>\n",
       "      <td>15.0</td>\n",
       "      <td>N</td>\n",
       "      <td>0.0</td>\n",
       "      <td>7.0</td>\n",
       "      <td>9.5</td>\n",
       "      <td>13.2</td>\n",
       "      <td>21.2</td>\n",
       "      <td>44.3</td>\n",
       "      <td>4.9</td>\n",
       "      <td>0.9</td>\n",
       "      <td>0.0</td>\n",
       "      <td>1.1</td>\n",
       "      <td>2.7</td>\n",
       "      <td>0.9</td>\n",
       "      <td>3.5</td>\n",
       "      <td>14.7</td>\n",
       "      <td>9.7</td>\n",
       "      <td>22.7</td>\n",
       "      <td>2.4</td>\n",
       "      <td>1.3</td>\n",
       "      <td>0.0</td>\n",
       "      <td>1.7</td>\n",
       "      <td>1.3</td>\n",
       "      <td>1.6</td>\n",
       "      <td>1.1</td>\n",
       "      <td>6.5</td>\n",
       "      <td>3.5</td>\n",
       "      <td>11.2</td>\n",
       "      <td>5.0</td>\n",
       "      <td>5.7</td>\n",
       "      <td>4.6</td>\n",
       "      <td>6.8</td>\n",
       "      <td>3.6</td>\n",
       "      <td>5.7</td>\n",
       "      <td>2.6</td>\n",
       "      <td>10.5</td>\n",
       "      <td>7.6</td>\n",
       "      <td>0.0</td>\n",
       "      <td>5.9</td>\n",
       "      <td>1.7</td>\n",
       "      <td>7.9</td>\n",
       "      <td>17.8</td>\n",
       "      <td>12.3</td>\n",
       "      <td>26.4</td>\n",
       "      <td>2.9</td>\n",
       "      <td>1.5</td>\n",
       "      <td>2.0</td>\n",
       "      <td>1.0</td>\n",
       "      <td>2.4</td>\n",
       "      <td>6.6</td>\n",
       "      <td>3.6</td>\n",
       "      <td>11.4</td>\n",
       "      <td>6.2</td>\n",
       "      <td>3.5</td>\n",
       "      <td>3.0</td>\n",
       "      <td>3.8</td>\n",
       "      <td>13.4</td>\n",
       "      <td>7.4</td>\n",
       "      <td>22.9</td>\n",
       "      <td>AL</td>\n",
       "      <td>3.431421e+07</td>\n",
       "      <td>784.0</td>\n",
       "      <td>764.41</td>\n",
       "      <td>44890.0</td>\n",
       "      <td>13009</td>\n",
       "      <td>1003.0</td>\n",
       "      <td>1.0</td>\n",
       "      <td>20347.0</td>\n",
       "      <td>95091.0</td>\n",
       "      <td>4226.0</td>\n",
       "      <td>99317.0</td>\n",
       "      <td>4.3</td>\n",
       "      <td>29935.0</td>\n",
       "      <td>42531.0</td>\n",
       "      <td>58320.0</td>\n",
       "      <td>43.0</td>\n",
       "      <td>51.371517</td>\n",
       "      <td>11.907923</td>\n",
       "      <td>11.250326</td>\n",
       "      <td>9.835155</td>\n",
       "      <td>30.659218</td>\n",
       "      <td>-87.746067</td>\n",
       "      <td>0.4498</td>\n",
       "      <td>17.868167</td>\n",
       "      <td>17.351070</td>\n",
       "      <td>10.711970</td>\n",
       "      <td>17.983184</td>\n",
       "      <td>0</td>\n",
       "      <td>0</td>\n",
       "      <td>0</td>\n",
       "      <td>0</td>\n",
       "      <td>9.920689</td>\n",
       "      <td>10.306784</td>\n",
       "      <td>10.657989</td>\n",
       "    </tr>\n",
       "    <tr>\n",
       "      <th>4</th>\n",
       "      <td>0500000US01015</td>\n",
       "      <td>Calhoun County</td>\n",
       "      <td>111075.0</td>\n",
       "      <td>52442.0</td>\n",
       "      <td>58633.0</td>\n",
       "      <td>80403.0</td>\n",
       "      <td>24662</td>\n",
       "      <td>N</td>\n",
       "      <td>N</td>\n",
       "      <td>N</td>\n",
       "      <td>N</td>\n",
       "      <td>N</td>\n",
       "      <td>79067</td>\n",
       "      <td>N</td>\n",
       "      <td>6699.0</td>\n",
       "      <td>17635.0</td>\n",
       "      <td>24227.0</td>\n",
       "      <td>42369.0</td>\n",
       "      <td>12017.0</td>\n",
       "      <td>8128.0</td>\n",
       "      <td>(X)</td>\n",
       "      <td>24334.0</td>\n",
       "      <td>6699.0</td>\n",
       "      <td>17635.0</td>\n",
       "      <td>66596.0</td>\n",
       "      <td>24227.0</td>\n",
       "      <td>42369.0</td>\n",
       "      <td>20145.0</td>\n",
       "      <td>12017.0</td>\n",
       "      <td>8128.0</td>\n",
       "      <td>(X)</td>\n",
       "      <td>24334.0</td>\n",
       "      <td>6699.0</td>\n",
       "      <td>17635.0</td>\n",
       "      <td>66596.0</td>\n",
       "      <td>24227.0</td>\n",
       "      <td>42369.0</td>\n",
       "      <td>20145.0</td>\n",
       "      <td>12017.0</td>\n",
       "      <td>8128.0</td>\n",
       "      <td>(X)</td>\n",
       "      <td>17635.0</td>\n",
       "      <td>66596.0</td>\n",
       "      <td>24227.0</td>\n",
       "      <td>42369.0</td>\n",
       "      <td>20145.0</td>\n",
       "      <td>12017.0</td>\n",
       "      <td>8128.0</td>\n",
       "      <td>(X)</td>\n",
       "      <td>17635.0</td>\n",
       "      <td>66596.0</td>\n",
       "      <td>24227.0</td>\n",
       "      <td>42369.0</td>\n",
       "      <td>20145.0</td>\n",
       "      <td>12017.0</td>\n",
       "      <td>8128.0</td>\n",
       "      <td>(X)</td>\n",
       "      <td>17635.0</td>\n",
       "      <td>66596.0</td>\n",
       "      <td>24227.0</td>\n",
       "      <td>42369.0</td>\n",
       "      <td>20145.0</td>\n",
       "      <td>12017.0</td>\n",
       "      <td>8128.0</td>\n",
       "      <td>(X)</td>\n",
       "      <td>66596.0</td>\n",
       "      <td>24227.0</td>\n",
       "      <td>42369.0</td>\n",
       "      <td>20145.0</td>\n",
       "      <td>12017.0</td>\n",
       "      <td>8128.0</td>\n",
       "      <td>22269.0</td>\n",
       "      <td>9352.0</td>\n",
       "      <td>12917.0</td>\n",
       "      <td>17365.0</td>\n",
       "      <td>4119</td>\n",
       "      <td>N</td>\n",
       "      <td>N</td>\n",
       "      <td>N</td>\n",
       "      <td>N</td>\n",
       "      <td>N</td>\n",
       "      <td>16871</td>\n",
       "      <td>N</td>\n",
       "      <td>46.0</td>\n",
       "      <td>895.0</td>\n",
       "      <td>1720.0</td>\n",
       "      <td>10368.0</td>\n",
       "      <td>3974.0</td>\n",
       "      <td>5266.0</td>\n",
       "      <td>7367.0</td>\n",
       "      <td>78.0</td>\n",
       "      <td>0.0</td>\n",
       "      <td>78.0</td>\n",
       "      <td>2618.0</td>\n",
       "      <td>470.0</td>\n",
       "      <td>2148.0</td>\n",
       "      <td>4671.0</td>\n",
       "      <td>1926.0</td>\n",
       "      <td>2745.0</td>\n",
       "      <td>4549.0</td>\n",
       "      <td>114.0</td>\n",
       "      <td>46.0</td>\n",
       "      <td>68.0</td>\n",
       "      <td>3298.0</td>\n",
       "      <td>600.0</td>\n",
       "      <td>2698.0</td>\n",
       "      <td>1137.0</td>\n",
       "      <td>646.0</td>\n",
       "      <td>491.0</td>\n",
       "      <td>9003.0</td>\n",
       "      <td>749.0</td>\n",
       "      <td>4945.0</td>\n",
       "      <td>690.0</td>\n",
       "      <td>4255.0</td>\n",
       "      <td>3309.0</td>\n",
       "      <td>1451.0</td>\n",
       "      <td>1858.0</td>\n",
       "      <td>13568.0</td>\n",
       "      <td>0.0</td>\n",
       "      <td>6793.0</td>\n",
       "      <td>271.0</td>\n",
       "      <td>6522.0</td>\n",
       "      <td>6775.0</td>\n",
       "      <td>2493.0</td>\n",
       "      <td>4282.0</td>\n",
       "      <td>4083.0</td>\n",
       "      <td>332.0</td>\n",
       "      <td>2047.0</td>\n",
       "      <td>161.0</td>\n",
       "      <td>1886.0</td>\n",
       "      <td>1704.0</td>\n",
       "      <td>574.0</td>\n",
       "      <td>1130.0</td>\n",
       "      <td>8009.0</td>\n",
       "      <td>3914.0</td>\n",
       "      <td>161.0</td>\n",
       "      <td>3753.0</td>\n",
       "      <td>4095.0</td>\n",
       "      <td>1330.0</td>\n",
       "      <td>2765.0</td>\n",
       "      <td>20.0</td>\n",
       "      <td>17.8</td>\n",
       "      <td>22.0</td>\n",
       "      <td>21.6</td>\n",
       "      <td>16.7</td>\n",
       "      <td>N</td>\n",
       "      <td>N</td>\n",
       "      <td>N</td>\n",
       "      <td>N</td>\n",
       "      <td>N</td>\n",
       "      <td>21.3</td>\n",
       "      <td>N</td>\n",
       "      <td>0.7</td>\n",
       "      <td>5.1</td>\n",
       "      <td>7.1</td>\n",
       "      <td>24.5</td>\n",
       "      <td>33.1</td>\n",
       "      <td>64.8</td>\n",
       "      <td>6.6</td>\n",
       "      <td>0.3</td>\n",
       "      <td>0.0</td>\n",
       "      <td>0.4</td>\n",
       "      <td>3.9</td>\n",
       "      <td>1.9</td>\n",
       "      <td>5.1</td>\n",
       "      <td>23.2</td>\n",
       "      <td>16.0</td>\n",
       "      <td>33.8</td>\n",
       "      <td>4.1</td>\n",
       "      <td>0.5</td>\n",
       "      <td>0.7</td>\n",
       "      <td>0.4</td>\n",
       "      <td>5.0</td>\n",
       "      <td>2.5</td>\n",
       "      <td>6.4</td>\n",
       "      <td>5.6</td>\n",
       "      <td>5.4</td>\n",
       "      <td>6.0</td>\n",
       "      <td>8.6</td>\n",
       "      <td>4.2</td>\n",
       "      <td>7.4</td>\n",
       "      <td>2.8</td>\n",
       "      <td>10.0</td>\n",
       "      <td>16.4</td>\n",
       "      <td>12.1</td>\n",
       "      <td>22.9</td>\n",
       "      <td>13.0</td>\n",
       "      <td>0.0</td>\n",
       "      <td>10.2</td>\n",
       "      <td>1.1</td>\n",
       "      <td>15.4</td>\n",
       "      <td>33.6</td>\n",
       "      <td>20.7</td>\n",
       "      <td>52.7</td>\n",
       "      <td>3.9</td>\n",
       "      <td>1.9</td>\n",
       "      <td>3.1</td>\n",
       "      <td>0.7</td>\n",
       "      <td>4.5</td>\n",
       "      <td>8.5</td>\n",
       "      <td>4.8</td>\n",
       "      <td>13.9</td>\n",
       "      <td>9.2</td>\n",
       "      <td>5.9</td>\n",
       "      <td>0.7</td>\n",
       "      <td>8.9</td>\n",
       "      <td>20.3</td>\n",
       "      <td>11.1</td>\n",
       "      <td>34.0</td>\n",
       "      <td>AL</td>\n",
       "      <td>1.008982e+08</td>\n",
       "      <td>2985.0</td>\n",
       "      <td>888.15</td>\n",
       "      <td>113605.0</td>\n",
       "      <td>01015</td>\n",
       "      <td>1015.0</td>\n",
       "      <td>1.0</td>\n",
       "      <td>14162.0</td>\n",
       "      <td>4314.0</td>\n",
       "      <td>102.0</td>\n",
       "      <td>4416.0</td>\n",
       "      <td>2.3</td>\n",
       "      <td>1094.0</td>\n",
       "      <td>2222.0</td>\n",
       "      <td>52323.0</td>\n",
       "      <td>44.6</td>\n",
       "      <td>48.101396</td>\n",
       "      <td>8.820109</td>\n",
       "      <td>8.215547</td>\n",
       "      <td>5.765191</td>\n",
       "      <td>33.771706</td>\n",
       "      <td>-85.822513</td>\n",
       "      <td>0.4692</td>\n",
       "      <td>23.464932</td>\n",
       "      <td>18.429622</td>\n",
       "      <td>11.640483</td>\n",
       "      <td>19.048435</td>\n",
       "      <td>0</td>\n",
       "      <td>0</td>\n",
       "      <td>0</td>\n",
       "      <td>0</td>\n",
       "      <td>9.558318</td>\n",
       "      <td>6.997596</td>\n",
       "      <td>7.706163</td>\n",
       "    </tr>\n",
       "  </tbody>\n",
       "</table>\n",
       "</div>"
      ],
      "text/plain": [
       "               id     county_name       tot     tot_M     tot_F     tot_W  \\\n",
       "0  0500000US01003  Baldwin County  220911.0  106961.0  113950.0  189325.0   \n",
       "1  0500000US01003  Baldwin County  220911.0  106961.0  113950.0  189325.0   \n",
       "2  0500000US01003  Baldwin County  220911.0  106961.0  113950.0  189325.0   \n",
       "3  0500000US01003  Baldwin County  220911.0  106961.0  113950.0  189325.0   \n",
       "4  0500000US01015  Calhoun County  111075.0   52442.0   58633.0   80403.0   \n",
       "\n",
       "   tot_B tot_I tot_A tot_P tot_O tot_T   tot_w tot_H  tot_0-5  tot_5-17  \\\n",
       "0  17668     N     N     N     N     N  183610     N  10616.0   36210.0   \n",
       "1  17668     N     N     N     N     N  183610     N  10616.0   36210.0   \n",
       "2  17668     N     N     N     N     N  183610     N  10616.0   36210.0   \n",
       "3  17668     N     N     N     N     N  183610     N  10616.0   36210.0   \n",
       "4  24662     N     N     N     N     N   79067     N   6699.0   17635.0   \n",
       "\n",
       "   tot_18-34  tot_35-64  tot_65-74  tot_75+ tot_aud  tot_aud_0-18  \\\n",
       "0    40659.0    86588.0    28682.0  18156.0     (X)       46826.0   \n",
       "1    40659.0    86588.0    28682.0  18156.0     (X)       46826.0   \n",
       "2    40659.0    86588.0    28682.0  18156.0     (X)       46826.0   \n",
       "3    40659.0    86588.0    28682.0  18156.0     (X)       46826.0   \n",
       "4    24227.0    42369.0    12017.0   8128.0     (X)       24334.0   \n",
       "\n",
       "   tot_aud_0-18_0-5  tot_aud_0-18_5-17  tot_aud_18-64  tot_aud_18-64_18-34  \\\n",
       "0           10616.0            36210.0       127247.0              40659.0   \n",
       "1           10616.0            36210.0       127247.0              40659.0   \n",
       "2           10616.0            36210.0       127247.0              40659.0   \n",
       "3           10616.0            36210.0       127247.0              40659.0   \n",
       "4            6699.0            17635.0        66596.0              24227.0   \n",
       "\n",
       "   tot_aud_18-64_35-64  tot_aud_65+  tot_aud_65+_65-74  tot_aud_65+_75+  \\\n",
       "0              86588.0      46838.0            28682.0          18156.0   \n",
       "1              86588.0      46838.0            28682.0          18156.0   \n",
       "2              86588.0      46838.0            28682.0          18156.0   \n",
       "3              86588.0      46838.0            28682.0          18156.0   \n",
       "4              42369.0      20145.0            12017.0           8128.0   \n",
       "\n",
       "  tot_vis  tot_vis_0-18  tot_vis_0-18_0-5  tot_vis_0-18_5-17  tot_vis_18-64  \\\n",
       "0     (X)       46826.0           10616.0            36210.0       127247.0   \n",
       "1     (X)       46826.0           10616.0            36210.0       127247.0   \n",
       "2     (X)       46826.0           10616.0            36210.0       127247.0   \n",
       "3     (X)       46826.0           10616.0            36210.0       127247.0   \n",
       "4     (X)       24334.0            6699.0            17635.0        66596.0   \n",
       "\n",
       "   tot_vis_18-64_18-34  tot_vis_18-64_35-64  tot_vis_65+  tot_vis_65+_65-74  \\\n",
       "0              40659.0              86588.0      46838.0            28682.0   \n",
       "1              40659.0              86588.0      46838.0            28682.0   \n",
       "2              40659.0              86588.0      46838.0            28682.0   \n",
       "3              40659.0              86588.0      46838.0            28682.0   \n",
       "4              24227.0              42369.0      20145.0            12017.0   \n",
       "\n",
       "   tot_vis_65+_75+ tot_cog  tot_cog_0-18  tot_cog_18-64  tot_cog_18-64_18-34  \\\n",
       "0          18156.0     (X)       36210.0       127247.0              40659.0   \n",
       "1          18156.0     (X)       36210.0       127247.0              40659.0   \n",
       "2          18156.0     (X)       36210.0       127247.0              40659.0   \n",
       "3          18156.0     (X)       36210.0       127247.0              40659.0   \n",
       "4           8128.0     (X)       17635.0        66596.0              24227.0   \n",
       "\n",
       "   tot_cog_18-64_35-64  tot_cog_65+  tot_cog_65+_65-74  tot_cog_65+_75+  \\\n",
       "0              86588.0      46838.0            28682.0          18156.0   \n",
       "1              86588.0      46838.0            28682.0          18156.0   \n",
       "2              86588.0      46838.0            28682.0          18156.0   \n",
       "3              86588.0      46838.0            28682.0          18156.0   \n",
       "4              42369.0      20145.0            12017.0           8128.0   \n",
       "\n",
       "  tot_amb  tot_amb_0-18  tot_amb_18-64  tot_amb_18-64_18-34  \\\n",
       "0     (X)       36210.0       127247.0              40659.0   \n",
       "1     (X)       36210.0       127247.0              40659.0   \n",
       "2     (X)       36210.0       127247.0              40659.0   \n",
       "3     (X)       36210.0       127247.0              40659.0   \n",
       "4     (X)       17635.0        66596.0              24227.0   \n",
       "\n",
       "   tot_amb_18-64_35-64  tot_amb_65+  tot_amb_65+_65-74  tot_amb_65+_75+  \\\n",
       "0              86588.0      46838.0            28682.0          18156.0   \n",
       "1              86588.0      46838.0            28682.0          18156.0   \n",
       "2              86588.0      46838.0            28682.0          18156.0   \n",
       "3              86588.0      46838.0            28682.0          18156.0   \n",
       "4              42369.0      20145.0            12017.0           8128.0   \n",
       "\n",
       "  tot_self  tot_self_0-18  tot_self_18-64  tot_self_18-64_18-34  \\\n",
       "0      (X)        36210.0        127247.0               40659.0   \n",
       "1      (X)        36210.0        127247.0               40659.0   \n",
       "2      (X)        36210.0        127247.0               40659.0   \n",
       "3      (X)        36210.0        127247.0               40659.0   \n",
       "4      (X)        17635.0         66596.0               24227.0   \n",
       "\n",
       "   tot_self_18-64_35-64  tot_self_65+  tot_self_65+_65-74  tot_self_65+_75+  \\\n",
       "0               86588.0       46838.0             28682.0           18156.0   \n",
       "1               86588.0       46838.0             28682.0           18156.0   \n",
       "2               86588.0       46838.0             28682.0           18156.0   \n",
       "3               86588.0       46838.0             28682.0           18156.0   \n",
       "4               42369.0       20145.0             12017.0            8128.0   \n",
       "\n",
       "  tot_ind  tot_ind_18-64  tot_ind_18-64_18-34  tot_ind_18-64_35-64  \\\n",
       "0     (X)       127247.0              40659.0              86588.0   \n",
       "1     (X)       127247.0              40659.0              86588.0   \n",
       "2     (X)       127247.0              40659.0              86588.0   \n",
       "3     (X)       127247.0              40659.0              86588.0   \n",
       "4     (X)        66596.0              24227.0              42369.0   \n",
       "\n",
       "   tot_ind_65+  tot_ind_65+_65-74  tot_ind_65+_75+      dis    dis_M    dis_F  \\\n",
       "0      46838.0            28682.0          18156.0  31901.0  15573.0  16328.0   \n",
       "1      46838.0            28682.0          18156.0  31901.0  15573.0  16328.0   \n",
       "2      46838.0            28682.0          18156.0  31901.0  15573.0  16328.0   \n",
       "3      46838.0            28682.0          18156.0  31901.0  15573.0  16328.0   \n",
       "4      20145.0            12017.0           8128.0  22269.0   9352.0  12917.0   \n",
       "\n",
       "     dis_W dis_B dis_I dis_A dis_P dis_O dis_T  dis_w dis_H  dis_0-5  \\\n",
       "0  27623.0  2050     N     N     N     N     N  27581     N      0.0   \n",
       "1  27623.0  2050     N     N     N     N     N  27581     N      0.0   \n",
       "2  27623.0  2050     N     N     N     N     N  27581     N      0.0   \n",
       "3  27623.0  2050     N     N     N     N     N  27581     N      0.0   \n",
       "4  17365.0  4119     N     N     N     N     N  16871     N     46.0   \n",
       "\n",
       "   dis_5-17  dis_18-34  dis_35-64  dis_65-74  dis_75+  dis_aud  dis_aud_0-18  \\\n",
       "0    2538.0     3850.0    11393.0     6070.0   8050.0  10749.0         413.0   \n",
       "1    2538.0     3850.0    11393.0     6070.0   8050.0  10749.0         413.0   \n",
       "2    2538.0     3850.0    11393.0     6070.0   8050.0  10749.0         413.0   \n",
       "3    2538.0     3850.0    11393.0     6070.0   8050.0  10749.0         413.0   \n",
       "4     895.0     1720.0    10368.0     3974.0   5266.0   7367.0          78.0   \n",
       "\n",
       "   dis_aud_0-18_0-5  dis_aud_0-18_5-17  dis_aud_18-64  dis_aud_18-64_18-34  \\\n",
       "0               0.0              413.0         3431.0                384.0   \n",
       "1               0.0              413.0         3431.0                384.0   \n",
       "2               0.0              413.0         3431.0                384.0   \n",
       "3               0.0              413.0         3431.0                384.0   \n",
       "4               0.0               78.0         2618.0                470.0   \n",
       "\n",
       "   dis_aud_18-64_35-64  dis_aud_65+  dis_aud_65+_65-74  dis_aud_65+_75+  \\\n",
       "0               3047.0       6905.0             2782.0           4123.0   \n",
       "1               3047.0       6905.0             2782.0           4123.0   \n",
       "2               3047.0       6905.0             2782.0           4123.0   \n",
       "3               3047.0       6905.0             2782.0           4123.0   \n",
       "4               2148.0       4671.0             1926.0           2745.0   \n",
       "\n",
       "   dis_vis  dis_vis_0-18  dis_vis_0-18_0-5  dis_vis_0-18_5-17  dis_vis_18-64  \\\n",
       "0   5281.0         626.0               0.0              626.0         1623.0   \n",
       "1   5281.0         626.0               0.0              626.0         1623.0   \n",
       "2   5281.0         626.0               0.0              626.0         1623.0   \n",
       "3   5281.0         626.0               0.0              626.0         1623.0   \n",
       "4   4549.0         114.0              46.0               68.0         3298.0   \n",
       "\n",
       "   dis_vis_18-64_18-34  dis_vis_18-64_35-64  dis_vis_65+  dis_vis_65+_65-74  \\\n",
       "0                650.0                973.0       3032.0              997.0   \n",
       "1                650.0                973.0       3032.0              997.0   \n",
       "2                650.0                973.0       3032.0              997.0   \n",
       "3                650.0                973.0       3032.0              997.0   \n",
       "4                600.0               2698.0       1137.0              646.0   \n",
       "\n",
       "   dis_vis_65+_75+  dis_cog  dis_cog_0-18  dis_cog_18-64  dis_cog_18-64_18-34  \\\n",
       "0           2035.0  10586.0        2052.0         5880.0               2745.0   \n",
       "1           2035.0  10586.0        2052.0         5880.0               2745.0   \n",
       "2           2035.0  10586.0        2052.0         5880.0               2745.0   \n",
       "3           2035.0  10586.0        2052.0         5880.0               2745.0   \n",
       "4            491.0   9003.0         749.0         4945.0                690.0   \n",
       "\n",
       "   dis_cog_18-64_35-64  dis_cog_65+  dis_cog_65+_65-74  dis_cog_65+_75+  \\\n",
       "0               3135.0       2654.0              739.0           1915.0   \n",
       "1               3135.0       2654.0              739.0           1915.0   \n",
       "2               3135.0       2654.0              739.0           1915.0   \n",
       "3               3135.0       2654.0              739.0           1915.0   \n",
       "4               4255.0       3309.0             1451.0           1858.0   \n",
       "\n",
       "   dis_amb  dis_amb_0-18  dis_amb_18-64  dis_amb_18-64_18-34  \\\n",
       "0  15885.0           0.0         7555.0                690.0   \n",
       "1  15885.0           0.0         7555.0                690.0   \n",
       "2  15885.0           0.0         7555.0                690.0   \n",
       "3  15885.0           0.0         7555.0                690.0   \n",
       "4  13568.0           0.0         6793.0                271.0   \n",
       "\n",
       "   dis_amb_18-64_35-64  dis_amb_65+  dis_amb_65+_65-74  dis_amb_65+_75+  \\\n",
       "0               6865.0       8330.0             3533.0           4797.0   \n",
       "1               6865.0       8330.0             3533.0           4797.0   \n",
       "2               6865.0       8330.0             3533.0           4797.0   \n",
       "3               6865.0       8330.0             3533.0           4797.0   \n",
       "4               6522.0       6775.0             2493.0           4282.0   \n",
       "\n",
       "   dis_self  dis_self_0-18  dis_self_18-64  dis_self_18-64_18-34  \\\n",
       "0    6181.0          553.0          2534.0                 419.0   \n",
       "1    6181.0          553.0          2534.0                 419.0   \n",
       "2    6181.0          553.0          2534.0                 419.0   \n",
       "3    6181.0          553.0          2534.0                 419.0   \n",
       "4    4083.0          332.0          2047.0                 161.0   \n",
       "\n",
       "   dis_self_18-64_35-64  dis_self_65+  dis_self_65+_65-74  dis_self_65+_75+  \\\n",
       "0                2115.0        3094.0              1030.0            2064.0   \n",
       "1                2115.0        3094.0              1030.0            2064.0   \n",
       "2                2115.0        3094.0              1030.0            2064.0   \n",
       "3                2115.0        3094.0              1030.0            2064.0   \n",
       "4                1886.0        1704.0               574.0            1130.0   \n",
       "\n",
       "   dis_ind  dis_ind_18-64  dis_ind_18-64_18-34  dis_ind_18-64_35-64  \\\n",
       "0  10780.0         4500.0               1200.0               3300.0   \n",
       "1  10780.0         4500.0               1200.0               3300.0   \n",
       "2  10780.0         4500.0               1200.0               3300.0   \n",
       "3  10780.0         4500.0               1200.0               3300.0   \n",
       "4   8009.0         3914.0                161.0               3753.0   \n",
       "\n",
       "   dis_ind_65+  dis_ind_65+_65-74  dis_ind_65+_75+     %   %_M   %_F   %_W  \\\n",
       "0       6280.0             2131.0           4149.0  14.4  14.6  14.3  14.6   \n",
       "1       6280.0             2131.0           4149.0  14.4  14.6  14.3  14.6   \n",
       "2       6280.0             2131.0           4149.0  14.4  14.6  14.3  14.6   \n",
       "3       6280.0             2131.0           4149.0  14.4  14.6  14.3  14.6   \n",
       "4       4095.0             1330.0           2765.0  20.0  17.8  22.0  21.6   \n",
       "\n",
       "    %_B %_I %_A %_P %_O %_T   %_w %_H  %_0-5  %_5-17  %_18-34  %_35-64  \\\n",
       "0  11.6   N   N   N   N   N  15.0   N    0.0     7.0      9.5     13.2   \n",
       "1  11.6   N   N   N   N   N  15.0   N    0.0     7.0      9.5     13.2   \n",
       "2  11.6   N   N   N   N   N  15.0   N    0.0     7.0      9.5     13.2   \n",
       "3  11.6   N   N   N   N   N  15.0   N    0.0     7.0      9.5     13.2   \n",
       "4  16.7   N   N   N   N   N  21.3   N    0.7     5.1      7.1     24.5   \n",
       "\n",
       "   %_65-74  %_75+  %_aud  %_aud_0-18  %_aud_0-18_0-5  %_aud_0-18_5-17  \\\n",
       "0     21.2   44.3    4.9         0.9             0.0              1.1   \n",
       "1     21.2   44.3    4.9         0.9             0.0              1.1   \n",
       "2     21.2   44.3    4.9         0.9             0.0              1.1   \n",
       "3     21.2   44.3    4.9         0.9             0.0              1.1   \n",
       "4     33.1   64.8    6.6         0.3             0.0              0.4   \n",
       "\n",
       "   %_aud_18-64  %_aud_18-64_18-34  %_aud_18-64_35-64  %_aud_65+  \\\n",
       "0          2.7                0.9                3.5       14.7   \n",
       "1          2.7                0.9                3.5       14.7   \n",
       "2          2.7                0.9                3.5       14.7   \n",
       "3          2.7                0.9                3.5       14.7   \n",
       "4          3.9                1.9                5.1       23.2   \n",
       "\n",
       "   %_aud_65+_65-74  %_aud_65+_75+  %_vis  %_vis_0-18  %_vis_0-18_0-5  \\\n",
       "0              9.7           22.7    2.4         1.3             0.0   \n",
       "1              9.7           22.7    2.4         1.3             0.0   \n",
       "2              9.7           22.7    2.4         1.3             0.0   \n",
       "3              9.7           22.7    2.4         1.3             0.0   \n",
       "4             16.0           33.8    4.1         0.5             0.7   \n",
       "\n",
       "   %_vis_0-18_5-17  %_vis_18-64  %_vis_18-64_18-34  %_vis_18-64_35-64  \\\n",
       "0              1.7          1.3                1.6                1.1   \n",
       "1              1.7          1.3                1.6                1.1   \n",
       "2              1.7          1.3                1.6                1.1   \n",
       "3              1.7          1.3                1.6                1.1   \n",
       "4              0.4          5.0                2.5                6.4   \n",
       "\n",
       "   %_vis_65+  %_vis_65+_65-74  %_vis_65+_75+  %_cog  %_cog_0-18  %_cog_18-64  \\\n",
       "0        6.5              3.5           11.2    5.0         5.7          4.6   \n",
       "1        6.5              3.5           11.2    5.0         5.7          4.6   \n",
       "2        6.5              3.5           11.2    5.0         5.7          4.6   \n",
       "3        6.5              3.5           11.2    5.0         5.7          4.6   \n",
       "4        5.6              5.4            6.0    8.6         4.2          7.4   \n",
       "\n",
       "   %_cog_18-64_18-34  %_cog_18-64_35-64  %_cog_65+  %_cog_65+_65-74  \\\n",
       "0                6.8                3.6        5.7              2.6   \n",
       "1                6.8                3.6        5.7              2.6   \n",
       "2                6.8                3.6        5.7              2.6   \n",
       "3                6.8                3.6        5.7              2.6   \n",
       "4                2.8               10.0       16.4             12.1   \n",
       "\n",
       "   %_cog_65+_75+  %_amb  %_amb_0-18  %_amb_18-64  %_amb_18-64_18-34  \\\n",
       "0           10.5    7.6         0.0          5.9                1.7   \n",
       "1           10.5    7.6         0.0          5.9                1.7   \n",
       "2           10.5    7.6         0.0          5.9                1.7   \n",
       "3           10.5    7.6         0.0          5.9                1.7   \n",
       "4           22.9   13.0         0.0         10.2                1.1   \n",
       "\n",
       "   %_amb_18-64_35-64  %_amb_65+  %_amb_65+_65-74  %_amb_65+_75+  %_self  \\\n",
       "0                7.9       17.8             12.3           26.4     2.9   \n",
       "1                7.9       17.8             12.3           26.4     2.9   \n",
       "2                7.9       17.8             12.3           26.4     2.9   \n",
       "3                7.9       17.8             12.3           26.4     2.9   \n",
       "4               15.4       33.6             20.7           52.7     3.9   \n",
       "\n",
       "   %_self_0-18  %_self_18-64  %_self_18-64_18-34  %_self_18-64_35-64  \\\n",
       "0          1.5           2.0                 1.0                 2.4   \n",
       "1          1.5           2.0                 1.0                 2.4   \n",
       "2          1.5           2.0                 1.0                 2.4   \n",
       "3          1.5           2.0                 1.0                 2.4   \n",
       "4          1.9           3.1                 0.7                 4.5   \n",
       "\n",
       "   %_self_65+  %_self_65+_65-74  %_self_65+_75+  %_ind  %_ind_18-64  \\\n",
       "0         6.6               3.6            11.4    6.2          3.5   \n",
       "1         6.6               3.6            11.4    6.2          3.5   \n",
       "2         6.6               3.6            11.4    6.2          3.5   \n",
       "3         6.6               3.6            11.4    6.2          3.5   \n",
       "4         8.5               4.8            13.9    9.2          5.9   \n",
       "\n",
       "   %_ind_18-64_18-34  %_ind_18-64_35-64  %_ind_65+  %_ind_65+_65-74  \\\n",
       "0                3.0                3.8       13.4              7.4   \n",
       "1                3.0                3.8       13.4              7.4   \n",
       "2                3.0                3.8       13.4              7.4   \n",
       "3                3.0                3.8       13.4              7.4   \n",
       "4                0.7                8.9       20.3             11.1   \n",
       "\n",
       "   %_ind_65+_75+ State        amount  award_count  per_capita  population  \\\n",
       "0           22.9    AL  4.489061e+08      13553.0     2010.92    223234.0   \n",
       "1           22.9    AL  4.489061e+08      13553.0     2010.92    223234.0   \n",
       "2           22.9    AL  3.431421e+07        784.0      764.41     44890.0   \n",
       "3           22.9    AL  3.431421e+07        784.0      764.41     44890.0   \n",
       "4           34.0    AL  1.008982e+08       2985.0      888.15    113605.0   \n",
       "\n",
       "  shape_code  countyFIPS  StateFIPS  2021-03-21  \\\n",
       "0      01003      1003.0        1.0     20347.0   \n",
       "1      01003      1003.0        1.0     20347.0   \n",
       "2      13009      1003.0        1.0     20347.0   \n",
       "3      13009      1003.0        1.0     20347.0   \n",
       "4      01015      1015.0        1.0     14162.0   \n",
       "\n",
       "   employed people with 16 yrs and over  \\\n",
       "0                               18464.0   \n",
       "1                               95091.0   \n",
       "2                               18464.0   \n",
       "3                               95091.0   \n",
       "4                                4314.0   \n",
       "\n",
       "   unemployed people with 16 yrs and over  people in the labor force  \\\n",
       "0                                  1639.0                    20103.0   \n",
       "1                                  4226.0                    99317.0   \n",
       "2                                  1639.0                    20103.0   \n",
       "3                                  4226.0                    99317.0   \n",
       "4                                   102.0                     4416.0   \n",
       "\n",
       "   unemployment rate  people with a disability  people that are older than 65  \\\n",
       "0                8.2                    6747.0                         6959.0   \n",
       "1                4.3                   29935.0                        42531.0   \n",
       "2                8.2                    6747.0                         6959.0   \n",
       "3                4.3                   29935.0                        42531.0   \n",
       "4                2.3                    1094.0                         2222.0   \n",
       "\n",
       "   median household income  median age   % female  log private ins  \\\n",
       "0                  43672.0        35.5  49.424752        10.302465   \n",
       "1                  58320.0        43.0  51.371517        11.907923   \n",
       "2                  43672.0        35.5  49.424752        10.302465   \n",
       "3                  58320.0        43.0  51.371517        11.907923   \n",
       "4                  52323.0        44.6  48.101396         8.820109   \n",
       "\n",
       "   log public ins  log no ins        lat        lon  gini_index  \\\n",
       "0        9.543020    8.549079  30.659218 -87.746067      0.4498   \n",
       "1       11.250326    9.835155  30.659218 -87.746067      0.4498   \n",
       "2        9.543020    8.549079  30.659218 -87.746067      0.4498   \n",
       "3       11.250326    9.835155  30.659218 -87.746067      0.4498   \n",
       "4        8.215547    5.765191  33.771706 -85.822513      0.4692   \n",
       "\n",
       "   percent_no_internet  log amount  log population  predictions  outlier  \\\n",
       "0            17.868167   19.922324       12.315976    19.823405        0   \n",
       "1            17.868167   19.922324       12.315976    19.823405        0   \n",
       "2            17.868167   17.351070       10.711970    17.983184        0   \n",
       "3            17.868167   17.351070       10.711970    17.983184        0   \n",
       "4            23.464932   18.429622       11.640483    19.048435        0   \n",
       "\n",
       "   overfunded  underfunded  overall  log covid cases  log disabled  \\\n",
       "0           0            0        0         9.920689      8.816853   \n",
       "1           0            0        0         9.920689     10.306784   \n",
       "2           0            0        0         9.920689      8.816853   \n",
       "3           0            0        0         9.920689     10.306784   \n",
       "4           0            0        0         9.558318      6.997596   \n",
       "\n",
       "   log elderly  \n",
       "0     8.847791  \n",
       "1    10.657989  \n",
       "2     8.847791  \n",
       "3    10.657989  \n",
       "4     7.706163  "
      ]
     },
     "execution_count": 20,
     "metadata": {},
     "output_type": "execute_result"
    }
   ],
   "source": [
    "df.head()"
   ]
  },
  {
   "cell_type": "code",
   "execution_count": 137,
   "metadata": {},
   "outputs": [
    {
     "data": {
      "image/png": "[encoded data removed]",
      "text/plain": [
       "<Figure size 432x288 with 1 Axes>"
      ]
     },
     "metadata": {
      "needs_background": "light"
     },
     "output_type": "display_data"
    }
   ],
   "source": [
    "ax=sns.violinplot(x='overall', y='gini_index',data=df)\n",
    "ax.set_xticklabels(['underfunded','normal','overfunded'])\n",
    "plt.show()\n",
    "#sns.violinplot(x='overall', y='% asian',data=df)"
   ]
  },
  {
   "cell_type": "code",
   "execution_count": null,
   "metadata": {},
   "outputs": [],
   "source": []
  }
 ],
 "metadata": {
  "kernelspec": {
   "display_name": "Python 3",
   "language": "python",
   "name": "python3"
  },
  "language_info": {
   "codemirror_mode": {
    "name": "ipython",
    "version": 3
   },
   "file_extension": ".py",
   "mimetype": "text/x-python",
   "name": "python",
   "nbconvert_exporter": "python",
   "pygments_lexer": "ipython3",
   "version": "3.7.3"
  }
 },
 "nbformat": 4,
 "nbformat_minor": 2
}
